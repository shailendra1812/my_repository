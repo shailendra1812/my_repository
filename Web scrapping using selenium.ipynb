{
 "cells": [
  {
   "cell_type": "markdown",
   "metadata": {},
   "source": [
    "# WEB SCRAPPING ASSIGNMENT (2):"
   ]
  },
  {
   "cell_type": "code",
   "execution_count": 1,
   "metadata": {},
   "outputs": [
    {
     "name": "stdout",
     "output_type": "stream",
     "text": [
      "Requirement already satisfied: selenium in c:\\users\\hp\\anaconda3\\lib\\site-packages (3.141.0)\n",
      "Requirement already satisfied: urllib3 in c:\\users\\hp\\anaconda3\\lib\\site-packages (from selenium) (1.25.9)\n"
     ]
    }
   ],
   "source": [
    "! pip install selenium"
   ]
  },
  {
   "cell_type": "code",
   "execution_count": 2,
   "metadata": {},
   "outputs": [],
   "source": [
    "# import all the required liberay:\n",
    "\n",
    "import pandas as pd\n",
    "import selenium\n",
    "from selenium import webdriver\n"
   ]
  },
  {
   "cell_type": "markdown",
   "metadata": {},
   "source": [
    "QUESTION:1"
   ]
  },
  {
   "cell_type": "markdown",
   "metadata": {},
   "source": [
    "Write a python program to scrape data for “Data Analyst” Job position in “Bangalore” location. You have to scrape the job-title, job-location, company_name, experience_required. You have to scrape first 10 jobs data.\n",
    "This task will be done in following steps:"
   ]
  },
  {
   "cell_type": "markdown",
   "metadata": {},
   "source": [
    "1. first get the webpage https://www.naukri.com/"
   ]
  },
  {
   "cell_type": "code",
   "execution_count": 43,
   "metadata": {},
   "outputs": [],
   "source": [
    "# frist connect the to the webdriver:-\n",
    "\n",
    "driver=webdriver.Chrome(\"chromedriver.exe\")\n"
   ]
  },
  {
   "cell_type": "code",
   "execution_count": 44,
   "metadata": {},
   "outputs": [],
   "source": [
    "# get the url:-\n",
    "\n",
    "driver.get(\"https://www.naukri.com\")\n"
   ]
  },
  {
   "cell_type": "markdown",
   "metadata": {},
   "source": [
    "2. Enter “Data Analyst” in “Skill,Designations,Companies” field and enter “Bangalore” in “enter the location” field."
   ]
  },
  {
   "cell_type": "code",
   "execution_count": 45,
   "metadata": {},
   "outputs": [],
   "source": [
    "# finding the element for job search_bar:-\n",
    "    \n",
    "select_job=driver.find_element_by_id(\"qsb-keyword-sugg\")\n",
    "\n",
    "# Write inside the search_bar:-\n",
    "\n",
    "select_job.send_keys(\"Data Analyst\")"
   ]
  },
  {
   "cell_type": "code",
   "execution_count": 46,
   "metadata": {},
   "outputs": [],
   "source": [
    "# finding the element for location search_bar\n",
    "\n",
    "select_location=driver.find_element_by_id(\"qsb-location-sugg\")\n",
    "\n",
    "# write inside the search bar:-\n",
    "\n",
    "select_location.send_keys(\"Bangalore\")"
   ]
  },
  {
   "cell_type": "markdown",
   "metadata": {},
   "source": [
    "3. Then click the search button."
   ]
  },
  {
   "cell_type": "code",
   "execution_count": 47,
   "metadata": {},
   "outputs": [],
   "source": [
    "# Click on search button:-\n",
    "\n",
    "select_button=driver.find_element_by_xpath(\"//button[@class='btn']\")\n",
    "select_button.click()\n"
   ]
  },
  {
   "cell_type": "markdown",
   "metadata": {},
   "source": [
    "4. Then scrape the data for the first 10 jobs results you get."
   ]
  },
  {
   "cell_type": "code",
   "execution_count": 49,
   "metadata": {},
   "outputs": [
    {
     "name": "stdout",
     "output_type": "stream",
     "text": [
      "['Data Scientist / Data Analyst -Business Analyst', 'Data Analyst', 'Hiring For Data Analyst/ MIS Reporting Analyst - Bangalore', 'DA - Urgent Opening For Data Analyst BFSI Domain - Pan India', 'Data Analyst - Informatica MDM', 'Assistant Vice President - MIS & Reporting ( Business Data Analyst)', 'Data Analyst', 'Data Analyst', 'Data Analyst', 'Data Analyst']\n",
      "\n",
      "\n",
      "['Inflexion Analytix Private Limited', 'Applied Materials', 'PHARMACEUTICAL RESEARCH ASSOCIATES INDIA Pvt Ltd', 'Tata Consultancy Services Ltd.', 'Shell India Markets Private Limited', 'INTERTRUSTVITEOS CORPORATE AND FUND SERVICES PVT. LTD.', 'Myntra Designs Pvt. Ltd.', 'Myntra Designs Pvt. Ltd.', 'Myntra Designs Pvt. Ltd.', 'Myntra Designs Pvt. Ltd.']\n",
      "\n",
      "\n",
      "['0-3 Yrs', '7-10 Yrs', '2-4 Yrs', '4-9 Yrs', '6-9 Yrs', '12-18 Yrs', '3-6 Yrs', '3-6 Yrs', '4-9 Yrs', '4-8 Yrs']\n",
      "\n",
      "\n",
      "['Mumbai, Hyderabad/Secunderabad, Pune, Gurgaon/Gurugram, Chennai, Bangalore/Bengaluru', 'Bangalore/Bengaluru', 'Bangalore/Bengaluru', 'Kolkata, Hyderabad/Secunderabad, Pune, Ahmedabad, Chennai, Bangalore/Bengaluru, Delhi / NCR, Mumbai (All Areas)', 'Bangalore/Bengaluru', 'Mumbai, Bangalore/Bengaluru', 'Bangalore/Bengaluru', 'Bangalore/Bengaluru', 'Bangalore/Bengaluru', 'Bangalore/Bengaluru']\n"
     ]
    }
   ],
   "source": [
    "# scraping the job_title:-\n",
    "\n",
    "job=driver.find_elements_by_xpath(\"//a[@class='title fw500 ellipsis']\")\n",
    "job\n",
    "\n",
    "job_title=[] #print the job title.\n",
    "for i in job:\n",
    "    job_title.append(i.text)\n",
    "print(job_title[:10])\n",
    "\n",
    "print(\"\\n\")\n",
    "\n",
    "# scraping the company_name:-\n",
    "\n",
    "job=driver.find_elements_by_xpath(\"//a[@class='subTitle ellipsis fleft']\")\n",
    "job\n",
    "\n",
    "Company_Name=[] #print the company name.\n",
    "for i in job:\n",
    "    Company_Name.append(i.text)\n",
    "print(Company_Name[:10])\n",
    "\n",
    "print(\"\\n\")\n",
    "\n",
    "# scrapping the experience_required:-\n",
    "\n",
    "job=driver.find_elements_by_xpath(\"//li[@class='fleft grey-text br2 placeHolderLi experience']/span\")\n",
    "job\n",
    "\n",
    "Experience_Required=[] #print the required experience.\n",
    "for i in job:\n",
    "    Experience_Required.append(i.text)\n",
    "print(Experience_Required[:10])\n",
    "\n",
    "print(\"\\n\")\n",
    "\n",
    "# scraping the job location:-\n",
    "\n",
    "job=driver.find_elements_by_xpath(\"//li[@class='fleft grey-text br2 placeHolderLi location']\")\n",
    "job\n",
    "\n",
    "job_location=[] # print the job_location.\n",
    "for i in job:\n",
    "    job_location.append(i.text)\n",
    "print(job_location[:10])"
   ]
  },
  {
   "cell_type": "markdown",
   "metadata": {},
   "source": [
    "5. Finally create a dataframe of the scraped data?"
   ]
  },
  {
   "cell_type": "code",
   "execution_count": 50,
   "metadata": {},
   "outputs": [
    {
     "data": {
      "text/html": [
       "<div>\n",
       "<style scoped>\n",
       "    .dataframe tbody tr th:only-of-type {\n",
       "        vertical-align: middle;\n",
       "    }\n",
       "\n",
       "    .dataframe tbody tr th {\n",
       "        vertical-align: top;\n",
       "    }\n",
       "\n",
       "    .dataframe thead th {\n",
       "        text-align: right;\n",
       "    }\n",
       "</style>\n",
       "<table border=\"1\" class=\"dataframe\">\n",
       "  <thead>\n",
       "    <tr style=\"text-align: right;\">\n",
       "      <th></th>\n",
       "      <th>COMPANY_NAME</th>\n",
       "      <th>JOB_TITLE</th>\n",
       "      <th>EXPERIENCE_REQUIRED</th>\n",
       "      <th>JOB_LOCATION</th>\n",
       "    </tr>\n",
       "  </thead>\n",
       "  <tbody>\n",
       "    <tr>\n",
       "      <th>0</th>\n",
       "      <td>Inflexion Analytix Private Limited</td>\n",
       "      <td>Data Scientist / Data Analyst -Business Analyst</td>\n",
       "      <td>0-3 Yrs</td>\n",
       "      <td>Mumbai, Hyderabad/Secunderabad, Pune, Gurgaon/...</td>\n",
       "    </tr>\n",
       "    <tr>\n",
       "      <th>1</th>\n",
       "      <td>Applied Materials</td>\n",
       "      <td>Data Analyst</td>\n",
       "      <td>7-10 Yrs</td>\n",
       "      <td>Bangalore/Bengaluru</td>\n",
       "    </tr>\n",
       "    <tr>\n",
       "      <th>2</th>\n",
       "      <td>PHARMACEUTICAL RESEARCH ASSOCIATES INDIA Pvt Ltd</td>\n",
       "      <td>Hiring For Data Analyst/ MIS Reporting Analyst...</td>\n",
       "      <td>2-4 Yrs</td>\n",
       "      <td>Bangalore/Bengaluru</td>\n",
       "    </tr>\n",
       "    <tr>\n",
       "      <th>3</th>\n",
       "      <td>Tata Consultancy Services Ltd.</td>\n",
       "      <td>DA - Urgent Opening For Data Analyst BFSI Doma...</td>\n",
       "      <td>4-9 Yrs</td>\n",
       "      <td>Kolkata, Hyderabad/Secunderabad, Pune, Ahmedab...</td>\n",
       "    </tr>\n",
       "    <tr>\n",
       "      <th>4</th>\n",
       "      <td>Shell India Markets Private Limited</td>\n",
       "      <td>Data Analyst - Informatica MDM</td>\n",
       "      <td>6-9 Yrs</td>\n",
       "      <td>Bangalore/Bengaluru</td>\n",
       "    </tr>\n",
       "    <tr>\n",
       "      <th>5</th>\n",
       "      <td>INTERTRUSTVITEOS CORPORATE AND FUND SERVICES P...</td>\n",
       "      <td>Assistant Vice President - MIS &amp; Reporting ( B...</td>\n",
       "      <td>12-18 Yrs</td>\n",
       "      <td>Mumbai, Bangalore/Bengaluru</td>\n",
       "    </tr>\n",
       "    <tr>\n",
       "      <th>6</th>\n",
       "      <td>Myntra Designs Pvt. Ltd.</td>\n",
       "      <td>Data Analyst</td>\n",
       "      <td>3-6 Yrs</td>\n",
       "      <td>Bangalore/Bengaluru</td>\n",
       "    </tr>\n",
       "    <tr>\n",
       "      <th>7</th>\n",
       "      <td>Myntra Designs Pvt. Ltd.</td>\n",
       "      <td>Data Analyst</td>\n",
       "      <td>3-6 Yrs</td>\n",
       "      <td>Bangalore/Bengaluru</td>\n",
       "    </tr>\n",
       "    <tr>\n",
       "      <th>8</th>\n",
       "      <td>Myntra Designs Pvt. Ltd.</td>\n",
       "      <td>Data Analyst</td>\n",
       "      <td>4-9 Yrs</td>\n",
       "      <td>Bangalore/Bengaluru</td>\n",
       "    </tr>\n",
       "    <tr>\n",
       "      <th>9</th>\n",
       "      <td>Myntra Designs Pvt. Ltd.</td>\n",
       "      <td>Data Analyst</td>\n",
       "      <td>4-8 Yrs</td>\n",
       "      <td>Bangalore/Bengaluru</td>\n",
       "    </tr>\n",
       "  </tbody>\n",
       "</table>\n",
       "</div>"
      ],
      "text/plain": [
       "                                        COMPANY_NAME  \\\n",
       "0                 Inflexion Analytix Private Limited   \n",
       "1                                  Applied Materials   \n",
       "2   PHARMACEUTICAL RESEARCH ASSOCIATES INDIA Pvt Ltd   \n",
       "3                     Tata Consultancy Services Ltd.   \n",
       "4                Shell India Markets Private Limited   \n",
       "5  INTERTRUSTVITEOS CORPORATE AND FUND SERVICES P...   \n",
       "6                           Myntra Designs Pvt. Ltd.   \n",
       "7                           Myntra Designs Pvt. Ltd.   \n",
       "8                           Myntra Designs Pvt. Ltd.   \n",
       "9                           Myntra Designs Pvt. Ltd.   \n",
       "\n",
       "                                           JOB_TITLE EXPERIENCE_REQUIRED  \\\n",
       "0    Data Scientist / Data Analyst -Business Analyst             0-3 Yrs   \n",
       "1                                       Data Analyst            7-10 Yrs   \n",
       "2  Hiring For Data Analyst/ MIS Reporting Analyst...             2-4 Yrs   \n",
       "3  DA - Urgent Opening For Data Analyst BFSI Doma...             4-9 Yrs   \n",
       "4                     Data Analyst - Informatica MDM             6-9 Yrs   \n",
       "5  Assistant Vice President - MIS & Reporting ( B...           12-18 Yrs   \n",
       "6                                       Data Analyst             3-6 Yrs   \n",
       "7                                       Data Analyst             3-6 Yrs   \n",
       "8                                       Data Analyst             4-9 Yrs   \n",
       "9                                       Data Analyst             4-8 Yrs   \n",
       "\n",
       "                                        JOB_LOCATION  \n",
       "0  Mumbai, Hyderabad/Secunderabad, Pune, Gurgaon/...  \n",
       "1                                Bangalore/Bengaluru  \n",
       "2                                Bangalore/Bengaluru  \n",
       "3  Kolkata, Hyderabad/Secunderabad, Pune, Ahmedab...  \n",
       "4                                Bangalore/Bengaluru  \n",
       "5                        Mumbai, Bangalore/Bengaluru  \n",
       "6                                Bangalore/Bengaluru  \n",
       "7                                Bangalore/Bengaluru  \n",
       "8                                Bangalore/Bengaluru  \n",
       "9                                Bangalore/Bengaluru  "
      ]
     },
     "execution_count": 50,
     "metadata": {},
     "output_type": "execute_result"
    }
   ],
   "source": [
    "# create the dataframe of scraped data:-\n",
    "job=pd.DataFrame({})\n",
    "job[\"COMPANY_NAME\"]=Company_Name[:10]\n",
    "job[\"JOB_TITLE\"]=job_title[:10]\n",
    "job[\"EXPERIENCE_REQUIRED\"]=Experience_Required[:10]\n",
    "job[\"JOB_LOCATION\"]=job_location[:10]\n",
    "\n",
    "job # print the dataframe."
   ]
  },
  {
   "cell_type": "markdown",
   "metadata": {},
   "source": [
    "# Question:2"
   ]
  },
  {
   "cell_type": "markdown",
   "metadata": {},
   "source": [
    "Q2: Write a python program to scrape data for “Data Scientist” Job position in “Bangalore” location. You have to scrape the job-title, job-location, company_name, full job-description. You have to scrape first 10 jobs data."
   ]
  },
  {
   "cell_type": "markdown",
   "metadata": {},
   "source": [
    "1. first get the webpage https://www.naukri.com/"
   ]
  },
  {
   "cell_type": "code",
   "execution_count": 51,
   "metadata": {},
   "outputs": [],
   "source": [
    "# frist connect the to the webdriver:-\n",
    "\n",
    "driver=webdriver.Chrome(\"chromedriver.exe\")\n"
   ]
  },
  {
   "cell_type": "code",
   "execution_count": 52,
   "metadata": {},
   "outputs": [],
   "source": [
    "# get the url:-\n",
    "\n",
    "driver.get(\"https://www.naukri.com/\")\n"
   ]
  },
  {
   "cell_type": "markdown",
   "metadata": {},
   "source": [
    "2. Enter “Data Scientist” in “Skill,Designations,Companies” field and enter “Bangalore” in “enter the location” field."
   ]
  },
  {
   "cell_type": "code",
   "execution_count": 53,
   "metadata": {},
   "outputs": [],
   "source": [
    "# finding the job search bar:-\n",
    "\n",
    "select_job=driver.find_element_by_id(\"qsb-keyword-sugg\")\n",
    "\n",
    "# print the job name inside the search bar:-\n",
    "\n",
    "select_job.send_keys(\"Data Scientist\")\n"
   ]
  },
  {
   "cell_type": "code",
   "execution_count": 54,
   "metadata": {},
   "outputs": [],
   "source": [
    "# finding the location serch bar:-\n",
    "\n",
    "select_location=driver.find_element_by_id(\"qsb-location-sugg\")\n",
    "\n",
    "# print the location inside the search bar:-\n",
    "\n",
    "select_location.send_keys(\"Bangalore\")"
   ]
  },
  {
   "cell_type": "markdown",
   "metadata": {},
   "source": [
    "3. Then click the search button."
   ]
  },
  {
   "cell_type": "code",
   "execution_count": 55,
   "metadata": {},
   "outputs": [],
   "source": [
    "# making click on search button:-\n",
    "\n",
    "select_button=driver.find_element_by_xpath(\"//button[@class='btn']\")\n",
    "select_button.click()\n"
   ]
  },
  {
   "cell_type": "markdown",
   "metadata": {},
   "source": [
    "4. Then scrape the data for the first 10 jobs results you get."
   ]
  },
  {
   "cell_type": "code",
   "execution_count": 64,
   "metadata": {},
   "outputs": [
    {
     "name": "stdout",
     "output_type": "stream",
     "text": [
      "['Data Scientist / Data Analyst -Business Analyst', 'Senior Data Scientist, Modeling', 'Data Scientist - IBM Garage', 'Data Scientist', 'Senior Data Scientist - Credit risk', 'Big Data - Data Scientist', 'Specialist I - Data Scientist', 'Data Scientist', 'Lead Data Scientist', 'SDE Lead Data Scientist-L3', 'Computational Design Lead Data Scientist-L3', 'Hiring For DATA Scientist - ON Contract Basis (3-6 Months)', 'Senior Data Scientist - Chatbot & NLP', 'Senior Data Scientist - Chatbot & NLP', 'Sr. Data Scientist', 'Senior Data Scientist', 'Senior Data Scientist - Kinara Capital', 'Senior Data Scientist, Marketing Analytics', 'Data Scientist', 'Hiring For Lead data Scientist For Bangalore location']\n",
      "\n",
      "\n",
      "['Mumbai, Hyderabad/Secunderabad, Pune, Gurgaon/Gurugram, Chennai, Bangalore/Bengaluru', 'Kolkata, Gurgaon/Gurugram, Bangalore/Bengaluru, Vadodara, Mumbai (All Areas)', 'Noida, Hyderabad/Secunderabad, Bangalore/Bengaluru', 'Noida, Hyderabad/Secunderabad, Bangalore/Bengaluru', 'Bangalore/Bengaluru', 'Kochi/Cochin, Indore, Hyderabad/Secunderabad, Pune, Ahmedabad, Bangalore/Bengaluru, Mumbai (All Areas)', 'Bangalore/Bengaluru', 'Bangalore/Bengaluru', 'Bangalore/Bengaluru', 'Bangalore/Bengaluru']\n",
      "\n",
      "\n",
      "['Inflexion Analytix Private Limited', 'Nielsen', 'IBM India Pvt. Limited', 'IBM India Pvt. Limited', 'Scienaptic Systems', 'Xoriant Solutions Pvt Ltd', 'Philips India Limited', 'IBM India Pvt. Limited', 'Intel Technology India Pvt Ltd', 'Huawei Technologies India Pvt Ltd']\n",
      "\n",
      "\n",
      "['Applications invited from all Freshers and experienced candidates (0-3 yrs) aspiring to...', 'Masters degree in Economics, Mathematics, Statistics, Engineering 5 years of relevant e...', 'Required Technical and Professional ExpertisePreferred Technical and Professional Exper...', 'Should have hired and nurtured talent and grow them in market facing specialists and co...', 'Responsibilities and duties Focus on developing clear and concise analytical approach f...', 'High motivation, good work ethic and maturityMinimum 1-3 yrs of proven project experien...', 'Responsibilities and Key Result Areas Design and develop project prototypes and solutio...', 'modeling and business system design with experience in relational SQL and NoSQL databas...', 'Experience in using data analysis techniques and ML methods like classification, regres...', 'Strong hands-on experience in implementing and validating big data algorithms and model...']\n"
     ]
    }
   ],
   "source": [
    "# scrapped the job title from the url:-\n",
    "\n",
    "job=driver.find_elements_by_xpath(\"//a[@class='title fw500 ellipsis']\")\n",
    "job\n",
    "\n",
    "job_title=[] # print the job_title.\n",
    "for i in job:\n",
    "    job_title.append(i.text)\n",
    "print(job_title)\n",
    "\n",
    "print(\"\\n\")\n",
    "\n",
    "# scraped the job location:-\n",
    "\n",
    "job=driver.find_elements_by_xpath(\"//li[@class='fleft grey-text br2 placeHolderLi location']/span\")\n",
    "job\n",
    "\n",
    "job_location=[] # print the job location.\n",
    "for i in job:\n",
    "    job_location.append(i.text)\n",
    "print(job_location[:10])\n",
    "\n",
    "print(\"\\n\")\n",
    "\n",
    "# scraped the company_name:-\n",
    "\n",
    "job=driver.find_elements_by_xpath(\"//a[@class='subTitle ellipsis fleft']\")\n",
    "job\n",
    "\n",
    "Company_Name=[] # print the company name.\n",
    "for i in job:\n",
    "    Company_Name.append(i.text)\n",
    "print(Company_Name[:10])\n",
    "\n",
    "print(\"\\n\")\n",
    "\n",
    "# scraped the job description:-\n",
    "\n",
    "job=driver.find_elements_by_xpath(\"//div[@class='job-description fs12 grey-text']\")\n",
    "job\n",
    "\n",
    "job_description=[] # print job description.\n",
    "for i in job:\n",
    "    job_description.append(i.text)\n",
    "print(job_description[:10])    "
   ]
  },
  {
   "cell_type": "markdown",
   "metadata": {},
   "source": [
    "5. Finally create a dataframe of the scraped data."
   ]
  },
  {
   "cell_type": "code",
   "execution_count": 65,
   "metadata": {},
   "outputs": [
    {
     "data": {
      "text/html": [
       "<div>\n",
       "<style scoped>\n",
       "    .dataframe tbody tr th:only-of-type {\n",
       "        vertical-align: middle;\n",
       "    }\n",
       "\n",
       "    .dataframe tbody tr th {\n",
       "        vertical-align: top;\n",
       "    }\n",
       "\n",
       "    .dataframe thead th {\n",
       "        text-align: right;\n",
       "    }\n",
       "</style>\n",
       "<table border=\"1\" class=\"dataframe\">\n",
       "  <thead>\n",
       "    <tr style=\"text-align: right;\">\n",
       "      <th></th>\n",
       "      <th>COMPANY_NAME</th>\n",
       "      <th>JOB_TITLE</th>\n",
       "      <th>JOB_DESCRIPTION</th>\n",
       "      <th>JOB_LOCATION</th>\n",
       "    </tr>\n",
       "  </thead>\n",
       "  <tbody>\n",
       "    <tr>\n",
       "      <th>0</th>\n",
       "      <td>Inflexion Analytix Private Limited</td>\n",
       "      <td>Mumbai, Hyderabad/Secunderabad, Pune, Gurgaon/...</td>\n",
       "      <td>Applications invited from all Freshers and exp...</td>\n",
       "      <td>Mumbai, Hyderabad/Secunderabad, Pune, Gurgaon/...</td>\n",
       "    </tr>\n",
       "    <tr>\n",
       "      <th>1</th>\n",
       "      <td>Nielsen</td>\n",
       "      <td>Kolkata, Gurgaon/Gurugram, Bangalore/Bengaluru...</td>\n",
       "      <td>Masters degree in Economics, Mathematics, Stat...</td>\n",
       "      <td>Kolkata, Gurgaon/Gurugram, Bangalore/Bengaluru...</td>\n",
       "    </tr>\n",
       "    <tr>\n",
       "      <th>2</th>\n",
       "      <td>IBM India Pvt. Limited</td>\n",
       "      <td>Noida, Hyderabad/Secunderabad, Bangalore/Benga...</td>\n",
       "      <td>Required Technical and Professional ExpertiseP...</td>\n",
       "      <td>Noida, Hyderabad/Secunderabad, Bangalore/Benga...</td>\n",
       "    </tr>\n",
       "    <tr>\n",
       "      <th>3</th>\n",
       "      <td>IBM India Pvt. Limited</td>\n",
       "      <td>Noida, Hyderabad/Secunderabad, Bangalore/Benga...</td>\n",
       "      <td>Should have hired and nurtured talent and grow...</td>\n",
       "      <td>Noida, Hyderabad/Secunderabad, Bangalore/Benga...</td>\n",
       "    </tr>\n",
       "    <tr>\n",
       "      <th>4</th>\n",
       "      <td>Scienaptic Systems</td>\n",
       "      <td>Bangalore/Bengaluru</td>\n",
       "      <td>Responsibilities and duties Focus on developin...</td>\n",
       "      <td>Bangalore/Bengaluru</td>\n",
       "    </tr>\n",
       "    <tr>\n",
       "      <th>5</th>\n",
       "      <td>Xoriant Solutions Pvt Ltd</td>\n",
       "      <td>Kochi/Cochin, Indore, Hyderabad/Secunderabad, ...</td>\n",
       "      <td>High motivation, good work ethic and maturityM...</td>\n",
       "      <td>Kochi/Cochin, Indore, Hyderabad/Secunderabad, ...</td>\n",
       "    </tr>\n",
       "    <tr>\n",
       "      <th>6</th>\n",
       "      <td>Philips India Limited</td>\n",
       "      <td>Bangalore/Bengaluru</td>\n",
       "      <td>Responsibilities and Key Result Areas Design a...</td>\n",
       "      <td>Bangalore/Bengaluru</td>\n",
       "    </tr>\n",
       "    <tr>\n",
       "      <th>7</th>\n",
       "      <td>IBM India Pvt. Limited</td>\n",
       "      <td>Bangalore/Bengaluru</td>\n",
       "      <td>modeling and business system design with exper...</td>\n",
       "      <td>Bangalore/Bengaluru</td>\n",
       "    </tr>\n",
       "    <tr>\n",
       "      <th>8</th>\n",
       "      <td>Intel Technology India Pvt Ltd</td>\n",
       "      <td>Bangalore/Bengaluru</td>\n",
       "      <td>Experience in using data analysis techniques a...</td>\n",
       "      <td>Bangalore/Bengaluru</td>\n",
       "    </tr>\n",
       "    <tr>\n",
       "      <th>9</th>\n",
       "      <td>Huawei Technologies India Pvt Ltd</td>\n",
       "      <td>Bangalore/Bengaluru</td>\n",
       "      <td>Strong hands-on experience in implementing and...</td>\n",
       "      <td>Bangalore/Bengaluru</td>\n",
       "    </tr>\n",
       "  </tbody>\n",
       "</table>\n",
       "</div>"
      ],
      "text/plain": [
       "                         COMPANY_NAME  \\\n",
       "0  Inflexion Analytix Private Limited   \n",
       "1                             Nielsen   \n",
       "2              IBM India Pvt. Limited   \n",
       "3              IBM India Pvt. Limited   \n",
       "4                  Scienaptic Systems   \n",
       "5           Xoriant Solutions Pvt Ltd   \n",
       "6               Philips India Limited   \n",
       "7              IBM India Pvt. Limited   \n",
       "8      Intel Technology India Pvt Ltd   \n",
       "9   Huawei Technologies India Pvt Ltd   \n",
       "\n",
       "                                           JOB_TITLE  \\\n",
       "0  Mumbai, Hyderabad/Secunderabad, Pune, Gurgaon/...   \n",
       "1  Kolkata, Gurgaon/Gurugram, Bangalore/Bengaluru...   \n",
       "2  Noida, Hyderabad/Secunderabad, Bangalore/Benga...   \n",
       "3  Noida, Hyderabad/Secunderabad, Bangalore/Benga...   \n",
       "4                                Bangalore/Bengaluru   \n",
       "5  Kochi/Cochin, Indore, Hyderabad/Secunderabad, ...   \n",
       "6                                Bangalore/Bengaluru   \n",
       "7                                Bangalore/Bengaluru   \n",
       "8                                Bangalore/Bengaluru   \n",
       "9                                Bangalore/Bengaluru   \n",
       "\n",
       "                                     JOB_DESCRIPTION  \\\n",
       "0  Applications invited from all Freshers and exp...   \n",
       "1  Masters degree in Economics, Mathematics, Stat...   \n",
       "2  Required Technical and Professional ExpertiseP...   \n",
       "3  Should have hired and nurtured talent and grow...   \n",
       "4  Responsibilities and duties Focus on developin...   \n",
       "5  High motivation, good work ethic and maturityM...   \n",
       "6  Responsibilities and Key Result Areas Design a...   \n",
       "7  modeling and business system design with exper...   \n",
       "8  Experience in using data analysis techniques a...   \n",
       "9  Strong hands-on experience in implementing and...   \n",
       "\n",
       "                                        JOB_LOCATION  \n",
       "0  Mumbai, Hyderabad/Secunderabad, Pune, Gurgaon/...  \n",
       "1  Kolkata, Gurgaon/Gurugram, Bangalore/Bengaluru...  \n",
       "2  Noida, Hyderabad/Secunderabad, Bangalore/Benga...  \n",
       "3  Noida, Hyderabad/Secunderabad, Bangalore/Benga...  \n",
       "4                                Bangalore/Bengaluru  \n",
       "5  Kochi/Cochin, Indore, Hyderabad/Secunderabad, ...  \n",
       "6                                Bangalore/Bengaluru  \n",
       "7                                Bangalore/Bengaluru  \n",
       "8                                Bangalore/Bengaluru  \n",
       "9                                Bangalore/Bengaluru  "
      ]
     },
     "execution_count": 65,
     "metadata": {},
     "output_type": "execute_result"
    }
   ],
   "source": [
    "# create the dataframe of scraped data:-\n",
    "job=pd.DataFrame({})\n",
    "\n",
    "job[\"COMPANY_NAME\"]=Company_Name[:10]\n",
    "job[\"JOB_TITLE\"]=job_location[:10]\n",
    "job[\"JOB_DESCRIPTION\"]=job_description[:10]\n",
    "job[\"JOB_LOCATION\"]=job_location[:10]\n",
    "\n",
    "# print the job dataframe.\n",
    "job"
   ]
  },
  {
   "cell_type": "markdown",
   "metadata": {},
   "source": [
    "# Question:3"
   ]
  },
  {
   "cell_type": "markdown",
   "metadata": {},
   "source": [
    "Q3: In this question you have to scrape data using the filters available on the webpage as shown below:"
   ]
  },
  {
   "cell_type": "markdown",
   "metadata": {},
   "source": [
    "You have to use the location and salary filter.\n",
    "\n",
    "You have to scrape data for “Data Scientist” designation for first 10 job results.\n",
    "\n",
    "You have to scrape the job-title, job-location, company_name, experience_required.\n",
    "\n",
    "The location filter to be used is “Delhi/NCR”\n",
    "\n",
    "The salary filter to be used is “3-6” lakhs\n",
    "\n",
    "The task will be done as shown in the below steps:\n",
    "    \n",
    "1. first get the webpage https://www.naukri.com/"
   ]
  },
  {
   "cell_type": "code",
   "execution_count": 33,
   "metadata": {},
   "outputs": [],
   "source": [
    "# connected to the web driver:-\n",
    "\n",
    "driver=webdriver.Chrome(\"chromedriver.exe\")\n"
   ]
  },
  {
   "cell_type": "code",
   "execution_count": 34,
   "metadata": {},
   "outputs": [],
   "source": [
    "# search the given url inside the web driver:-\n",
    "\n",
    "driver.get(\"https://www.naukri.com/\")\n"
   ]
  },
  {
   "cell_type": "markdown",
   "metadata": {},
   "source": [
    "2. Enter “Data Scientist” in “Skill,Designations,Companies” field ."
   ]
  },
  {
   "cell_type": "code",
   "execution_count": 35,
   "metadata": {},
   "outputs": [],
   "source": [
    "# find the job search_bar:-\n",
    "\n",
    "select_job=driver.find_element_by_id(\"qsb-keyword-sugg\")\n",
    "select_job.send_keys(\"Data Scientist\")\n",
    "\n",
    "# make click on search button:-\n",
    "\n",
    "select_button=driver.find_element_by_xpath(\"//button[@class='btn']\")\n",
    "select_button.click()\n"
   ]
  },
  {
   "cell_type": "markdown",
   "metadata": {},
   "source": [
    "4. Then apply the location filter and salary filter by checking the respective boxes"
   ]
  },
  {
   "cell_type": "code",
   "execution_count": 36,
   "metadata": {},
   "outputs": [],
   "source": [
    "# filter job location:-\n",
    "\n",
    "filter_location=driver.find_element_by_xpath(\"/html/body/div[1]/div[3]/div[2]/section[1]/div[2]/div[2]/div[2]/div[2]/label/p/span[1]\")\n",
    "filter_location.click()\n"
   ]
  },
  {
   "cell_type": "code",
   "execution_count": 37,
   "metadata": {},
   "outputs": [],
   "source": [
    "# filter salary pakage:-\n",
    "\n",
    "filter_salary=driver.find_element_by_xpath(\"/html/body/div[1]/div[3]/div[2]/section[1]/div[2]/div[3]/div[2]/div[2]/label/p/span[1]\")\n",
    "filter_salary.click()\n"
   ]
  },
  {
   "cell_type": "markdown",
   "metadata": {},
   "source": [
    "4. Then scrape the data for the first 10 jobs results you get."
   ]
  },
  {
   "cell_type": "code",
   "execution_count": 52,
   "metadata": {},
   "outputs": [
    {
     "name": "stdout",
     "output_type": "stream",
     "text": [
      "['Data Scientist / Data Analyst -Business Analyst', 'Business Analyst- Data Scientist', 'Data Scientist - High growth VC backed Influencer Marketplace', 'Excellent opportunity For Data Scientist', 'Data Scientist', 'DATA Scientist – Gurgaon (Exp 3-6 years)', 'DATA Scientist – Gurgaon (Exp 3-6 years)', 'Data Scientist - Noida', 'Data Scientist', \"Data Scientist - Noida/ B'lore\"]\n",
      "\n",
      "\n",
      "['Inflexion Analytix Private Limited', 'Wipro', 'Ravgins International Pvt. Ltd.', 'NEC CORPORATION INDIA PRIVATE LIMITED', 'Mobikwik', 'CRESCENDO GLOBAL LEADERSHIP HIRING INDIA PRIVATE L IMITED', 'CRESCENDO GLOBAL LEADERSHIP HIRING INDIA PRIVATE L IMITED', 'Optum Global Solutions (India) Private Limited', 'Country Veggie', 'NEC CORPORATION INDIA PRIVATE LIMITED']\n",
      "\n",
      "\n",
      "['0-3 Yrs', '2-5 Yrs', '3-5 Yrs', '3-7 Yrs', '3-5 Yrs', '3-6 Yrs', '3-6 Yrs', '3-5 Yrs', '1-3 Yrs', '3-8 Yrs']\n",
      "\n",
      "\n",
      "['Mumbai, Hyderabad/Secunderabad, Pune, Gurgaon/Gurugram, Chennai, Bangalore/Bengaluru', 'Noida, Gurgaon/Gurugram', 'Bangalore/Bengaluru, Delhi / NCR, Mumbai (All Areas)', 'Noida, Bangalore/Bengaluru', 'New Delhi, Gurgaon/Gurugram, Delhi / NCR', 'Gurgaon/Gurugram, Delhi / NCR', 'Gurgaon/Gurugram, Delhi / NCR', 'Noida', 'Bharuch, Jaipur, Bhopal, Mumbai, Jhansi, Nagpur, Ghaziabad, Jaunpur, Kanpur, New Delhi, Lucknow, Agra, Gurgaon/Gurugram, Rajkot, Bangalore/Bengaluru', 'Noida, Bangalore/Bengaluru']\n"
     ]
    }
   ],
   "source": [
    "# scraped the job_title:-\n",
    "\n",
    "job=driver.find_elements_by_xpath(\"//a[@class='title fw500 ellipsis']\")\n",
    "job\n",
    "\n",
    "job_title=[] # print the job_title.\n",
    "for i in job:\n",
    "    job_title.append(i.text)\n",
    "print(job_title[:10])\n",
    "\n",
    "print(\"\\n\")\n",
    "\n",
    "# scraped the company_name:-\n",
    "\n",
    "job=driver.find_elements_by_xpath(\"//a[@class='subTitle ellipsis fleft']\")\n",
    "job\n",
    "\n",
    "Company_Name=[] #print the company name:-\n",
    "for i in job:\n",
    "    Company_Name.append(i.text)\n",
    "print(Company_Name[:10])\n",
    "\n",
    "print(\"\\n\")\n",
    "\n",
    "# scraped the experience required:-\n",
    "\n",
    "job=driver.find_elements_by_xpath(\"//li[@class='fleft grey-text br2 placeHolderLi experience']/span\")\n",
    "job\n",
    "\n",
    "Experience_Required=[] # print the experience required.\n",
    "for i in job:\n",
    "    Experience_Required.append(i.text)\n",
    "print(Experience_Required[:10])\n",
    "\n",
    "print(\"\\n\")\n",
    "\n",
    "# scraped job_location:-\n",
    "\n",
    "job=driver.find_elements_by_xpath(\"//li[@class='fleft grey-text br2 placeHolderLi location']/span\")\n",
    "job\n",
    "\n",
    "job_location=[] # print job_location.\n",
    "for i in job:\n",
    "    job_location.append(i.text)\n",
    "print(job_location[:10])"
   ]
  },
  {
   "cell_type": "markdown",
   "metadata": {},
   "source": [
    "5. Finally create a dataframe of the scraped data."
   ]
  },
  {
   "cell_type": "code",
   "execution_count": 49,
   "metadata": {},
   "outputs": [
    {
     "data": {
      "text/html": [
       "<div>\n",
       "<style scoped>\n",
       "    .dataframe tbody tr th:only-of-type {\n",
       "        vertical-align: middle;\n",
       "    }\n",
       "\n",
       "    .dataframe tbody tr th {\n",
       "        vertical-align: top;\n",
       "    }\n",
       "\n",
       "    .dataframe thead th {\n",
       "        text-align: right;\n",
       "    }\n",
       "</style>\n",
       "<table border=\"1\" class=\"dataframe\">\n",
       "  <thead>\n",
       "    <tr style=\"text-align: right;\">\n",
       "      <th></th>\n",
       "      <th>COMPANY_NAME</th>\n",
       "      <th>JOB_TITLE</th>\n",
       "      <th>EXPERIENCE_REQUIRED</th>\n",
       "      <th>JOB_LOCATION</th>\n",
       "    </tr>\n",
       "  </thead>\n",
       "  <tbody>\n",
       "    <tr>\n",
       "      <th>0</th>\n",
       "      <td>Inflexion Analytix Private Limited</td>\n",
       "      <td>Data Scientist / Data Analyst -Business Analyst</td>\n",
       "      <td>0-3 Yrs</td>\n",
       "      <td>Mumbai, Hyderabad/Secunderabad, Pune, Gurgaon/...</td>\n",
       "    </tr>\n",
       "    <tr>\n",
       "      <th>1</th>\n",
       "      <td>Wipro</td>\n",
       "      <td>Business Analyst- Data Scientist</td>\n",
       "      <td>2-5 Yrs</td>\n",
       "      <td>Noida, Gurgaon/Gurugram</td>\n",
       "    </tr>\n",
       "    <tr>\n",
       "      <th>2</th>\n",
       "      <td>Ravgins International Pvt. Ltd.</td>\n",
       "      <td>Data Scientist - High growth VC backed Influen...</td>\n",
       "      <td>3-5 Yrs</td>\n",
       "      <td>Bangalore/Bengaluru, Delhi / NCR, Mumbai (All ...</td>\n",
       "    </tr>\n",
       "    <tr>\n",
       "      <th>3</th>\n",
       "      <td>NEC CORPORATION INDIA PRIVATE LIMITED</td>\n",
       "      <td>Excellent opportunity For Data Scientist</td>\n",
       "      <td>3-7 Yrs</td>\n",
       "      <td>Noida, Bangalore/Bengaluru</td>\n",
       "    </tr>\n",
       "    <tr>\n",
       "      <th>4</th>\n",
       "      <td>Mobikwik</td>\n",
       "      <td>Data Scientist</td>\n",
       "      <td>3-5 Yrs</td>\n",
       "      <td>New Delhi, Gurgaon/Gurugram, Delhi / NCR</td>\n",
       "    </tr>\n",
       "    <tr>\n",
       "      <th>5</th>\n",
       "      <td>CRESCENDO GLOBAL LEADERSHIP HIRING INDIA PRIVA...</td>\n",
       "      <td>DATA Scientist – Gurgaon (Exp 3-6 years)</td>\n",
       "      <td>3-6 Yrs</td>\n",
       "      <td>Gurgaon/Gurugram, Delhi / NCR</td>\n",
       "    </tr>\n",
       "    <tr>\n",
       "      <th>6</th>\n",
       "      <td>CRESCENDO GLOBAL LEADERSHIP HIRING INDIA PRIVA...</td>\n",
       "      <td>DATA Scientist – Gurgaon (Exp 3-6 years)</td>\n",
       "      <td>3-6 Yrs</td>\n",
       "      <td>Gurgaon/Gurugram, Delhi / NCR</td>\n",
       "    </tr>\n",
       "    <tr>\n",
       "      <th>7</th>\n",
       "      <td>Optum Global Solutions (India) Private Limited</td>\n",
       "      <td>Data Scientist - Noida</td>\n",
       "      <td>3-5 Yrs</td>\n",
       "      <td>Noida</td>\n",
       "    </tr>\n",
       "    <tr>\n",
       "      <th>8</th>\n",
       "      <td>Country Veggie</td>\n",
       "      <td>Data Scientist</td>\n",
       "      <td>1-3 Yrs</td>\n",
       "      <td>Bharuch, Jaipur, Bhopal, Mumbai, Jhansi, Nagpu...</td>\n",
       "    </tr>\n",
       "    <tr>\n",
       "      <th>9</th>\n",
       "      <td>NEC CORPORATION INDIA PRIVATE LIMITED</td>\n",
       "      <td>Data Scientist - Noida/ B'lore</td>\n",
       "      <td>3-8 Yrs</td>\n",
       "      <td>Noida, Bangalore/Bengaluru</td>\n",
       "    </tr>\n",
       "  </tbody>\n",
       "</table>\n",
       "</div>"
      ],
      "text/plain": [
       "                                        COMPANY_NAME  \\\n",
       "0                 Inflexion Analytix Private Limited   \n",
       "1                                              Wipro   \n",
       "2                    Ravgins International Pvt. Ltd.   \n",
       "3              NEC CORPORATION INDIA PRIVATE LIMITED   \n",
       "4                                           Mobikwik   \n",
       "5  CRESCENDO GLOBAL LEADERSHIP HIRING INDIA PRIVA...   \n",
       "6  CRESCENDO GLOBAL LEADERSHIP HIRING INDIA PRIVA...   \n",
       "7     Optum Global Solutions (India) Private Limited   \n",
       "8                                     Country Veggie   \n",
       "9              NEC CORPORATION INDIA PRIVATE LIMITED   \n",
       "\n",
       "                                           JOB_TITLE EXPERIENCE_REQUIRED  \\\n",
       "0    Data Scientist / Data Analyst -Business Analyst             0-3 Yrs   \n",
       "1                   Business Analyst- Data Scientist             2-5 Yrs   \n",
       "2  Data Scientist - High growth VC backed Influen...             3-5 Yrs   \n",
       "3           Excellent opportunity For Data Scientist             3-7 Yrs   \n",
       "4                                     Data Scientist             3-5 Yrs   \n",
       "5           DATA Scientist – Gurgaon (Exp 3-6 years)             3-6 Yrs   \n",
       "6           DATA Scientist – Gurgaon (Exp 3-6 years)             3-6 Yrs   \n",
       "7                             Data Scientist - Noida             3-5 Yrs   \n",
       "8                                     Data Scientist             1-3 Yrs   \n",
       "9                     Data Scientist - Noida/ B'lore             3-8 Yrs   \n",
       "\n",
       "                                        JOB_LOCATION  \n",
       "0  Mumbai, Hyderabad/Secunderabad, Pune, Gurgaon/...  \n",
       "1                            Noida, Gurgaon/Gurugram  \n",
       "2  Bangalore/Bengaluru, Delhi / NCR, Mumbai (All ...  \n",
       "3                         Noida, Bangalore/Bengaluru  \n",
       "4           New Delhi, Gurgaon/Gurugram, Delhi / NCR  \n",
       "5                      Gurgaon/Gurugram, Delhi / NCR  \n",
       "6                      Gurgaon/Gurugram, Delhi / NCR  \n",
       "7                                              Noida  \n",
       "8  Bharuch, Jaipur, Bhopal, Mumbai, Jhansi, Nagpu...  \n",
       "9                         Noida, Bangalore/Bengaluru  "
      ]
     },
     "execution_count": 49,
     "metadata": {},
     "output_type": "execute_result"
    }
   ],
   "source": [
    "# create the dataframe of scraped data:-\n",
    "job=pd.DataFrame({})\n",
    "\n",
    "job[\"COMPANY_NAME\"]=Company_Name[:10]\n",
    "job[\"JOB_TITLE\"]=job_title[:10]\n",
    "job[\"EXPERIENCE_REQUIRED\"]=Experience_Required[:10]\n",
    "job[\"JOB_LOCATION\"]=job_location[:10]\n",
    "\n",
    "job #print the dataframe of the scraped data."
   ]
  },
  {
   "cell_type": "markdown",
   "metadata": {},
   "source": [
    "# Question:4"
   ]
  },
  {
   "cell_type": "markdown",
   "metadata": {},
   "source": [
    "Q4: Write a python program to scrape data for first 10 job results for Data scientist Designation in Noida location. You have to scrape company_name, No. of days ago when job was posted, Rating of the company?"
   ]
  },
  {
   "cell_type": "markdown",
   "metadata": {},
   "source": [
    "1. first get the webpage https://www.glassdoor.co.in/index.htm?"
   ]
  },
  {
   "cell_type": "code",
   "execution_count": 12,
   "metadata": {},
   "outputs": [],
   "source": [
    "# connect to webdriver:-\n",
    "\n",
    "driver=webdriver.Chrome(\"chromedriver.exe\")\n"
   ]
  },
  {
   "cell_type": "code",
   "execution_count": 13,
   "metadata": {},
   "outputs": [],
   "source": [
    "# enter the url for searching:-\n",
    "\n",
    "driver.get(\"https://www.glassdoor.co.in/index.htm\")\n"
   ]
  },
  {
   "cell_type": "markdown",
   "metadata": {},
   "source": [
    "2. Enter “Data Scientist” in “Job Title,Keyword,Company” field and enter “Noida” in “location” field."
   ]
  },
  {
   "cell_type": "code",
   "execution_count": 14,
   "metadata": {},
   "outputs": [],
   "source": [
    "# finding the job search bar:-\n",
    "# Enter the datascientist inside the search bar:-\n",
    "\n",
    "job_title=driver.find_element_by_id(\"scKeyword\")\n",
    "job_title.send_keys(\"Data Scientist\")\n"
   ]
  },
  {
   "cell_type": "code",
   "execution_count": 15,
   "metadata": {},
   "outputs": [],
   "source": [
    "# finding the job_location search_bar:-\n",
    "# Enter the noida inside the search bar:-\n",
    "\n",
    "job_location=driver.find_element_by_id(\"scLocation\")\n",
    "job_location.send_keys(\"Noida\")\n"
   ]
  },
  {
   "cell_type": "markdown",
   "metadata": {},
   "source": [
    "3. Then click the search button. You will land up in the below page:"
   ]
  },
  {
   "cell_type": "code",
   "execution_count": 16,
   "metadata": {},
   "outputs": [],
   "source": [
    "# Making on search button:-\n",
    "\n",
    "Activate_button=driver.find_element_by_id(\"prefix__icon-arrow-1\")\n",
    "Activate_button.click()\n"
   ]
  },
  {
   "cell_type": "markdown",
   "metadata": {},
   "source": [
    "4. Then scrape the data for the first 10 jobs results you get in the above shown page."
   ]
  },
  {
   "cell_type": "code",
   "execution_count": 29,
   "metadata": {},
   "outputs": [
    {
     "name": "stdout",
     "output_type": "stream",
     "text": [
      "['Ericsson', 'Apsidata Solutions', 'Biz2Credit Inc', 'Salasar New Age Technologies', 'Adobe', 'Techlive', 'dunnhumby', 'Data Trained Education', 'CRMNEXT', 'Salasar New Age Technologies']\n",
      "\n",
      "\n",
      "['24h', '4d', '30d+', '30d+', '7d', '30d+', '1d', '2d', '12d', '30d+']\n",
      "\n",
      "\n",
      "['4.1', '3.8', '4.4', '5.0', '4.1', '3.6', '4.4', '3.8', '3.6', '3.6']\n"
     ]
    }
   ],
   "source": [
    "# scraped the company name:-\n",
    "\n",
    "job=driver.find_elements_by_xpath(\"//a[@class=' css-l2wjgv e1n63ojh0 jobLink']/span\")\n",
    "job\n",
    "\n",
    "company_name=[] #print the company_name.\n",
    "for i in job:\n",
    "    company_name.append(i.text)\n",
    "print(company_name[:10])\n",
    "\n",
    "print(\"\\n\")\n",
    "\n",
    "# scraped the data \"how many days that the job having posted\":-\n",
    "\n",
    "job=driver.find_elements_by_xpath(\"//div[@class='d-flex align-items-end pl-std css-mi55ob']\")\n",
    "job\n",
    "\n",
    "Time_Period=[] #print the time period.\n",
    "for i in job:\n",
    "    Time_Period.append(i.text)\n",
    "print(Time_Period[:10])\n",
    "\n",
    "print(\"\\n\")\n",
    "\n",
    "# scraped the job ratings:-\n",
    "\n",
    "job=driver.find_elements_by_xpath(\"//span[@class='css-19pjha7 e1cjmv6j1']\")\n",
    "job\n",
    "\n",
    "job_rating=[] # print the job ratings.\n",
    "for i in job:\n",
    "    job_rating.append(i.text)\n",
    "print(job_rating[:10])"
   ]
  },
  {
   "cell_type": "markdown",
   "metadata": {},
   "source": [
    "5. Finally create a dataframe of the scraped data."
   ]
  },
  {
   "cell_type": "code",
   "execution_count": 30,
   "metadata": {},
   "outputs": [
    {
     "data": {
      "text/html": [
       "<div>\n",
       "<style scoped>\n",
       "    .dataframe tbody tr th:only-of-type {\n",
       "        vertical-align: middle;\n",
       "    }\n",
       "\n",
       "    .dataframe tbody tr th {\n",
       "        vertical-align: top;\n",
       "    }\n",
       "\n",
       "    .dataframe thead th {\n",
       "        text-align: right;\n",
       "    }\n",
       "</style>\n",
       "<table border=\"1\" class=\"dataframe\">\n",
       "  <thead>\n",
       "    <tr style=\"text-align: right;\">\n",
       "      <th></th>\n",
       "      <th>COMPANY_NAME</th>\n",
       "      <th>TIME_PERIOD</th>\n",
       "      <th>JOB_RATING</th>\n",
       "    </tr>\n",
       "  </thead>\n",
       "  <tbody>\n",
       "    <tr>\n",
       "      <th>0</th>\n",
       "      <td>Ericsson</td>\n",
       "      <td>24h</td>\n",
       "      <td>4.1</td>\n",
       "    </tr>\n",
       "    <tr>\n",
       "      <th>1</th>\n",
       "      <td>Apsidata Solutions</td>\n",
       "      <td>4d</td>\n",
       "      <td>3.8</td>\n",
       "    </tr>\n",
       "    <tr>\n",
       "      <th>2</th>\n",
       "      <td>Biz2Credit Inc</td>\n",
       "      <td>30d+</td>\n",
       "      <td>4.4</td>\n",
       "    </tr>\n",
       "    <tr>\n",
       "      <th>3</th>\n",
       "      <td>Salasar New Age Technologies</td>\n",
       "      <td>30d+</td>\n",
       "      <td>5.0</td>\n",
       "    </tr>\n",
       "    <tr>\n",
       "      <th>4</th>\n",
       "      <td>Adobe</td>\n",
       "      <td>7d</td>\n",
       "      <td>4.1</td>\n",
       "    </tr>\n",
       "    <tr>\n",
       "      <th>5</th>\n",
       "      <td>Techlive</td>\n",
       "      <td>30d+</td>\n",
       "      <td>3.6</td>\n",
       "    </tr>\n",
       "    <tr>\n",
       "      <th>6</th>\n",
       "      <td>dunnhumby</td>\n",
       "      <td>1d</td>\n",
       "      <td>4.4</td>\n",
       "    </tr>\n",
       "    <tr>\n",
       "      <th>7</th>\n",
       "      <td>Data Trained Education</td>\n",
       "      <td>2d</td>\n",
       "      <td>3.8</td>\n",
       "    </tr>\n",
       "    <tr>\n",
       "      <th>8</th>\n",
       "      <td>CRMNEXT</td>\n",
       "      <td>12d</td>\n",
       "      <td>3.6</td>\n",
       "    </tr>\n",
       "    <tr>\n",
       "      <th>9</th>\n",
       "      <td>Salasar New Age Technologies</td>\n",
       "      <td>30d+</td>\n",
       "      <td>3.6</td>\n",
       "    </tr>\n",
       "  </tbody>\n",
       "</table>\n",
       "</div>"
      ],
      "text/plain": [
       "                   COMPANY_NAME TIME_PERIOD JOB_RATING\n",
       "0                      Ericsson         24h        4.1\n",
       "1            Apsidata Solutions          4d        3.8\n",
       "2                Biz2Credit Inc        30d+        4.4\n",
       "3  Salasar New Age Technologies        30d+        5.0\n",
       "4                         Adobe          7d        4.1\n",
       "5                      Techlive        30d+        3.6\n",
       "6                     dunnhumby          1d        4.4\n",
       "7        Data Trained Education          2d        3.8\n",
       "8                       CRMNEXT         12d        3.6\n",
       "9  Salasar New Age Technologies        30d+        3.6"
      ]
     },
     "execution_count": 30,
     "metadata": {},
     "output_type": "execute_result"
    }
   ],
   "source": [
    "# create the dataframe:-\n",
    "\n",
    "job=pd.DataFrame({})\n",
    "\n",
    "job[\"COMPANY_NAME\"]=company_name[:10]\n",
    "job[\"TIME_PERIOD\"]=Time_Period[:10]\n",
    "job[\"JOB_RATING\"]=job_rating[:10]\n",
    "\n",
    "job #print the dataframe."
   ]
  },
  {
   "cell_type": "markdown",
   "metadata": {},
   "source": [
    "# Question:5"
   ]
  },
  {
   "cell_type": "markdown",
   "metadata": {},
   "source": [
    "Q5: Write a python program to scrape the salary data for Data Scientist designation in Noida location?"
   ]
  },
  {
   "cell_type": "markdown",
   "metadata": {},
   "source": [
    "1. first get the webpage https://www.glassdoor.co.in/Salaries/index.htm?"
   ]
  },
  {
   "cell_type": "code",
   "execution_count": 74,
   "metadata": {},
   "outputs": [],
   "source": [
    "# connected to the web driver:-\n",
    "\n",
    "driver=webdriver.Chrome(\"chromedriver.exe\")\n"
   ]
  },
  {
   "cell_type": "code",
   "execution_count": 75,
   "metadata": {},
   "outputs": [],
   "source": [
    "# search url inside the driver:-\n",
    "\n",
    "driver.get(\"https://www.glassdoor.co.in/Salaries/index.htm\")\n"
   ]
  },
  {
   "cell_type": "markdown",
   "metadata": {},
   "source": [
    "2. Enter “Data Scientist” in Job title field and “Noida” in location field?"
   ]
  },
  {
   "cell_type": "code",
   "execution_count": 76,
   "metadata": {},
   "outputs": [],
   "source": [
    "# finding the job search bar:-\n",
    "\n",
    "job_title=driver.find_element_by_id(\"KeywordSearch\")\n",
    "job_title.send_keys(\"Data Scientist\") #enter the \"data scientist\" in search bar.\n"
   ]
  },
  {
   "cell_type": "code",
   "execution_count": 77,
   "metadata": {},
   "outputs": [],
   "source": [
    "# finding the job location search_bar:-\n",
    "\n",
    "job_location=driver.find_element_by_id(\"LocationSearch\")\n",
    "job_location.send_keys(\"Noida\") #enter the \"nodia\" in search bar.\n"
   ]
  },
  {
   "cell_type": "markdown",
   "metadata": {},
   "source": [
    "3. Click the search button?"
   ]
  },
  {
   "cell_type": "code",
   "execution_count": 78,
   "metadata": {},
   "outputs": [],
   "source": [
    "# making click on search button:-\n",
    "\n",
    "search_button=driver.find_element_by_id(\"HeroSearchButton\")\n",
    "search_button.click()\n"
   ]
  },
  {
   "cell_type": "markdown",
   "metadata": {},
   "source": [
    "5. Scrape data for first 10 companies. Scrape the min salary, max salary, company name, Average salary and rating of the company?"
   ]
  },
  {
   "cell_type": "code",
   "execution_count": 147,
   "metadata": {},
   "outputs": [
    {
     "name": "stdout",
     "output_type": "stream",
     "text": [
      "['₹ 6,11,228\\n/yr', '₹ 11,46,533\\n/yr', '₹ 8,97,795\\n/yr', '₹ 7,38,057\\n/yr', '₹ 12,39,781\\n/yr', '₹ 13,36,142\\n/yr', '₹ 8,15,192\\n/yr', '₹ 11,35,221\\n/yr', '₹ 11,44,243\\n/yr', '₹ 14,13,288\\n/yr']\n",
      "\n",
      "\n",
      "['₹343K', '₹577K', '₹586K', '₹355K', '₹450K', '₹1,069K', '₹502K', '₹202K', '₹575K', '₹1,014K']\n",
      "\n",
      "\n",
      "['₹1,095K', '₹2,213K', '₹2,730K', '₹1,613K', '₹11,622K', '₹1,520K', '₹1,465K', '₹1,809K', '₹1,520K', '₹2,149K']\n",
      "\n",
      "\n",
      "['Tata Consultancy Services', 'Accenture', 'IBM', 'Ericsson-Worldwide', 'Delhivery', 'UnitedHealth Group', 'Valiance Solutions', 'ZS Associates', 'EXL Service', 'Optum Global Solutions']\n"
     ]
    }
   ],
   "source": [
    "# scraped avarage salary:-\n",
    "\n",
    "salary=driver.find_elements_by_xpath(\"//div[@class='col-2 d-none d-md-flex flex-row justify-content-end']\")\n",
    "salary\n",
    "\n",
    "avg_salary=[] # print avarage salary.\n",
    "for i in salary:\n",
    "    avg_salary.append(i.text)\n",
    "print(avg_salary[:10])\n",
    "\n",
    "print(\"\\n\")\n",
    "\n",
    "# scraped minimum salary:-\n",
    "\n",
    "salary=driver.find_elements_by_xpath(\"//div[@class='common__RangeBarStyle__values d-flex justify-content-between ']/span\")\n",
    "salary\n",
    "\n",
    "min_salary1=[] # print minimum salary.\n",
    "for i in salary:\n",
    "    min_salary1.append(i.text.replace(\"\\n\",\",\"))\n",
    "min_salary1\n",
    "\n",
    "min_salary2=[] # print minimum salary.\n",
    "for i in range(0,len(min_salary1),2):\n",
    "    min_salary2.append(min_salary1[i])\n",
    "print(min_salary2[:10])\n",
    "\n",
    "print(\"\\n\")\n",
    "\n",
    "# scraped maximum salary:-\n",
    "\n",
    "salary=driver.find_elements_by_xpath(\"//div[@class='common__RangeBarStyle__values d-flex justify-content-between ']/span\")\n",
    "salary\n",
    "\n",
    "max_salary1=[] #print maximum salary.\n",
    "for i in salary:\n",
    "    max_salary1.append(i.text.replace(\"\\n\",\",\"))\n",
    "max_salary1\n",
    "\n",
    "max_salary2=[] #print maximum salary.\n",
    "for i in range(1,len(max_salary1),2):\n",
    "    max_salary2.append(max_salary1[i])\n",
    "print(max_salary2[:10])\n",
    "\n",
    "print(\"\\n\")\n",
    "\n",
    "# scraped company_name:-\n",
    "\n",
    "job=driver.find_elements_by_xpath(\"//p[@class='m-0 ']\")\n",
    "job\n",
    "\n",
    "company_name=[] #print company name.\n",
    "for i in job:\n",
    "    company_name.append(i.text)\n",
    "print(company_name[:10])"
   ]
  },
  {
   "cell_type": "markdown",
   "metadata": {},
   "source": [
    "6.Store the data in a dataframe?"
   ]
  },
  {
   "cell_type": "code",
   "execution_count": 146,
   "metadata": {},
   "outputs": [
    {
     "data": {
      "text/html": [
       "<div>\n",
       "<style scoped>\n",
       "    .dataframe tbody tr th:only-of-type {\n",
       "        vertical-align: middle;\n",
       "    }\n",
       "\n",
       "    .dataframe tbody tr th {\n",
       "        vertical-align: top;\n",
       "    }\n",
       "\n",
       "    .dataframe thead th {\n",
       "        text-align: right;\n",
       "    }\n",
       "</style>\n",
       "<table border=\"1\" class=\"dataframe\">\n",
       "  <thead>\n",
       "    <tr style=\"text-align: right;\">\n",
       "      <th></th>\n",
       "      <th>COMPANY_NAME</th>\n",
       "      <th>MIN_SALARY</th>\n",
       "      <th>MAX_SALARY</th>\n",
       "      <th>AVG_SALARY</th>\n",
       "    </tr>\n",
       "  </thead>\n",
       "  <tbody>\n",
       "    <tr>\n",
       "      <th>0</th>\n",
       "      <td>Tata Consultancy Services</td>\n",
       "      <td>₹343K</td>\n",
       "      <td>₹1,095K</td>\n",
       "      <td>₹ 6,11,228\\n/yr</td>\n",
       "    </tr>\n",
       "    <tr>\n",
       "      <th>1</th>\n",
       "      <td>Accenture</td>\n",
       "      <td>₹577K</td>\n",
       "      <td>₹2,213K</td>\n",
       "      <td>₹ 11,46,533\\n/yr</td>\n",
       "    </tr>\n",
       "    <tr>\n",
       "      <th>2</th>\n",
       "      <td>IBM</td>\n",
       "      <td>₹586K</td>\n",
       "      <td>₹2,730K</td>\n",
       "      <td>₹ 8,97,795\\n/yr</td>\n",
       "    </tr>\n",
       "    <tr>\n",
       "      <th>3</th>\n",
       "      <td>Ericsson-Worldwide</td>\n",
       "      <td>₹355K</td>\n",
       "      <td>₹1,613K</td>\n",
       "      <td>₹ 7,38,057\\n/yr</td>\n",
       "    </tr>\n",
       "    <tr>\n",
       "      <th>4</th>\n",
       "      <td>Delhivery</td>\n",
       "      <td>₹450K</td>\n",
       "      <td>₹11,622K</td>\n",
       "      <td>₹ 12,39,781\\n/yr</td>\n",
       "    </tr>\n",
       "    <tr>\n",
       "      <th>5</th>\n",
       "      <td>UnitedHealth Group</td>\n",
       "      <td>₹1,069K</td>\n",
       "      <td>₹1,520K</td>\n",
       "      <td>₹ 13,36,142\\n/yr</td>\n",
       "    </tr>\n",
       "    <tr>\n",
       "      <th>6</th>\n",
       "      <td>Valiance Solutions</td>\n",
       "      <td>₹502K</td>\n",
       "      <td>₹1,465K</td>\n",
       "      <td>₹ 8,15,192\\n/yr</td>\n",
       "    </tr>\n",
       "    <tr>\n",
       "      <th>7</th>\n",
       "      <td>ZS Associates</td>\n",
       "      <td>₹202K</td>\n",
       "      <td>₹1,809K</td>\n",
       "      <td>₹ 11,35,221\\n/yr</td>\n",
       "    </tr>\n",
       "    <tr>\n",
       "      <th>8</th>\n",
       "      <td>EXL Service</td>\n",
       "      <td>₹575K</td>\n",
       "      <td>₹1,520K</td>\n",
       "      <td>₹ 11,44,243\\n/yr</td>\n",
       "    </tr>\n",
       "    <tr>\n",
       "      <th>9</th>\n",
       "      <td>Optum Global Solutions</td>\n",
       "      <td>₹1,014K</td>\n",
       "      <td>₹2,149K</td>\n",
       "      <td>₹ 14,13,288\\n/yr</td>\n",
       "    </tr>\n",
       "  </tbody>\n",
       "</table>\n",
       "</div>"
      ],
      "text/plain": [
       "                COMPANY_NAME MIN_SALARY MAX_SALARY        AVG_SALARY\n",
       "0  Tata Consultancy Services      ₹343K    ₹1,095K   ₹ 6,11,228\\n/yr\n",
       "1                  Accenture      ₹577K    ₹2,213K  ₹ 11,46,533\\n/yr\n",
       "2                        IBM      ₹586K    ₹2,730K   ₹ 8,97,795\\n/yr\n",
       "3         Ericsson-Worldwide      ₹355K    ₹1,613K   ₹ 7,38,057\\n/yr\n",
       "4                  Delhivery      ₹450K   ₹11,622K  ₹ 12,39,781\\n/yr\n",
       "5         UnitedHealth Group    ₹1,069K    ₹1,520K  ₹ 13,36,142\\n/yr\n",
       "6         Valiance Solutions      ₹502K    ₹1,465K   ₹ 8,15,192\\n/yr\n",
       "7              ZS Associates      ₹202K    ₹1,809K  ₹ 11,35,221\\n/yr\n",
       "8                EXL Service      ₹575K    ₹1,520K  ₹ 11,44,243\\n/yr\n",
       "9     Optum Global Solutions    ₹1,014K    ₹2,149K  ₹ 14,13,288\\n/yr"
      ]
     },
     "execution_count": 146,
     "metadata": {},
     "output_type": "execute_result"
    }
   ],
   "source": [
    "# create dataframe:-\n",
    "\n",
    "job=pd.DataFrame({})\n",
    "\n",
    "job[\"COMPANY_NAME\"]=company_name[:10]\n",
    "job[\"MIN_SALARY\"]=min_salary2[:10]\n",
    "job[\"MAX_SALARY\"]=max_salary2[:10]\n",
    "job[\"AVG_SALARY\"]=avg_salary[:10]\n",
    "\n",
    "job #print dataframe."
   ]
  },
  {
   "cell_type": "markdown",
   "metadata": {},
   "source": [
    "# Question:6"
   ]
  },
  {
   "cell_type": "markdown",
   "metadata": {},
   "source": [
    "Q6 : Scrape data of first 100 sunglasses listings on flipkart.com. You have to scrape four attributes?"
   ]
  },
  {
   "cell_type": "markdown",
   "metadata": {},
   "source": [
    "1. Go to flipkart webpage by url https://www.flipkart.com/"
   ]
  },
  {
   "cell_type": "code",
   "execution_count": 80,
   "metadata": {},
   "outputs": [],
   "source": [
    "# connect to the web driver:-\n",
    "\n",
    "driver=webdriver.Chrome(\"chromedriver.exe\")\n"
   ]
  },
  {
   "cell_type": "code",
   "execution_count": 81,
   "metadata": {},
   "outputs": [],
   "source": [
    "# search url:-\n",
    "\n",
    "driver.get(\"https://www.flipkart.com/\")\n"
   ]
  },
  {
   "cell_type": "markdown",
   "metadata": {},
   "source": [
    "2. Enter “sunglasses” in the search field where “search for products, brands and more” is written and click the search icon?"
   ]
  },
  {
   "cell_type": "code",
   "execution_count": 82,
   "metadata": {},
   "outputs": [],
   "source": [
    "# find the search bar:-\n",
    "search_product=driver.find_element_by_xpath(\"//input[@class='_3704LK']\")\n",
    "\n",
    "search_product.send_keys(\"Sunglasses\") # print sungalsses inside the search_bar.\n",
    "\n",
    "# making click on search bar:-\n",
    "\n",
    "search_button=driver.find_element_by_xpath(\"//button[@class='L0Z3Pu']\")\n",
    "search_button.click()\n"
   ]
  },
  {
   "cell_type": "markdown",
   "metadata": {},
   "source": [
    "3. after that you will reach to a webpage having a lot of sunglasses. From this page you can scrap the required data as usual?"
   ]
  },
  {
   "cell_type": "code",
   "execution_count": 92,
   "metadata": {},
   "outputs": [
    {
     "name": "stdout",
     "output_type": "stream",
     "text": [
      "['ROYAL SON', 'ROYAL SON', 'Fastrack', 'ROZZETTA CRAFT', 'Fastrack', 'PHENOMENAL', 'PIRASO', 'ROZZETTA CRAFT', 'DEIXELS', 'Fastrack', 'Fastrack', 'Fastrack', 'HIPPON', 'NuVew', 'NuVew', 'DEIXELS', 'ROZZETTA CRAFT', 'Fastrack', 'Singco India', 'ROYAL SON', 'Singco India', 'ROZZETTA CRAFT', 'PHENOMENAL', 'NuVew', 'Fastrack', 'Fastrack', 'GANSTA', 'Fastrack', 'Fastrack', 'SRPM', 'PHENOMENAL', 'ROZZETTA CRAFT', 'hipe', 'ROYAL SON', 'ROYAL SON', 'ROZZETTA CRAFT', 'elegante', 'hipe', 'hipe', 'BKGE']\n"
     ]
    }
   ],
   "source": [
    "# scrapped the sunglasses brand into page-01:-\n",
    "\n",
    "sunglasses=driver.find_elements_by_xpath(\"//div[@class='_2WkVRV']\")\n",
    "sunglasses\n",
    "\n",
    "brand_1=[] #print the brand.\n",
    "for i in sunglasses:\n",
    "    brand_1.append(i.text)\n",
    "print(brand_1)\n"
   ]
  },
  {
   "cell_type": "markdown",
   "metadata": {},
   "source": [
    "4. after scraping data from the first page, go to the “Next” Button at the bottom of the page , then click on it?"
   ]
  },
  {
   "cell_type": "code",
   "execution_count": 93,
   "metadata": {},
   "outputs": [],
   "source": [
    "# click on second page for going on second page:-\n",
    "\n",
    "second_page=driver.find_element_by_xpath(\"/html/body/div[1]/div/div[3]/div[1]/div[2]/div[12]/div/div/nav/a[2]\")\n",
    "second_page.click() # making click.\n"
   ]
  },
  {
   "cell_type": "markdown",
   "metadata": {},
   "source": [
    "5. Now scrape data from this page as usual?"
   ]
  },
  {
   "cell_type": "code",
   "execution_count": 94,
   "metadata": {},
   "outputs": [
    {
     "name": "stdout",
     "output_type": "stream",
     "text": [
      "['Fastrack', 'ROZZETTA CRAFT', 'ROYAL SON', 'GANSTA', 'Silver Kartz', 'DEIXELS', 'ROYAL SON', 'Ray-Ban', 'ROYAL SON', 'Flizz', 'BKGE', 'Villain', 'Fastrack', 'Singco India', 'AISLIN', 'GANSTA', 'GANSTA', 'hipe', 'hipe', 'Fastrack', 'PHENOMENAL', 'ROZZETTA CRAFT', 'Singco India', 'Fastrack', 'ROYAL SON', 'ROZZETTA CRAFT', 'ROYAL SON', 'Fastrack', 'Fastrack', 'DEIXELS', 'GANSTA', 'PHENOMENAL', 'PHENOMENAL', 'Crackers', 'PHENOMENAL', 'GANSTA', 'Fastrack', 'PHENOMENAL', 'elegante', 'AISLIN']\n"
     ]
    }
   ],
   "source": [
    "# simileraly scraped data from 2nd page:-\n",
    "\n",
    "sunglasses=driver.find_elements_by_xpath(\"//div[@class='_2WkVRV']\")\n",
    "sunglasses\n",
    "\n",
    "brand_2=[] #prid the brand given on second page.\n",
    "\n",
    "for i in sunglasses:\n",
    "    brand_2.append(i.text)\n",
    "print(brand_2)\n"
   ]
  },
  {
   "cell_type": "code",
   "execution_count": 95,
   "metadata": {},
   "outputs": [],
   "source": [
    "# making click for going on 3rd page.\n",
    "\n",
    "Third_page=driver.find_element_by_xpath(\"/html/body/div[1]/div/div[3]/div[1]/div[2]/div[12]/div/div/nav/a[4]\")\n",
    "Third_page.click()\n"
   ]
  },
  {
   "cell_type": "code",
   "execution_count": 99,
   "metadata": {},
   "outputs": [
    {
     "name": "stdout",
     "output_type": "stream",
     "text": [
      "['GANSTA', 'ROYAL SON', 'elegante', 'Fastrack', 'ROYAL SON', 'GANSTA', 'Ray-Ban', 'ROZZETTA CRAFT', 'AISLIN', 'Fastrack', 'Fastrack', 'ROZZETTA CRAFT', 'GANSTA', 'ROYAL SON', 'Badfella', 'Singco', 'Singco India', 'GANSTA', 'AISLIN', 'AISLIN', 'Fastrack', 'ROYAL SON', 'Fravy', 'ROZZETTA CRAFT', 'Silver Kartz', 'ROYAL SON', 'GANSTA', 'hipe', 'ROZZETTA CRAFT', 'Elligator', 'ROYAL SON', 'GANSTA', 'Silver Kartz', 'Fastrack', 'BKGE', 'GANSTA', 'GANSTA', 'Fastrack', 'NuVew', 'ROZZETTA CRAFT']\n"
     ]
    }
   ],
   "source": [
    "# scraping the brand data of sunglasses which is given on third page:-\n",
    "    \n",
    "sunglasses=driver.find_elements_by_xpath(\"//div[@class='_2WkVRV']\")\n",
    "sunglasses\n",
    "\n",
    "brand_3=[] #print the data which is given on 3rd page.\n",
    "for i in sunglasses:\n",
    "    brand_3.append(i.text)\n",
    "print(brand_3)\n"
   ]
  },
  {
   "cell_type": "code",
   "execution_count": 101,
   "metadata": {},
   "outputs": [
    {
     "name": "stdout",
     "output_type": "stream",
     "text": [
      "['ROYAL SON', 'ROYAL SON', 'Fastrack', 'ROZZETTA CRAFT', 'Fastrack', 'PHENOMENAL', 'PIRASO', 'ROZZETTA CRAFT', 'DEIXELS', 'Fastrack', 'Fastrack', 'Fastrack', 'HIPPON', 'NuVew', 'NuVew', 'DEIXELS', 'ROZZETTA CRAFT', 'Fastrack', 'Singco India', 'ROYAL SON', 'Singco India', 'ROZZETTA CRAFT', 'PHENOMENAL', 'NuVew', 'Fastrack', 'Fastrack', 'GANSTA', 'Fastrack', 'Fastrack', 'SRPM', 'PHENOMENAL', 'ROZZETTA CRAFT', 'hipe', 'ROYAL SON', 'ROYAL SON', 'ROZZETTA CRAFT', 'elegante', 'hipe', 'hipe', 'BKGE', 'Fastrack', 'ROZZETTA CRAFT', 'ROYAL SON', 'GANSTA', 'Silver Kartz', 'DEIXELS', 'ROYAL SON', 'Ray-Ban', 'ROYAL SON', 'Flizz', 'BKGE', 'Villain', 'Fastrack', 'Singco India', 'AISLIN', 'GANSTA', 'GANSTA', 'hipe', 'hipe', 'Fastrack', 'PHENOMENAL', 'ROZZETTA CRAFT', 'Singco India', 'Fastrack', 'ROYAL SON', 'ROZZETTA CRAFT', 'ROYAL SON', 'Fastrack', 'Fastrack', 'DEIXELS', 'GANSTA', 'PHENOMENAL', 'PHENOMENAL', 'Crackers', 'PHENOMENAL', 'GANSTA', 'Fastrack', 'PHENOMENAL', 'elegante', 'AISLIN', 'GANSTA', 'ROYAL SON', 'elegante', 'Fastrack', 'ROYAL SON', 'GANSTA', 'Ray-Ban', 'ROZZETTA CRAFT', 'AISLIN', 'Fastrack', 'Fastrack', 'ROZZETTA CRAFT', 'GANSTA', 'ROYAL SON', 'Badfella', 'Singco', 'Singco India', 'GANSTA', 'AISLIN', 'AISLIN']\n"
     ]
    }
   ],
   "source": [
    "# scraped total 100 brand of sunglass:-\n",
    "\n",
    "sunglasses_brand=(brand_1+brand_2+brand_3)\n",
    "print(sunglasses_brand[:100])\n"
   ]
  },
  {
   "cell_type": "code",
   "execution_count": 102,
   "metadata": {},
   "outputs": [],
   "source": [
    "# again start with the frist page for scraping the product description:-\n",
    "\n",
    "frist_page=driver.find_element_by_xpath(\"/html/body/div[1]/div/div[3]/div[1]/div[2]/div[12]/div/div/nav/a[2]\")\n",
    "frist_page.click()\n"
   ]
  },
  {
   "cell_type": "code",
   "execution_count": 106,
   "metadata": {},
   "outputs": [
    {
     "name": "stdout",
     "output_type": "stream",
     "text": [
      "['UV Protection, Polarized, Mirrored Round Sunglasses (Fr...', 'UV Protection Rectangular Sunglasses (Free Size)', 'UV Protection Retro Square Sunglasses (Free Size)', 'UV Protection Wayfarer Sunglasses (Free Size)', 'UV Protection Retro Square Sunglasses (Free Size)', 'UV Protection Aviator Sunglasses (Free Size)', 'UV Protection, Gradient Rectangular Sunglasses (Free Si...', 'UV Protection Wayfarer Sunglasses (Free Size)', 'UV Protection Aviator, Wayfarer Sunglasses (Free Size)', 'UV Protection Aviator Sunglasses (Free Size)', 'Gradient, UV Protection Wayfarer Sunglasses (Free Size)', 'UV Protection Wayfarer Sunglasses (55)', 'UV Protection, Mirrored Retro Square Sunglasses (53)', 'UV Protection Aviator Sunglasses (58)', 'UV Protection Retro Square Sunglasses (Free Size)', 'UV Protection Round Sunglasses (Free Size)', 'UV Protection Wayfarer Sunglasses (Free Size)', 'UV Protection Aviator Sunglasses (58)', 'Gradient, UV Protection Retro Square Sunglasses (Free S...', 'UV Protection Wayfarer Sunglasses (Free Size)', 'UV Protection, Mirrored Retro Square Sunglasses (53)', 'UV Protection, Riding Glasses Rectangular Sunglasses (F...', 'UV Protection, Gradient Cat-eye Sunglasses (63)', 'UV Protection Aviator Sunglasses (58)', 'UV Protection Aviator Sunglasses (57)', 'UV Protection Aviator Sunglasses (Free Size)', 'Mirrored, Riding Glasses, Others Sports Sunglasses (50)', 'UV Protection, Gradient Rectangular Sunglasses (Free Si...', 'UV Protection Retro Square, Wayfarer Sunglasses (58)', 'UV Protection, Mirrored Retro Square Sunglasses (Free S...', 'UV Protection Wayfarer Sunglasses (56)', 'Gradient, UV Protection Wayfarer Sunglasses (Free Size)', 'Polarized Retro Square Sunglasses (58)', 'UV Protection, Mirrored Aviator Sunglasses (Free Size)', 'UV Protection Shield Sunglasses (54)', 'UV Protection Wayfarer Sunglasses (55)', 'UV Protection, Mirrored Round Sunglasses (Free Size)', 'Polarized Sports Sunglasses (68)', 'UV Protection, Mirrored, Gradient, Riding Glasses Retro...']\n"
     ]
    }
   ],
   "source": [
    "sunglasses=driver.find_elements_by_xpath(\"//a[@class='IRpwTa']\")\n",
    "sunglasses\n",
    "\n",
    "Product_Description_1=[] # print the product_description\n",
    "for i in sunglasses:\n",
    "    Product_Description_1.append(i.text)\n",
    "print(Product_Description_1)   "
   ]
  },
  {
   "cell_type": "code",
   "execution_count": 107,
   "metadata": {},
   "outputs": [
    {
     "name": "stdout",
     "output_type": "stream",
     "text": [
      "['Mirrored, UV Protection, Riding Glasses Rectangular, Re...']\n"
     ]
    }
   ],
   "source": [
    "sunglasses=driver.find_elements_by_xpath(\"//a[@class='IRpwTa _2-ICcC']\")\n",
    "sunglasses\n",
    "\n",
    "Product_Description_2=[] #print product description which have different xpath\n",
    "for i in sunglasses:\n",
    "    Product_Description_2.append(i.text)\n",
    "print(Product_Description_2)\n"
   ]
  },
  {
   "cell_type": "code",
   "execution_count": 108,
   "metadata": {},
   "outputs": [],
   "source": [
    "# go on second webpage.\n",
    "second_page=driver.find_element_by_xpath(\"/html/body/div[1]/div/div[3]/div[1]/div[2]/div[12]/div/div/nav/a[2]\")\n",
    "second_page.click()\n"
   ]
  },
  {
   "cell_type": "code",
   "execution_count": 109,
   "metadata": {},
   "outputs": [
    {
     "name": "stdout",
     "output_type": "stream",
     "text": [
      "['UV Protection Shield Sunglasses (54)', 'UV Protection Wayfarer Sunglasses (55)', 'UV Protection Retro Square Sunglasses (55)', 'UV Protection, Polarized, Mirrored Round Sunglasses (Fr...', 'UV Protection Wrap-around Sunglasses (Free Size)', 'Gradient, UV Protection Round Sunglasses (Free Size)', 'Polarized Sports Sunglasses (68)', 'Mirrored Aviator Sunglasses (55)', 'UV Protection Wayfarer Sunglasses (Free Size)', 'Gradient, UV Protection Retro Square Sunglasses (Free S...', 'UV Protection Rectangular Sunglasses (58)', 'UV Protection Oval Sunglasses (56)', 'UV Protection Retro Square Sunglasses (Free Size)', 'UV Protection, Gradient Cat-eye Sunglasses (63)', 'Mirrored Wayfarer Sunglasses (55)', 'UV Protection, Riding Glasses Wayfarer Sunglasses (53)', 'Others Retro Square Sunglasses (Free Size)', 'UV Protection Aviator Sunglasses (58)', 'UV Protection, Gradient Oval Sunglasses (58)', 'UV Protection Sports Sunglasses (Free Size)', 'Polarized, UV Protection, Riding Glasses Wayfarer Sungl...', 'UV Protection, Riding Glasses, Others Aviator, Wayfarer...', 'UV Protection Round Sunglasses (53)', 'UV Protection Shield Sunglasses (Free Size)', 'Mirrored, UV Protection, Gradient Round Sunglasses (55)', 'UV Protection Aviator Sunglasses (58)', 'UV Protection Wayfarer Sunglasses (Free Size)', 'UV Protection Aviator Sunglasses (57)', 'UV Protection, Mirrored Retro Square Sunglasses (53)', 'UV Protection Round Sunglasses (Free Size)', 'UV Protection, Mirrored, Gradient Retro Square Sunglass...', 'Polarized, UV Protection Aviator Sunglasses (Free Size)', 'UV Protection Cat-eye Sunglasses (60)', 'Polarized, UV Protection Aviator Sunglasses (58)', 'UV Protection, Gradient Round Sunglasses (Free Size)', 'UV Protection Wayfarer Sunglasses (57)', 'UV Protection Aviator Sunglasses (55)', 'UV Protection Wayfarer Sunglasses (Free Size)', 'UV Protection, Polarized Rectangular Sunglasses (53)']\n"
     ]
    }
   ],
   "source": [
    "sunglasses=driver.find_elements_by_xpath(\"//a[@class='IRpwTa']\")\n",
    "sunglasses\n",
    "\n",
    "Product_Description_3=[] #print product_description.\n",
    "for i in sunglasses:\n",
    "    Product_Description_3.append(i.text)\n",
    "print(Product_Description_3)"
   ]
  },
  {
   "cell_type": "code",
   "execution_count": 110,
   "metadata": {},
   "outputs": [],
   "source": [
    "# go on 3rd page:-\n",
    "\n",
    "Third_page=driver.find_element_by_xpath(\"/html/body/div[1]/div/div[3]/div[1]/div[2]/div[12]/div/div/nav/a[4]\")\n",
    "Third_page.click()\n"
   ]
  },
  {
   "cell_type": "code",
   "execution_count": 111,
   "metadata": {},
   "outputs": [
    {
     "name": "stdout",
     "output_type": "stream",
     "text": [
      "['UV Protection Wayfarer Sunglasses (57)', 'UV Protection Wayfarer Sunglasses (Free Size)', 'UV Protection, Mirrored, Gradient Wayfarer Sunglasses (...', 'UV Protection, Polarized, Mirrored Round Sunglasses (Fr...', 'UV Protection, Night Vision, Riding Glasses Aviator Sun...', 'UV Protection Retro Square Sunglasses (Free Size)', 'UV Protection, Gradient Round Sunglasses (Free Size)', 'UV Protection, Others Aviator Sunglasses (32)', 'Mirrored Aviator Sunglasses (Free Size)', 'Gradient, UV Protection Retro Square Sunglasses (Free S...', 'UV Protection Aviator Sunglasses (58)', 'UV Protection Round Sunglasses (Free Size)', 'UV Protection, Polarized Wayfarer Sunglasses (56)', 'UV Protection, Gradient Cat-eye Sunglasses (63)', 'Mirrored, UV Protection Round Sunglasses (Free Size)', 'UV Protection Aviator Sunglasses (Free Size)', 'UV Protection, Gradient Wayfarer Sunglasses (53)', 'UV Protection, Gradient Oval Sunglasses (58)', 'UV Protection Rectangular Sunglasses (Free Size)', 'UV Protection Round Sunglasses (53)', 'UV Protection Oval Sunglasses (60)', 'UV Protection, Gradient Rectangular Sunglasses (Free Si...', 'UV Protection Retro Square Sunglasses (Free Size)', 'UV Protection, Mirrored Retro Square Sunglasses (53)', 'UV Protection Aviator Sunglasses (57)', 'Gradient, UV Protection Wayfarer Sunglasses (Free Size)', 'Mirrored Aviator Sunglasses (Free Size)', 'UV Protection Cat-eye Sunglasses (60)', 'Polarized, UV Protection Retro Square Sunglasses (53)', 'Gradient, UV Protection Round, Oval, Cat-eye Sunglasses...', 'UV Protection, Gradient Retro Square Sunglasses (58)', 'UV Protection, Night Vision, Riding Glasses, Gradient, ...', 'Others Retro Square Sunglasses (Free Size)', 'UV Protection, Gradient Rectangular Sunglasses (Free Si...', 'UV Protection Oval Sunglasses (56)', 'Polarized, UV Protection Aviator Sunglasses (Free Size)', 'UV Protection, Mirrored Clubmaster Sunglasses (53)', 'UV Protection Cat-eye Sunglasses (60)']\n"
     ]
    }
   ],
   "source": [
    "sunglasses=driver.find_elements_by_xpath(\"//a[@class='IRpwTa']\")\n",
    "sunglasses\n",
    "\n",
    "Product_Description_4=[]#print product_description.\n",
    "for i in sunglasses:\n",
    "    Product_Description_4.append(i.text)\n",
    "print(Product_Description_4)\n"
   ]
  },
  {
   "cell_type": "code",
   "execution_count": 114,
   "metadata": {},
   "outputs": [
    {
     "name": "stdout",
     "output_type": "stream",
     "text": [
      "['UV Protection, Polarized, Mirrored Round Sunglasses (Fr...', 'UV Protection Rectangular Sunglasses (Free Size)', 'UV Protection Retro Square Sunglasses (Free Size)', 'UV Protection Wayfarer Sunglasses (Free Size)', 'UV Protection Retro Square Sunglasses (Free Size)', 'UV Protection Aviator Sunglasses (Free Size)', 'UV Protection, Gradient Rectangular Sunglasses (Free Si...', 'UV Protection Wayfarer Sunglasses (Free Size)', 'UV Protection Aviator, Wayfarer Sunglasses (Free Size)', 'UV Protection Aviator Sunglasses (Free Size)', 'Gradient, UV Protection Wayfarer Sunglasses (Free Size)', 'UV Protection Wayfarer Sunglasses (55)', 'UV Protection, Mirrored Retro Square Sunglasses (53)', 'UV Protection Aviator Sunglasses (58)', 'UV Protection Retro Square Sunglasses (Free Size)', 'UV Protection Round Sunglasses (Free Size)', 'UV Protection Wayfarer Sunglasses (Free Size)', 'UV Protection Aviator Sunglasses (58)', 'Gradient, UV Protection Retro Square Sunglasses (Free S...', 'UV Protection Wayfarer Sunglasses (Free Size)', 'UV Protection, Mirrored Retro Square Sunglasses (53)', 'UV Protection, Riding Glasses Rectangular Sunglasses (F...', 'UV Protection, Gradient Cat-eye Sunglasses (63)', 'UV Protection Aviator Sunglasses (58)', 'UV Protection Aviator Sunglasses (57)', 'UV Protection Aviator Sunglasses (Free Size)', 'Mirrored, Riding Glasses, Others Sports Sunglasses (50)', 'UV Protection, Gradient Rectangular Sunglasses (Free Si...', 'UV Protection Retro Square, Wayfarer Sunglasses (58)', 'UV Protection, Mirrored Retro Square Sunglasses (Free S...', 'UV Protection Wayfarer Sunglasses (56)', 'Gradient, UV Protection Wayfarer Sunglasses (Free Size)', 'Polarized Retro Square Sunglasses (58)', 'UV Protection, Mirrored Aviator Sunglasses (Free Size)', 'UV Protection Shield Sunglasses (54)', 'UV Protection Wayfarer Sunglasses (55)', 'UV Protection, Mirrored Round Sunglasses (Free Size)', 'Polarized Sports Sunglasses (68)', 'UV Protection, Mirrored, Gradient, Riding Glasses Retro...', 'Mirrored, UV Protection, Riding Glasses Rectangular, Re...', 'UV Protection Shield Sunglasses (54)', 'UV Protection Wayfarer Sunglasses (55)', 'UV Protection Retro Square Sunglasses (55)', 'UV Protection, Polarized, Mirrored Round Sunglasses (Fr...', 'UV Protection Wrap-around Sunglasses (Free Size)', 'Gradient, UV Protection Round Sunglasses (Free Size)', 'Polarized Sports Sunglasses (68)', 'Mirrored Aviator Sunglasses (55)', 'UV Protection Wayfarer Sunglasses (Free Size)', 'Gradient, UV Protection Retro Square Sunglasses (Free S...', 'UV Protection Rectangular Sunglasses (58)', 'UV Protection Oval Sunglasses (56)', 'UV Protection Retro Square Sunglasses (Free Size)', 'UV Protection, Gradient Cat-eye Sunglasses (63)', 'Mirrored Wayfarer Sunglasses (55)', 'UV Protection, Riding Glasses Wayfarer Sunglasses (53)', 'Others Retro Square Sunglasses (Free Size)', 'UV Protection Aviator Sunglasses (58)', 'UV Protection, Gradient Oval Sunglasses (58)', 'UV Protection Sports Sunglasses (Free Size)', 'Polarized, UV Protection, Riding Glasses Wayfarer Sungl...', 'UV Protection, Riding Glasses, Others Aviator, Wayfarer...', 'UV Protection Round Sunglasses (53)', 'UV Protection Shield Sunglasses (Free Size)', 'Mirrored, UV Protection, Gradient Round Sunglasses (55)', 'UV Protection Aviator Sunglasses (58)', 'UV Protection Wayfarer Sunglasses (Free Size)', 'UV Protection Aviator Sunglasses (57)', 'UV Protection, Mirrored Retro Square Sunglasses (53)', 'UV Protection Round Sunglasses (Free Size)', 'UV Protection, Mirrored, Gradient Retro Square Sunglass...', 'Polarized, UV Protection Aviator Sunglasses (Free Size)', 'UV Protection Cat-eye Sunglasses (60)', 'Polarized, UV Protection Aviator Sunglasses (58)', 'UV Protection, Gradient Round Sunglasses (Free Size)', 'UV Protection Wayfarer Sunglasses (57)', 'UV Protection Aviator Sunglasses (55)', 'UV Protection Wayfarer Sunglasses (Free Size)', 'UV Protection, Polarized Rectangular Sunglasses (53)', 'UV Protection Wayfarer Sunglasses (57)', 'UV Protection Wayfarer Sunglasses (Free Size)', 'UV Protection, Mirrored, Gradient Wayfarer Sunglasses (...', 'UV Protection, Polarized, Mirrored Round Sunglasses (Fr...', 'UV Protection, Night Vision, Riding Glasses Aviator Sun...', 'UV Protection Retro Square Sunglasses (Free Size)', 'UV Protection, Gradient Round Sunglasses (Free Size)', 'UV Protection, Others Aviator Sunglasses (32)', 'Mirrored Aviator Sunglasses (Free Size)', 'Gradient, UV Protection Retro Square Sunglasses (Free S...', 'UV Protection Aviator Sunglasses (58)', 'UV Protection Round Sunglasses (Free Size)', 'UV Protection, Polarized Wayfarer Sunglasses (56)', 'UV Protection, Gradient Cat-eye Sunglasses (63)', 'Mirrored, UV Protection Round Sunglasses (Free Size)', 'UV Protection Aviator Sunglasses (Free Size)', 'UV Protection, Gradient Wayfarer Sunglasses (53)', 'UV Protection, Gradient Oval Sunglasses (58)', 'UV Protection Rectangular Sunglasses (Free Size)', 'UV Protection Round Sunglasses (53)', 'UV Protection Oval Sunglasses (60)']\n"
     ]
    }
   ],
   "source": [
    "# scraped 100 product description:-\n",
    "\n",
    "final_product_description=Product_Description_1+Product_Description_2+Product_Description_3+Product_Description_4\n",
    "print(final_product_description[:100])\n"
   ]
  },
  {
   "cell_type": "code",
   "execution_count": 116,
   "metadata": {},
   "outputs": [],
   "source": [
    "# come on 1st page.\n",
    "\n",
    "Frist_Page=driver.find_element_by_xpath(\"/html/body/div[1]/div/div[3]/div[1]/div[2]/div[12]/div/div/nav/a[2]\")\n",
    "Frist_Page.click()\n"
   ]
  },
  {
   "cell_type": "code",
   "execution_count": 133,
   "metadata": {},
   "outputs": [
    {
     "name": "stdout",
     "output_type": "stream",
     "text": [
      "['₹440', '₹440', '₹630', '₹758', '₹499', '₹349', '₹399', '₹404', '₹733', '₹213', '₹674', '₹621', '₹251', '₹753', '₹215', '₹246', '₹209', '₹837', '₹499', '₹1,085', '₹399', '₹281', '₹1,123', '₹339', '₹449', '₹759', '₹249', '₹399', '₹499', '₹638', '₹199', '₹499', '₹499', '₹394', '₹250', '₹219', '₹265', '₹449', '₹234', '₹284']\n"
     ]
    }
   ],
   "source": [
    "sunglasses=driver.find_elements_by_xpath(\"//div[@class='_30jeq3']\")\n",
    "sunglasses\n",
    "\n",
    "sunglasses_price_1=[] #print sunglasses price.\n",
    "for i in sunglasses:\n",
    "    sunglasses_price_1.append(i.text)\n",
    "print(sunglasses_price_1)"
   ]
  },
  {
   "cell_type": "code",
   "execution_count": 134,
   "metadata": {},
   "outputs": [],
   "source": [
    "# second page:-\n",
    "\n",
    "Second_page=driver.find_element_by_xpath(\"/html/body/div[1]/div/div[3]/div[1]/div[2]/div[12]/div/div/nav/a[3]\")\n",
    "Second_page.click()\n"
   ]
  },
  {
   "cell_type": "code",
   "execution_count": 135,
   "metadata": {},
   "outputs": [
    {
     "name": "stdout",
     "output_type": "stream",
     "text": [
      "['₹399', '₹449', '₹399', '₹699', '₹759', '₹399', '₹349', '₹493', '₹3,843', '₹358', '₹756', '₹349', '₹499', '₹342', '₹499', '₹289', '₹210', '₹286', '₹279', '₹391', '₹269', '₹263', '₹629', '₹569', '₹337', '₹399', '₹449', '₹284', '₹1,097', '₹403', '₹175', '₹279', '₹399', '₹449', '₹1,181', '₹699', '₹415', '₹399', '₹399', '₹329']\n"
     ]
    }
   ],
   "source": [
    "sunglasses=driver.find_elements_by_xpath(\"//div[@class='_30jeq3']\")\n",
    "sunglasses\n",
    "\n",
    "sunglasses_price_2=[] # print price.\n",
    "for i in sunglasses:\n",
    "    sunglasses_price_2.append(i.text)\n",
    "print(sunglasses_price_2)\n"
   ]
  },
  {
   "cell_type": "code",
   "execution_count": 136,
   "metadata": {},
   "outputs": [],
   "source": [
    "# 3rd page.\n",
    "\n",
    "Third_page=driver.find_element_by_xpath(\"/html/body/div[1]/div/div[3]/div[1]/div[2]/div[12]/div/div/nav/a[4]\")\n",
    "Third_page.click()\n"
   ]
  },
  {
   "cell_type": "code",
   "execution_count": 137,
   "metadata": {},
   "outputs": [
    {
     "name": "stdout",
     "output_type": "stream",
     "text": [
      "['₹399', '₹449', '₹399', '₹699', '₹759', '₹399', '₹349', '₹493', '₹3,843', '₹358', '₹756', '₹349', '₹499', '₹342', '₹499', '₹289', '₹210', '₹286', '₹279', '₹391', '₹269', '₹263', '₹629', '₹569', '₹337', '₹399', '₹449', '₹284', '₹1,097', '₹403', '₹175', '₹279', '₹399', '₹449', '₹1,181', '₹699', '₹415', '₹399', '₹399', '₹329']\n"
     ]
    }
   ],
   "source": [
    "sunglasses=driver.find_elements_by_xpath(\"//div[@class='_30jeq3']\")\n",
    "sunglasses\n",
    "\n",
    "sunglasses_price_3=[] #print price.\n",
    "for i in sunglasses:\n",
    "    sunglasses_price_3.append(i.text)\n",
    "print(sunglasses_price_3)\n"
   ]
  },
  {
   "cell_type": "code",
   "execution_count": 140,
   "metadata": {},
   "outputs": [
    {
     "name": "stdout",
     "output_type": "stream",
     "text": [
      "['₹440', '₹440', '₹630', '₹758', '₹499', '₹349', '₹399', '₹404', '₹733', '₹213', '₹674', '₹621', '₹251', '₹753', '₹215', '₹246', '₹209', '₹837', '₹499', '₹1,085', '₹399', '₹281', '₹1,123', '₹339', '₹449', '₹759', '₹249', '₹399', '₹499', '₹638', '₹199', '₹499', '₹499', '₹394', '₹250', '₹219', '₹265', '₹449', '₹234', '₹284', '₹399', '₹449', '₹399', '₹699', '₹759', '₹399', '₹349', '₹493', '₹3,843', '₹358', '₹756', '₹349', '₹499', '₹342', '₹499', '₹289', '₹210', '₹286', '₹279', '₹391', '₹269', '₹263', '₹629', '₹569', '₹337', '₹399', '₹449', '₹284', '₹1,097', '₹403', '₹175', '₹279', '₹399', '₹449', '₹1,181', '₹699', '₹415', '₹399', '₹399', '₹329', '₹399', '₹449', '₹399', '₹699', '₹759', '₹399', '₹349', '₹493', '₹3,843', '₹358', '₹756', '₹349', '₹499', '₹342', '₹499', '₹289', '₹210', '₹286', '₹279', '₹391']\n"
     ]
    }
   ],
   "source": [
    "# scraped 100 prices:-\n",
    "\n",
    "price=sunglasses_price_1+sunglasses_price_2+sunglasses_price_3\n",
    "print(price[:100])\n"
   ]
  },
  {
   "cell_type": "code",
   "execution_count": 145,
   "metadata": {},
   "outputs": [],
   "source": [
    "# frist page.\n",
    "\n",
    "Frist_Page=driver.find_element_by_xpath(\"/html/body/div[1]/div/div[3]/div[1]/div[2]/div[12]/div/div/nav/a[2]\")\n",
    "Frist_Page.click()\n"
   ]
  },
  {
   "cell_type": "code",
   "execution_count": 148,
   "metadata": {},
   "outputs": [
    {
     "name": "stdout",
     "output_type": "stream",
     "text": [
      "['76% off', '76% off', '21% off', '15% off', '77% off', '78% off', '80% off', '79% off', '18% off', '82% off', '25% off', '22% off', '79% off', '76% off', '72% off', '83% off', '73% off', '6% off', '77% off', '16% off', '80% off', '85% off', '13% off', '71% off', '79% off', '15% off', '83% off', '80% off', '80% off', '20% off', '80% off', '77% off', '66% off', '78% off', '84% off', '86% off', '79% off', '77% off', '60% off', '76% off']\n"
     ]
    }
   ],
   "source": [
    "sunglasses=driver.find_elements_by_xpath(\"//div[@class='_3Ay6Sb']\")\n",
    "sunglasses\n",
    "\n",
    "discount_1=[] # print discount\n",
    "for i in sunglasses:\n",
    "    discount_1.append(i.text)\n",
    "print(discount_1)\n"
   ]
  },
  {
   "cell_type": "code",
   "execution_count": 151,
   "metadata": {},
   "outputs": [],
   "source": [
    "# second page:-\n",
    "\n",
    "Second_page=driver.find_element_by_xpath(\"/html/body/div[1]/div/div[3]/div[1]/div[2]/div[12]/div/div/nav/a[2]\")\n",
    "Second_page.click()\n"
   ]
  },
  {
   "cell_type": "code",
   "execution_count": 153,
   "metadata": {},
   "outputs": [
    {
     "name": "stdout",
     "output_type": "stream",
     "text": [
      "['60% off', '68% off', '78% off', '75% off', '76% off', '78% off', '74% off', '81% off', '20% off', '55% off', '86% off', '11% off', '70% off', '66% off', '50% off', '69% off', '85% off', '82% off', '15% off', '72% off', '79% off', '60% off', '27% off', '66% off', '77% off', '64% off', '77% off', '84% off', '82% off', '55% off', '83% off', '15% off', '84% off', '77% off', '22% off', '80% off', '84% off', '80% off', '30% off', '68% off']\n"
     ]
    }
   ],
   "source": [
    "# scraped discount offer:-\n",
    "\n",
    "sunglasses=driver.find_elements_by_xpath(\"//div[@class='_3Ay6Sb']\")\n",
    "sunglasses\n",
    "\n",
    "discount_2=[] # print discount offer.\n",
    "for i in sunglasses:\n",
    "    discount_2.append(i.text)\n",
    "print(discount_2)\n",
    " "
   ]
  },
  {
   "cell_type": "code",
   "execution_count": 154,
   "metadata": {},
   "outputs": [],
   "source": [
    "# go on 3rd page:-\n",
    "\n",
    "Third_page=driver.find_element_by_xpath(\"/html/body/div[1]/div/div[3]/div[1]/div[2]/div[12]/div/div/nav/a[4]\")\n",
    "Third_page.click()\n"
   ]
  },
  {
   "cell_type": "code",
   "execution_count": 155,
   "metadata": {},
   "outputs": [
    {
     "name": "stdout",
     "output_type": "stream",
     "text": [
      "['85% off', '85% off', '70% off', '62% off', '80% off', '83% off', '88% off', '68% off', '87% off', '70% off', '14% off', '22% off', '73% off', '71% off', '21% off', '30% off', '80% off', '21% off', '77% off', '75% off', '15% off', '72% off', '69% off', '55% off', '30% off', '82% off', '61% off', '82% off', '67% off', '66% off', '86% off', '68% off', '83% off', '72% off', '73% off', '85% off', '83% off', '88% off', '77% off', '20% off']\n"
     ]
    }
   ],
   "source": [
    "sunglasses=driver.find_elements_by_xpath(\"//div[@class='_3Ay6Sb']\")\n",
    "sunglasses\n",
    "\n",
    "discount_3=[] # print discount offer from 3rd page.\n",
    "for i in sunglasses:\n",
    "    discount_3.append(i.text)\n",
    "print(discount_3)\n"
   ]
  },
  {
   "cell_type": "code",
   "execution_count": 157,
   "metadata": {},
   "outputs": [
    {
     "name": "stdout",
     "output_type": "stream",
     "text": [
      "['76% off', '76% off', '21% off', '15% off', '77% off', '78% off', '80% off', '79% off', '18% off', '82% off', '25% off', '22% off', '79% off', '76% off', '72% off', '83% off', '73% off', '6% off', '77% off', '16% off', '80% off', '85% off', '13% off', '71% off', '79% off', '15% off', '83% off', '80% off', '80% off', '20% off', '80% off', '77% off', '66% off', '78% off', '84% off', '86% off', '79% off', '77% off', '60% off', '76% off', '60% off', '68% off', '78% off', '75% off', '76% off', '78% off', '74% off', '81% off', '20% off', '55% off', '86% off', '11% off', '70% off', '66% off', '50% off', '69% off', '85% off', '82% off', '15% off', '72% off', '79% off', '60% off', '27% off', '66% off', '77% off', '64% off', '77% off', '84% off', '82% off', '55% off', '83% off', '15% off', '84% off', '77% off', '22% off', '80% off', '84% off', '80% off', '30% off', '68% off', '85% off', '85% off', '70% off', '62% off', '80% off', '83% off', '88% off', '68% off', '87% off', '70% off', '14% off', '22% off', '73% off', '71% off', '21% off', '30% off', '80% off', '21% off', '77% off', '75% off']\n"
     ]
    }
   ],
   "source": [
    "# print 100 discount offer:-\n",
    "\n",
    "Discount=(discount_1+discount_2+discount_3)\n",
    "print(Discount[:100])\n"
   ]
  },
  {
   "cell_type": "code",
   "execution_count": 159,
   "metadata": {},
   "outputs": [
    {
     "data": {
      "text/html": [
       "<div>\n",
       "<style scoped>\n",
       "    .dataframe tbody tr th:only-of-type {\n",
       "        vertical-align: middle;\n",
       "    }\n",
       "\n",
       "    .dataframe tbody tr th {\n",
       "        vertical-align: top;\n",
       "    }\n",
       "\n",
       "    .dataframe thead th {\n",
       "        text-align: right;\n",
       "    }\n",
       "</style>\n",
       "<table border=\"1\" class=\"dataframe\">\n",
       "  <thead>\n",
       "    <tr style=\"text-align: right;\">\n",
       "      <th></th>\n",
       "      <th>BRAND</th>\n",
       "      <th>PRODUCT_DESCRIPTION</th>\n",
       "      <th>PRICE</th>\n",
       "      <th>DISCOUNT</th>\n",
       "    </tr>\n",
       "  </thead>\n",
       "  <tbody>\n",
       "    <tr>\n",
       "      <th>0</th>\n",
       "      <td>ROYAL SON</td>\n",
       "      <td>UV Protection, Polarized, Mirrored Round Sungl...</td>\n",
       "      <td>₹440</td>\n",
       "      <td>76% off</td>\n",
       "    </tr>\n",
       "    <tr>\n",
       "      <th>1</th>\n",
       "      <td>ROYAL SON</td>\n",
       "      <td>UV Protection Rectangular Sunglasses (Free Size)</td>\n",
       "      <td>₹440</td>\n",
       "      <td>76% off</td>\n",
       "    </tr>\n",
       "    <tr>\n",
       "      <th>2</th>\n",
       "      <td>Fastrack</td>\n",
       "      <td>UV Protection Retro Square Sunglasses (Free Size)</td>\n",
       "      <td>₹630</td>\n",
       "      <td>21% off</td>\n",
       "    </tr>\n",
       "    <tr>\n",
       "      <th>3</th>\n",
       "      <td>ROZZETTA CRAFT</td>\n",
       "      <td>UV Protection Wayfarer Sunglasses (Free Size)</td>\n",
       "      <td>₹758</td>\n",
       "      <td>15% off</td>\n",
       "    </tr>\n",
       "    <tr>\n",
       "      <th>4</th>\n",
       "      <td>Fastrack</td>\n",
       "      <td>UV Protection Retro Square Sunglasses (Free Size)</td>\n",
       "      <td>₹499</td>\n",
       "      <td>77% off</td>\n",
       "    </tr>\n",
       "    <tr>\n",
       "      <th>...</th>\n",
       "      <td>...</td>\n",
       "      <td>...</td>\n",
       "      <td>...</td>\n",
       "      <td>...</td>\n",
       "    </tr>\n",
       "    <tr>\n",
       "      <th>95</th>\n",
       "      <td>Singco</td>\n",
       "      <td>UV Protection, Gradient Wayfarer Sunglasses (53)</td>\n",
       "      <td>₹289</td>\n",
       "      <td>30% off</td>\n",
       "    </tr>\n",
       "    <tr>\n",
       "      <th>96</th>\n",
       "      <td>Singco India</td>\n",
       "      <td>UV Protection, Gradient Oval Sunglasses (58)</td>\n",
       "      <td>₹210</td>\n",
       "      <td>80% off</td>\n",
       "    </tr>\n",
       "    <tr>\n",
       "      <th>97</th>\n",
       "      <td>GANSTA</td>\n",
       "      <td>UV Protection Rectangular Sunglasses (Free Size)</td>\n",
       "      <td>₹286</td>\n",
       "      <td>21% off</td>\n",
       "    </tr>\n",
       "    <tr>\n",
       "      <th>98</th>\n",
       "      <td>AISLIN</td>\n",
       "      <td>UV Protection Round Sunglasses (53)</td>\n",
       "      <td>₹279</td>\n",
       "      <td>77% off</td>\n",
       "    </tr>\n",
       "    <tr>\n",
       "      <th>99</th>\n",
       "      <td>AISLIN</td>\n",
       "      <td>UV Protection Oval Sunglasses (60)</td>\n",
       "      <td>₹391</td>\n",
       "      <td>75% off</td>\n",
       "    </tr>\n",
       "  </tbody>\n",
       "</table>\n",
       "<p>100 rows × 4 columns</p>\n",
       "</div>"
      ],
      "text/plain": [
       "             BRAND                                PRODUCT_DESCRIPTION PRICE  \\\n",
       "0        ROYAL SON  UV Protection, Polarized, Mirrored Round Sungl...  ₹440   \n",
       "1        ROYAL SON   UV Protection Rectangular Sunglasses (Free Size)  ₹440   \n",
       "2         Fastrack  UV Protection Retro Square Sunglasses (Free Size)  ₹630   \n",
       "3   ROZZETTA CRAFT      UV Protection Wayfarer Sunglasses (Free Size)  ₹758   \n",
       "4         Fastrack  UV Protection Retro Square Sunglasses (Free Size)  ₹499   \n",
       "..             ...                                                ...   ...   \n",
       "95          Singco   UV Protection, Gradient Wayfarer Sunglasses (53)  ₹289   \n",
       "96    Singco India       UV Protection, Gradient Oval Sunglasses (58)  ₹210   \n",
       "97          GANSTA   UV Protection Rectangular Sunglasses (Free Size)  ₹286   \n",
       "98          AISLIN                UV Protection Round Sunglasses (53)  ₹279   \n",
       "99          AISLIN                 UV Protection Oval Sunglasses (60)  ₹391   \n",
       "\n",
       "   DISCOUNT  \n",
       "0   76% off  \n",
       "1   76% off  \n",
       "2   21% off  \n",
       "3   15% off  \n",
       "4   77% off  \n",
       "..      ...  \n",
       "95  30% off  \n",
       "96  80% off  \n",
       "97  21% off  \n",
       "98  77% off  \n",
       "99  75% off  \n",
       "\n",
       "[100 rows x 4 columns]"
      ]
     },
     "execution_count": 159,
     "metadata": {},
     "output_type": "execute_result"
    }
   ],
   "source": [
    "# create dataframe of 100 sunglasses:-\n",
    "\n",
    "sunglasses=pd.DataFrame({})\n",
    "\n",
    "sunglasses[\"BRAND\"]=sunglasses_brand[:100]\n",
    "sunglasses[\"PRODUCT_DESCRIPTION\"]=final_product_description[:100]\n",
    "sunglasses[\"PRICE\"]=price[:100]\n",
    "sunglasses[\"DISCOUNT\"]=Discount[:100]\n",
    "# print the dataframe.\n",
    "\n",
    "sunglasses"
   ]
  },
  {
   "cell_type": "markdown",
   "metadata": {},
   "source": [
    "# Question:7"
   ]
  },
  {
   "cell_type": "markdown",
   "metadata": {},
   "source": [
    "Q7: Scrape 100 reviews data from flipkart.com for iphone11 phone. You have to go the link:"
   ]
  },
  {
   "cell_type": "markdown",
   "metadata": {},
   "source": [
    "https://www.flipkart.com/apple-iphone-11-black-64-gb-includes-earpods-power-adapter/p/itm0f37c2240b217?pid=MOBFKCTSVZAXUHGR&lid=LSTMOBFKCTSVZAXUHGREPBFGI&marketplace?"
   ]
  },
  {
   "cell_type": "code",
   "execution_count": 4,
   "metadata": {},
   "outputs": [],
   "source": [
    "# connect to webdriver:-\n",
    "\n",
    "driver=webdriver.Chrome(\"chromedriver.exe\")\n"
   ]
  },
  {
   "cell_type": "code",
   "execution_count": 5,
   "metadata": {},
   "outputs": [],
   "source": [
    "# search url into webdriver:-\n",
    "\n",
    "driver.get(\"https://www.flipkart.com/apple-iphone-11-black-64-gb-includes-earpods-power-adapter/p/itm0f37c2240b217?pid=MOBFKCTSVZAXUHGR&lid=LSTMOBFKCTSVZAXUHGREPBFGI&marketplace\")"
   ]
  },
  {
   "cell_type": "code",
   "execution_count": 7,
   "metadata": {},
   "outputs": [
    {
     "name": "stdout",
     "output_type": "stream",
     "text": [
      "['5', '5', '5', '5', '4', '5', '5', '5', '5', '5']\n",
      "\n",
      "\n",
      "['Brilliant', 'Perfect product!', 'Great product', 'Worth every penny', 'Good choice', 'Highly recommended', 'Perfect product!', 'Perfect product!', 'Fabulous!', 'Worth every penny']\n",
      "\n",
      "\n",
      "['The Best Phone for the Money\\n\\nThe iPhone 11 offers superb cameras, a more durable design and excellent battery life for an affordable price.\\n\\nCompelling ultra-wide camera\\nNew Night mode is excellent\\nLong battery life', 'Amazing phone with great cameras and better battery which gives you the best performance. I just love the camera .', 'Amazing Powerful and Durable Gadget.\\n\\nI’m am very happy with the camera picture quality, Amazing face id unlocked in dark room, Strong battery with perfect screen size as you can carry easily in pocket. This is my third iPhone.\\n\\nI shifted from android Samsung Note series to iPhone because of the strong build quality and peace of mind for next 3-4 years.\\n\\nDon’t think to much just go for it and I suggest you to go for minimum 128gb variant or more 256gb.\\n\\nI’ve attached my puppy pics and no fi...\\nREAD MORE', 'Previously I was using one plus 3t it was a great phone\\nAnd then I decided to upgrade I am stuck between Samsung s10 plus or iPhone 11\\nI have seen the specs and everything were good except the display it’s somewhere between 720-1080 and it’s not even an amoled it’s an LCD display\\nBut I decided to go with iPhone because I have never used an IOS device I have Been an android user from the past 9 years I ordered IPhone 11 (128gb) product red\\nMy experience after using 3 weeks\\n1. The delivery ...\\nREAD MORE', 'So far it’s been an AMAZING experience coming back to iOS after nearly a decade but it’s not as versatile as android though phone is sturdy dropped it accidentally a couple of times and nothing happened fortunately camera is awesome', 'iphone 11 is a very good phone to buy only if you can compromise for the display. The display on this is device is pretty good but you can get other options with better displays in this price segment.\\nIf you can survive with an HD+ LCD panel with thicker bezels and a notch up top then this is a very good phone for you.\\nCameras are awesome, battery backup excellent, great performance and a decent premium look. Good job Apple !', 'It’s a must buy who is looking for an upgrade from previous generation of iPhones. If you are using XR then still you can hold on for sometime and upgrade to 2020 model else this phone is a must buy . Camera quality is amazing and wide angle is something to count upon. Performance wise it’s amazing and feels premium while holding in hand. So a big YES for this device. Go for 128 GB variant as the 4K videos will occupy lots of space and the storage can get over very quickly. Try to buy it with...\\nREAD MORE', 'Value for money❤️❤️\\nIts awesome mobile phone in the world ...\\nDisplay was very good and bright ..\\nTrust me freinds you r never regret after Buying..\\nJust go for it....\\nI love this phone and i switch to iphone x to 11', 'This is my first iOS phone. I am very happy with this product. Very much satisfied with this. I love this phone.', 'Best budget Iphone till date ❤️ go for it guys without second thought. Let me explain you guys about Camera, Display, battery, and performance.\\n\\nCamera: at this price range there is no comparison of camera, you’ll love the picture quality as well as video quality. I am a Vlogger I wanted an iPhone with 4k video by front camera and I got this phone and I am more than happy 😃\\n\\nBattery: I use this phone roughly as I am active social media person and I have a youtube channel. so the battery ba...\\nREAD MORE']\n"
     ]
    }
   ],
   "source": [
    "# scraped data from the url:-\n",
    "\n",
    "rating=driver.find_elements_by_xpath(\"//div[@class='_3LWZlK _1BLPMq']\")\n",
    "rating\n",
    "\n",
    "phone_rating1=[] # print phone_rating\n",
    "for i in rating:\n",
    "    phone_rating1.append(i.text)\n",
    "print(phone_rating1)\n",
    "\n",
    "print(\"\\n\")\n",
    "\n",
    "\n",
    "review=driver.find_elements_by_xpath(\"//p[@class='_2-N8zT']\")\n",
    "review\n",
    "\n",
    "review_summery1=[] # print review_summery.\n",
    "for i in review:\n",
    "    review_summery1.append(i.text)\n",
    "print(review_summery1)\n",
    "\n",
    "print(\"\\n\")\n",
    "\n",
    "full=driver.find_elements_by_xpath(\"//div[@class='t-ZTKy']\")\n",
    "full\n",
    "\n",
    "full_review1=[] #print full_review.\n",
    "for i in full:\n",
    "    full_review1.append(i.text)\n",
    "print(full_review1)"
   ]
  },
  {
   "cell_type": "code",
   "execution_count": 8,
   "metadata": {},
   "outputs": [],
   "source": [
    "# go on second page:-\n",
    "\n",
    "second_page=driver.find_element_by_xpath(\"/html/body/div[1]/div/div[3]/div/div/div[2]/div[13]/div/div/nav/a[2]\")\n",
    "second_page.click()\n"
   ]
  },
  {
   "cell_type": "code",
   "execution_count": 9,
   "metadata": {},
   "outputs": [
    {
     "name": "stdout",
     "output_type": "stream",
     "text": [
      "['5', '5', '5', '4', '5', '5', '5', '5', '5', '5']\n",
      "\n",
      "\n",
      "['Perfect product!', 'Worth every penny', 'Terrific', 'Nice product', 'Simply awesome', 'Highly recommended', 'Classy product', 'Wonderful', 'Brilliant', 'Must buy!']\n",
      "\n",
      "\n",
      "[\"Iphone is just awesome.. battery backup is very very nice.. continuously for 10 hours we can use it.camera is just awesome.. display is just fab.i love it alot..i had to wait 15 days for it as i pre ordered it..overalll it's worth the price..these all images are clicked by my iPhone..and i love it.\", 'It’s been almost a month since I have been using this phone. I upgraded from an iPhone 8. The main issue with my 8 was battery and this phone is just awesome when it comes to battery. It lasts a day and a half for me with my regular use , internet connected always with 4g\\nCan’t move forward without saying this. Battery of this phone is a life saver when I am traveling or at work when I don’t get the option to charge\\nCamera is superb. Front cam selfies and back cam photos are just awesome.\\n...\\nREAD MORE', 'Really worth of money. i just love it. It is the best phone ever.', 'Awesome Phone. Slightly high price but worth. Better than iPhone XR.\\nCamera is superb and wide angle camera is very clear.\\n12MP selfie camera is also very good.\\nA13 Chip gives a very good and smooth performance.', 'Excellent camera, good performance, no lag. The lcd display is also good.. but difference come when we watch movie in prime and Netflix, the colours are not vibrant.. as we see in amoled display.. and the charger in box is of 5 watts.. takes more than 3 hours to charge from 0 to 100.. so guys be prepare to buy 18 watts charger . Finally I am an android user, it was my first Iapple phone, I promise u guys the iOS is so smooth.. overall the phone is damn good.... close eyes to buy it.. thanks t...\\nREAD MORE', \"It's my first time to use iOS phone and I am loving my upgradation 😍😍 I love the color, I love the assebility of the phone....I need to learn more about its functionality, but as far as I have seen, it's quite easy and it has a lot of functions to work on, specially if you are a content writer or a blogger you get a lot of content creation platforms and they are really amazing.\\n\\nThis phone not only for good quality photography but a lot of other task too.😍💯\", 'Superb Product !!!\\nA big and worthy upgrade from mi 3S to iphone 11 .\\nTotally loved it !', 'This is my first ever I phone. Before this I was using my google nexus 5. But moving from android to iOS is a great experience. It’s worth at this price. I will highly recommend it if you want to move to iOS. The best part of this phone is it’s camera and it’s battery life. This two things have won my heart. I loved it. Happy to have it in my hand. Still exploring its features. And can’t forget to mention Flipkart service. Very prompt service and fast delivery.', 'I have migrated from OP 7pro... and trust me, iPhone 11 is totally worth it.. following are the reasons:-\\n1)there is ABSOLUTELY NO ISSUE WITH THE DISPLAY... its crisp, sharp and I found it to be much much better than OP7 pro. Netflix, Prime video all run crisply... you won’t miss a thing. True Tone works flawlessly...the display brightness is perfect. OP have not calibrated their screens properly.\\n2) iPhone 11 series have really good cameras... others have spoken in depth about them.\\n3) bat...\\nREAD MORE', 'It’s an amazing product from apple and the camera is simply superb. Phone is faster.Night shot is simply superb and detailing and colour differentiation from camera is an added advantage\\n\\nThis review I have written from iPhone 11 only and I am glad to say outside.\\n\\nCons wise if we see HD+ display only, no battery percentage indicator as in older iPhone 8.\\nNo assistive touch control button in it\\nNo oleophobic coating on back panel glass and finger prints are visible but since I bought mint gr...\\nREAD MORE']\n"
     ]
    }
   ],
   "source": [
    "rating=driver.find_elements_by_xpath(\"//div[@class='_3LWZlK _1BLPMq']\")\n",
    "rating\n",
    "\n",
    "phone_rating2=[] # print phone_rating from second page.\n",
    "for i in rating:\n",
    "    phone_rating2.append(i.text)\n",
    "print(phone_rating2)\n",
    "\n",
    "print(\"\\n\")\n",
    "\n",
    "review=driver.find_elements_by_xpath(\"//p[@class='_2-N8zT']\")\n",
    "review\n",
    "\n",
    "review_summery2=[] # print review_summery from second page.\n",
    "for i in review:\n",
    "    review_summery2.append(i.text)\n",
    "print(review_summery2)\n",
    "\n",
    "print(\"\\n\")\n",
    "\n",
    "full=driver.find_elements_by_xpath(\"//div[@class='t-ZTKy']\")\n",
    "full\n",
    "\n",
    "full_review2=[] # print full_review from second page.\n",
    "for i in full:\n",
    "    full_review2.append(i.text)\n",
    "print(full_review2)\n"
   ]
  },
  {
   "cell_type": "code",
   "execution_count": 10,
   "metadata": {},
   "outputs": [],
   "source": [
    "# go on 3rd page:-\n",
    "\n",
    "third_page=driver.find_element_by_xpath(\"/html/body/div[1]/div/div[3]/div/div/div[2]/div[13]/div/div/nav/a[4]\")\n",
    "third_page.click()\n"
   ]
  },
  {
   "cell_type": "code",
   "execution_count": 11,
   "metadata": {},
   "outputs": [
    {
     "name": "stdout",
     "output_type": "stream",
     "text": [
      "['5', '5', '5', '5', '5', '4', '5', '5', '5', '1']\n",
      "\n",
      "\n",
      "['Terrific purchase', 'Great product', 'Mind-blowing purchase', 'Terrific purchase', 'Simply awesome', 'Good quality product', 'Very poor', 'Best in the market!', 'Must buy!', 'Fabulous!']\n",
      "\n",
      "\n",
      "['Upgraded from iphone 6 to 11 best phone for iphone users battery is much better than other iphones camera is awesome love to use it.camera is so clear in night.', 'Well you all know the specifications . One of a kind. Best iPhone till date. Many enhancements to the camera app with many options. Love the glass body with matte finish in the lens area on the back. Lovely colours to choose from. Best battery in an iPhone till date, enough to last more than a day in normal usage. I tested my iPhone 11 battery and lasted for than 24 hours after full charge still with 30% battery charge left. Watched movies for some time. Normal usage on calls, browsing, musi...\\nREAD MORE', 'This will help you more. See if you are planning to buy iPhone 11. I will say. Yes. But there are some plans I just want to disclose before you buy. 1) If you are an existing iPhone X/XS/XS Max/ XR user, better you guys do not think it to buy. You guys have more or less better gadget. 2) If you are an android user and planning to buy premium phone. I will suggest them to please buy iPhone instead of buying an Android. I bet you will never go back to android after using IOS. Now I want to shar...\\nREAD MORE', 'The built quality is not very premium.\\nThe battery back is great .\\nThe LCD panel is not so sharp but the brightness level is very High .\\nCamera is super duper awesome.\\nThe red colour which people think is bright is actually very soothing and excellent colour to choose from .\\nThe A13 Bionic chip is really a flagship processor and can beat any phone which even has 12 gb ram .\\nCamera module is very great and looks very stylish.', 'Really good actually this is my first apple product am using its really awesome performance wise excellent. Am really happy with this iphone11', 'it is very good at performance. Camera is best like before and very smooth response even in water. Don’t buy 12 mini buy iPhone 11 , it is far better than 12 mini believe me ! Have a nice day \\uf8ff ☺️', 'Reviewing again after 5 months. At the beginning the battery and performance was good but it degraded soon. Also I was facing heating issues. The mobile will heat up like a stove sometimes. You cannot even play Pubg even in low settings properly, performance is not a problem but heating is. Also if you play that game for 10 mins the brightness will be automatically down due to over heating even when the auto brightness is set to off. This will not be solved even if u manually increase the bri...\\nREAD MORE', 'Great iPhone very snappy experience as apple kind. Upgraded from iPhone 7.\\nPros\\n-Camera top class\\n- Battery top performed\\n-Chipset no need to say as apple kind\\n-Security as you expect from apple\\n- Display super bright industry leading colour\\naccuracy and super responsive\\n-Build quality as expect from apple sturdy\\npremium durable beautiful stylish.\\n-Os most stable os in smartphone industry\\n\\nCons\\n-No 5G\\n-Display is not based on OLED technology\\n-Charger headphones and 1 apple stic...\\nREAD MORE', 'Best Apple iPhone that i have bought at a very reasonable price, camera quality is next level just awesome n of superior quality android phones not even close(RIP) to that and also battery is really good but packaging by Flipkart of iPhone was very poor of such a expensive product, firstly im bit worried about the quality of product if i purchased it through online how was the product but i think now this was mine best decision to bought it through Flipkart online because i got genuine Apple...\\nREAD MORE', \"I can say I'm damn impressed with iPhone 11. As they says iPhone 11 have the toughest glass ever in the smartphone which you'll find on the front and back and it's totally smooth. The fit and finish is full apple quality - there's no sense that any cheaping out has happened in the construction. Without saying it's camera features this review won't complete. The iPhone 11 has a dual camera system, consisting of a wide angle len's that's pretty much same as found on the iPhone XR last year, but...\\nREAD MORE\"]\n"
     ]
    }
   ],
   "source": [
    "rating=driver.find_elements_by_xpath(\"//div[@class='_3LWZlK _1BLPMq']\")\n",
    "rating\n",
    "\n",
    "phone_rating3=[] # print phone_rating from 3rd page.\n",
    "for i in rating:\n",
    "    phone_rating3.append(i.text)\n",
    "phone_rating3\n",
    "\n",
    "rating=driver.find_elements_by_xpath(\"//div[@class='_3LWZlK _1rdVr6 _1BLPMq']\")\n",
    "rating\n",
    "\n",
    "phone_rating_3a=[] # print phone_rating from 3rd page.\n",
    "for i in rating:\n",
    "    phone_rating_3a.append(i.text)\n",
    "phone_rating_3a\n",
    "\n",
    "ph_rating3=phone_rating3+phone_rating_3a\n",
    "print(ph_rating3)\n",
    "\n",
    "print(\"\\n\")\n",
    "\n",
    "\n",
    "review=driver.find_elements_by_xpath(\"//p[@class='_2-N8zT']\")\n",
    "review\n",
    "\n",
    "review_summery3=[] # print review_summery from 3rd page.\n",
    "for i in review:\n",
    "    review_summery3.append(i.text)\n",
    "print(review_summery3)\n",
    "\n",
    "print(\"\\n\")\n",
    "\n",
    "full=driver.find_elements_by_xpath(\"//div[@class='t-ZTKy']\")\n",
    "full\n",
    "\n",
    "full_review3=[]   #print full_review_ from 3rd page.\n",
    "for i in full:\n",
    "    full_review3.append(i.text)\n",
    "print(full_review3)"
   ]
  },
  {
   "cell_type": "code",
   "execution_count": 12,
   "metadata": {},
   "outputs": [],
   "source": [
    "# go on 4th page:-\n",
    "\n",
    "fourth_page=driver.find_element_by_xpath(\"/html/body/div[1]/div/div[3]/div/div/div[2]/div[13]/div/div/nav/a[5]\")\n",
    "fourth_page.click()\n"
   ]
  },
  {
   "cell_type": "code",
   "execution_count": 13,
   "metadata": {},
   "outputs": [
    {
     "name": "stdout",
     "output_type": "stream",
     "text": [
      "['5', '5', '5', '5', '5', '4', '4', '5', '5', '5']\n",
      "\n",
      "\n",
      "['Mind-blowing purchase', 'Mind-blowing purchase', 'Wonderful', 'Worth every penny', 'Wonderful', 'Good choice', 'Very Good', 'Perfect product!', 'Classy product', 'Perfect product!']\n",
      "\n",
      "\n",
      "['Best Quality Product OF iPhone Series , Sound Quality & Camera quality is very awesome, Battery Life is very Sufficient for 24 hr Backup With Full Internet Access , I love this this Product too much , It is very fast & making me Very fast in all my daily Routine\\nHighlights;\\n1.Camera: 5 STAR\\n2.Video Recording: 5 star\\n3.Night mODE sHOOTING & Camera:4 star\\n4. Audio Quality: Awesome\\n5. Battery : 5 Star\\n6. Touch:5 Star\\n7. Processor: Very Fast\\nThe M...\\nREAD MORE', 'First thanks to Flipkart for this amazing deal and phone is outstanding. I upgraded from iPhone 7 and this is like very big upgrade. But the packaging was very basic I expected a good packaging as they only wrapped one layer of bubble wrap which I don’t think is enough to protect this expensive phone. And I recommend this phone and seller as well.\\n\\nAnd I’m posting this review after using it for 4 days.', 'Superfast delivery by Flipkart. Thanks.\\n\\n1. iPhone 11 is a pretty solid phone for the money you are paying.\\n2. All the bad reviews about the display is confusing. It’s not that bad.\\n3. I switched from a Oneplus 7t. I have no complaints about the display quality of iPhone. Yes, it’s not OLED, so, we are missing on the deep blacks. But that’s it. It is a very colour accurate display. Gets adequately bright and I could not find any pixelation.\\n4. Performance is one of the best, if not best, in ...\\nREAD MORE', 'Smooth like butter, camera like fantabulous, sound is crystal clear & its red color is damn attractive, i am just loving it. Must buy if you love photography.\\n\\nLucky to get it in sale, thank you Flipkart.', 'I just directly switch from iphone 6s to iphone 11 .The best premium smartphone I recommend to everyone. Excellent quality and colors the iphone have in 11 series.\\nCamera quality is just awesome and the major feel when we hold in our hands. The sound quality and volume is also higher then the previous models.\\nI will recommend to buy iphone 11 instead of pro models , there is nothing much difference as this model contains everything which fulfill our needs.\\n\\nOnly one thing that I dislike abo...\\nREAD MORE', 'Looking so good 👍 😍 super 👌 stylish 😎 phone\\nClean box 📦 good 👍 delivery 👌 fast delivery\\nOriginal box Original iphone 📱 👌 😍😍😍', 'impressive super phone and best in class camera ,sound and face unlock is super fast just see and phone is unlock and fast in daily apps use', 'Battery backup is extraordinary, camera is decent & performance offered by A13 bionic is awsome. The display is good in practical usage like the visibility of display is very good in direct sun light compare to pro models. Iam extremely satisfied for the money I spent.', 'Well while switching from android to iOS the first thing you need to be careful about is that you will loose all your whatsapp chat backups as both are different operating systems. Camera clarity is awesome and though being an lcd screen clarity and resolution is good. Battery backup is also good unlike previous gen iPhone. So far the experience is good will Padre after a few months of usage.\\n\\nP.S the black is more of a dark grey shade and not jet black', 'In love with this iphone great performance,camera ,battery everything. Go for it have a uncompareble battery backup, no doubts in iPhone camera here You can see the picture which is shot on my iPhone In love with this iphone great performance,camera ,battery everything. Go for it have a uncompareble battery backup, no doubts in iPhone camera here You can see the picture which is shot on my iPhone In love with this iphone great performance,camera ,battery everything. Go for it have a uncompare...\\nREAD MORE']\n"
     ]
    }
   ],
   "source": [
    "rating=driver.find_elements_by_xpath(\"//div[@class='_3LWZlK _1BLPMq']\")\n",
    "rating\n",
    "\n",
    "phone_rating4=[] # print phone_rating from 4th page.\n",
    "for i in rating:\n",
    "    phone_rating4.append(i.text)\n",
    "print(phone_rating4)\n",
    "\n",
    "print(\"\\n\")\n",
    "\n",
    "review=driver.find_elements_by_xpath(\"//p[@class='_2-N8zT']\")\n",
    "review\n",
    "\n",
    "review_summery4=[] # print review_summery from 4th page.\n",
    "for i in review:\n",
    "    review_summery4.append(i.text)\n",
    "print(review_summery4)\n",
    "\n",
    "print(\"\\n\")\n",
    "\n",
    "full=driver.find_elements_by_xpath(\"//div[@class='t-ZTKy']\")\n",
    "full\n",
    "\n",
    "full_review4=[] # print full_review from 4th page.\n",
    "for i in full:\n",
    "    full_review4.append(i.text)\n",
    "print(full_review4)\n"
   ]
  },
  {
   "cell_type": "code",
   "execution_count": 14,
   "metadata": {},
   "outputs": [],
   "source": [
    "# go on 5th page:-\n",
    "\n",
    "fifth_page=driver.find_element_by_xpath(\"/html/body/div[1]/div/div[3]/div/div/div[2]/div[13]/div/div/nav/a[6]\")\n",
    "fifth_page.click()\n"
   ]
  },
  {
   "cell_type": "code",
   "execution_count": 15,
   "metadata": {},
   "outputs": [
    {
     "name": "stdout",
     "output_type": "stream",
     "text": [
      "['5', '5', '5', '5', '5', '5', '5', '5', '5', '5']\n",
      "\n",
      "\n",
      "['Just wow!', 'Awesome', 'Terrific purchase', 'Brilliant', 'Perfect product!', 'Highly recommended', 'Perfect product!', 'Excellent', 'Fabulous!', 'Excellent']\n",
      "\n",
      "\n",
      "['Best in class. Battery backup is good especially when you play games like Pubg COD. But it is sort of heavy when you hold in hands. Portrait mode is best to click pictures. Stage light effect is awesome. Try to click photos outside in nature because photos inside home or room will not give you the quality in any phone even in DSLR.', 'Very excited to have this phone. This phone has the real power unlike the android phones having SD 855 . The battery life is very good and the camera quality is excellent as comapred to redmi and other phones except google pixel. I M enjoying every single bit of it. Would recommed only if you have the budget.', 'Its Very awesome product working and good camera quality and all about best product and also flipkart is very great deal and offer nice price', 'Excellent camera and display touching very nice and smooth very improvement against iPhone XR and new processor is very fast', 'After 1 month use I found camera quality best compared to my previous Samsung note 10+.Display not good as note 10 also charging too slow.Apple should add fast charger like 11 plus and pro.Best phone for daily use', 'What a camera .....just awesome ..you can feel this iPhone just awesome . Good for gaming also ...try pubg in hd it’s just wow', 'Awesome purchase. Amazing phone with good battery backup. It’s a top notch device. White colour looks amazing. Phone has a few extra feature than iPhone XR. Overall, this is value for money', 'Amazing camera and feel super machine I am not describe my feeling but this is amazing Phone I am so lucky I have this', 'awesome phone to have. it has got many smart features apart from mind blowing looks, camera, display, battery and sound. have fallen in love with this phone. must buy phone if you have got enough money. thanks to flipkart and apple of course..', 'Its a fabulous mobile look awesome performance unbeaten camera like dslr battery good i think this is a beast of mobile']\n"
     ]
    }
   ],
   "source": [
    "rating=driver.find_elements_by_xpath(\"//div[@class='_3LWZlK _1BLPMq']\")\n",
    "rating\n",
    "\n",
    "phone_rating5=[]      # print phone_rating from 5th page.\n",
    "for i in rating:\n",
    "    phone_rating5.append(i.text)\n",
    "print(phone_rating5)\n",
    "\n",
    "print(\"\\n\")\n",
    "\n",
    "review=driver.find_elements_by_xpath(\"//p[@class='_2-N8zT']\")\n",
    "review\n",
    "\n",
    "review_summery5=[] # print review_summery from 5th page.\n",
    "for i in review:\n",
    "    review_summery5.append(i.text)\n",
    "print(review_summery5)\n",
    "\n",
    "print(\"\\n\")\n",
    "\n",
    "full=driver.find_elements_by_xpath(\"//div[@class='t-ZTKy']\")\n",
    "full\n",
    "\n",
    "full_review5=[] # print full_review from 5th page.\n",
    "for i in full:\n",
    "    full_review5.append(i.text)\n",
    "print(full_review5)"
   ]
  },
  {
   "cell_type": "code",
   "execution_count": 16,
   "metadata": {},
   "outputs": [],
   "source": [
    "# go on 6th page:-\n",
    "\n",
    "sixth_page=driver.find_element_by_xpath(\"/html/body/div[1]/div/div[3]/div/div/div[2]/div[13]/div/div/nav/a[7]\")\n",
    "sixth_page.click()\n"
   ]
  },
  {
   "cell_type": "code",
   "execution_count": 17,
   "metadata": {},
   "outputs": [
    {
     "name": "stdout",
     "output_type": "stream",
     "text": [
      "['5', '5', '5', '5', '5', '5', '5', '4', '5', '5']\n",
      "\n",
      "\n",
      "['Must buy!', 'Simply awesome', 'Brilliant', 'Terrific purchase', 'Simply awesome', 'Perfect product!', 'Worth every penny', 'Value-for-money', 'Just wow!', 'Super!']\n",
      "\n",
      "\n",
      "['Dear friends... I want to share my experience with you about this amazing I phone 11....this is my first iPhone and special things about this mobile is it has great camera, battery backup and awesome display.... I mean everything is perfect.loved it 👍👍👍', \"It's very high performances devise i am like the service of flipkart delevary very fast and packing very nice perfect phone\", 'Amazing phone and on great deal I received with super fast delivery by Flipkart...', 'finally an iPhone with very nice battery backup. update from iPhone 7 and happy to have it. camera is not up to the mark in low light but overall a recommended phone if your budget allows 😀', 'Really satisfied with the Product I received... It’s totally genuine and the packaging was also really good so if ur planning to buy just go for it.', 'Worth the money’ starting first from its performance it beats out all phones , second the smoothness of camera is awesome, contrast ratio is much than expected. Price will not matter if u r a quality person, if not other phones are available with better discount', 'i11 is worthy to buy, too much happy with the product. Thank u flipkart I received the item on time..loved it..', \"I'm Really happy with the product\\nDelivery was fast as well\\n..it was a gift for my sister and she loved it so much.\", 'Great iphone.\\nI am writing this review after 2 months of usage.\\nCamera is excellent, especially the nightmode\\nDisplay perfect\\nBattery backup awesome\\nSound quality very good\\nOverall Apple gives you a perfect iphone in this range.\\nReally in love with iPhone 11', 'Did an upgrade from 6s plus to iphone 11.\\nAo far the experience is well and good. Felt smoother than 6s plus. The camera quality is superb. Battery backup is descent. Not a heavy user, and gets power more than a day. Go for it if you need an alrounder iphone in a competitve price.']\n"
     ]
    }
   ],
   "source": [
    "rating=driver.find_elements_by_xpath(\"//div[@class='_3LWZlK _1BLPMq']\")\n",
    "rating\n",
    "\n",
    "phone_rating6=[]         # print phone_rating from 6th page.\n",
    "for i in rating:\n",
    "    phone_rating6.append(i.text)\n",
    "print(phone_rating6)\n",
    "\n",
    "print(\"\\n\")\n",
    "\n",
    "review=driver.find_elements_by_xpath(\"//p[@class='_2-N8zT']\")\n",
    "review\n",
    "\n",
    "review_summery6=[]      # print review_summery from 6th page.\n",
    "for i in review:\n",
    "    review_summery6.append(i.text)\n",
    "print(review_summery6)\n",
    "\n",
    "print(\"\\n\")\n",
    "\n",
    "full=driver.find_elements_by_xpath(\"//div[@class='t-ZTKy']\")\n",
    "full\n",
    "\n",
    "full_review6=[]  # print full_review from 6th page.\n",
    "for i in full:\n",
    "    full_review6.append(i.text)\n",
    "print(full_review6)\n"
   ]
  },
  {
   "cell_type": "code",
   "execution_count": 18,
   "metadata": {},
   "outputs": [],
   "source": [
    "# go on 7th page:-\n",
    "\n",
    "seventh_page=driver.find_element_by_xpath(\"/html/body/div[1]/div/div[3]/div/div/div[2]/div[13]/div/div/nav/a[7]\")\n",
    "seventh_page.click()\n"
   ]
  },
  {
   "cell_type": "code",
   "execution_count": 19,
   "metadata": {},
   "outputs": [
    {
     "name": "stdout",
     "output_type": "stream",
     "text": [
      "['5', '5', '5', '5', '5', '5', '5', '4', '5', '5']\n",
      "\n",
      "\n",
      "['Perfect product!', 'Must buy!', 'Great product', 'Perfect product!', 'Awesome', 'Mind-blowing purchase', 'Fabulous!', 'Good quality product', 'Excellent', 'Mind-blowing purchase']\n",
      "\n",
      "\n",
      "['Value for money\\n5 star rating\\nExcellent camera\\nBattery backup full day in single charge.\\n\\nTougher and water resistant design, glossy back.\\nThe screen has excellent brightness and contrast.\\nApple A13 Bionic is the fastest smartphone chip on the planet.\\nExcellent battery life, fast charging support.\\nStereo speakers with great quality.', 'Damn this phone is a blast . Upgraded from android to ios and is a duperb experience. Battery backup is top notch and display also pretty good', \"Again back to apple iphone after a gap of 2-3 years. It's pleasure to use iOS and the quality product by Apple. Iphone 11 still works like a beast in 2021 also. It really capable of doing day to day usage as well as hard core gaming. Battery is awesome. I'm really too much satisfied with it. Apart fto the very gorgious IPS LCD (AMOLED will be better) everything is mind boggling. Iphone💕.\", 'Best and amazing product.....phone looks so premium.... battary is also good as expected .... Wide angle camera is so addictive ...if you are a IOS lover....then this phone will be the best choice for you all!!💯🔥', 'Always love the apple products, upgraded from old iPhone 6S plus to this after having my first baby. I just love to click baby’s photos with it. Overall I just love this phone. Battery back up is okay, sound quality is good. Haven’t tested yet waterproof yet. Only one thing I hate is apple could have given charger & headphones in box.', 'awesome Phone Smooth Touch Too good Sexyy looks one word Awesome', 'I purchased the iPhone 11 a month back. I must say Apple has impressed me yet again . I have been an Apple user for past 5 years . The phone is power packed with amazing features . What impressed me the most was the battery backup the phone offers . Battery can easily run upto 1.5 days in single charge with moderate to\\nHeavy usage . If you’re looking for a value for money device , I don’t see any other phone in the price range which can match the iPhone 11 .\\nOne thing I didn’t like was that ...\\nREAD MORE', \"I'm switching this phone to oppo reno 10x zoom\\nIt's really impressive\\nRarely I'm missing smooth display touch response like oppo reno but\\nI really loved it.\\nCamera really impressive\", \"Just go for it.\\nThis phone is really amazing. I ordered it for my wife and we click photos on this thing which are better than dslr. I own OnePlus 6t but it's camera sucks. iPhone is really amazing when it comes to camera. It's worth spending 50k on this. Cons- only display is lcd. While using u don't feel it but if u compare with other phone then u can see difference quite easily.\\nChanging from Android to iphone is bit difficult coz most of things u don't know but I liked it. Some of the a...\\nREAD MORE\", 'Absolutely powerful gadget. Loved it’s look! Soo glassy and classy. I would definitely recommend this model of Apple. Only disappointed with the 5W charger, one should purchase an 18W adapter for fast charging. Though battery backup is great. Bought it in September 2020, reviewing after so long so I’m gonna put the genuine review here.✅']\n"
     ]
    }
   ],
   "source": [
    "rating=driver.find_elements_by_xpath(\"//div[@class='_3LWZlK _1BLPMq']\")\n",
    "rating\n",
    "\n",
    "phone_rating7=[]          # print phone_rating from 7th page.\n",
    "for i in rating:\n",
    "    phone_rating7.append(i.text)\n",
    "print(phone_rating7)\n",
    "\n",
    "print(\"\\n\")\n",
    "\n",
    "review=driver.find_elements_by_xpath(\"//p[@class='_2-N8zT']\")\n",
    "review\n",
    "\n",
    "review_summery7=[]         # print review_summery from 7th page.\n",
    "for i in review:\n",
    "    review_summery7.append(i.text)\n",
    "print(review_summery7)\n",
    "\n",
    "print(\"\\n\")\n",
    "\n",
    "full=driver.find_elements_by_xpath(\"//div[@class='t-ZTKy']\")\n",
    "full\n",
    "\n",
    "full_review7=[]   # print full_review from 7th page.\n",
    "for i in full:\n",
    "    full_review7.append(i.text)\n",
    "print(full_review7)"
   ]
  },
  {
   "cell_type": "code",
   "execution_count": 20,
   "metadata": {},
   "outputs": [],
   "source": [
    "# go on 8th page:-\n",
    "\n",
    "eightth_page=driver.find_element_by_xpath(\"/html/body/div[1]/div/div[3]/div/div/div[2]/div[13]/div/div/nav/a[7]\")\n",
    "eightth_page.click()\n"
   ]
  },
  {
   "cell_type": "code",
   "execution_count": 21,
   "metadata": {},
   "outputs": [
    {
     "name": "stdout",
     "output_type": "stream",
     "text": [
      "['4', '5', '5', '3', '5', '5', '5', '5', '5', '5']\n",
      "\n",
      "\n",
      "['Good quality product', 'Terrific purchase', 'Awesome', 'Decent product', 'Must buy!', 'Just wow!', 'Excellent', 'Awesome', 'Classy product', 'Super!']\n",
      "\n",
      "\n",
      "['I was torn between the oneplus 8 pro and the iphone 11. I had to shell out extra money for this, but I say if you can afford it, this truely is the best package.\\nMind blowing camera, battery and overall performance. Face Id works like magic even in complete darkness without firing up the screen brightness. The phones with in display fingerprint scanners do this at night time and it really burns your eyes.\\nI wanted the oneplus for its display but tbh the OLEDs on oneplus is really bad. Flick...\\nREAD MORE', 'I use a Note10+ and have been using both iOS and Android devices.\\n\\nCamera has really good features and portraits are super good, better than Samsung flagship. Overall camera setup can still be enhanced and hopeful for better upgrades on software in next release\\n\\nOperating system is quite a breeze and user experience of daily usage is very high as compared to Android. I moved to iOS very swiftly in 2 days for all my office work from Note10+\\n\\nBattery holds up quite well with 4 hrs of call and ...\\nREAD MORE', 'The phone is completely good\\nAs far as camera Apple is king of it\\nAnd its a beast in performance\\nAnd the battery is pretty good too', 'Everything u ll like it when u use this iPhone. Simple changes only not many to lower models but it’s nice to use. Little heavy compared to previous models like 7,8', 'I rate this product 5* as it has got amazing user experience with the best performing A13 bionic processor. The screen responds and graphics rendering is top notch. With casual gaming and internet browsing, the battery lasts for approx. 1 day. Camera is very good. You will fall in love with the portrait mode. You can call me a loyal Apple customer or whatever but I won’t stop praising the products and overall experience. That user experience matters and is worth every penny you pay.\\n\\nBelow ar...\\nREAD MORE', 'The ultimate performance\\nCamera is superb\\nThe battery backup also very good i never saw iphone gives this much of battery backup\\nIf any one wana buy iphone 11 definitely i will recommend this mobile\\nIt has the better battery and powerfull processer peak performance glorious camera and the display also 100% high quality lcd display if u had money for for 12 if u dont wana invest much money on that then go for iphone 11 it has maximum same specs only main difference between the 12 and 11 is...\\nREAD MORE', 'Seller - SuperComNet ( my trust in you has grown deeper. Thanks for the genuine product )\\nThe package came packed perfectly. The box was sealed which gave me a big relief.\\n\\nApple needs no introduction since its the dominant market player. I just love the way how IPhone 11 stands out so boldly. The moment I took it out from the box, I could feel the premium intensity. The body is remarkable and crafted for giving you a elite vibe.\\n\\nCamera is to die for. There is no other phone that can beat...\\nREAD MORE', 'Can’t beat the software and hardware integration of apple.\\nPerforms like a beast. Great quality camera\\n6-7 hours screen on time which is good. Nothing much to complaint about the screen. Good connectivity speeds.\\nGreat buy and Flipkart’s delivery top notch as usual', 'We are on apple ecosystem for almost eight years now with couple of iPads and iPhones, including Xr.\\n\\nBought iPhone 11 as a gift to my daughter who loves it. We chose for a purple coloured one. Believe me it is gorgeous and towards the lighter shade. Dazzling and brilliant!\\n\\nThe phone is great and does excellent RAM management like any other Apple device.\\n\\nThe screen, though a LCD and lesser ppi as compared to other flagship phones of competitor brands, is a delight to watch with perfect re...\\nREAD MORE', \"It's a great phone. From camera to display everything is best for the price.\\nBest camera , best performance. I think everyone should buy it . This phone has best battery life so far in iphone series which I had used earlier. Happy to have it. Thanks Flipkart\"]\n"
     ]
    }
   ],
   "source": [
    "rating=driver.find_elements_by_xpath(\"//div[@class='_3LWZlK _1BLPMq']\")\n",
    "rating\n",
    "\n",
    "phone_rating8=[] # print phone_rating from 8th page.\n",
    "for i in rating:\n",
    "    phone_rating8.append(i.text)\n",
    "print(phone_rating8)\n",
    "\n",
    "print(\"\\n\")\n",
    "\n",
    "review=driver.find_elements_by_xpath(\"//p[@class='_2-N8zT']\")\n",
    "review\n",
    "\n",
    "review_summery8=[]   # print review_summery from 8th page.\n",
    "for i in review:\n",
    "    review_summery8.append(i.text)\n",
    "print(review_summery8)\n",
    "\n",
    "print(\"\\n\")\n",
    "\n",
    "full=driver.find_elements_by_xpath(\"//div[@class='t-ZTKy']\")\n",
    "full\n",
    "\n",
    "full_review8=[]   # print full_review from 8th page.\n",
    "for i in full:\n",
    "    full_review8.append(i.text)\n",
    "print(full_review8)\n"
   ]
  },
  {
   "cell_type": "code",
   "execution_count": 24,
   "metadata": {},
   "outputs": [],
   "source": [
    "# go on 9th page:-\n",
    "\n",
    "ninth_page=driver.find_element_by_xpath(\"/html/body/div[1]/div/div[3]/div/div/div[2]/div[13]/div/div/nav/a[7]\")\n",
    "ninth_page.click()\n"
   ]
  },
  {
   "cell_type": "code",
   "execution_count": 25,
   "metadata": {},
   "outputs": [
    {
     "name": "stdout",
     "output_type": "stream",
     "text": [
      "['5', '4', '5', '4', '4', '5', '5', '5', '5', '1']\n",
      "\n",
      "\n",
      "['Excellent', 'Value-for-money', 'Perfect product!', 'Wonderful', 'Good quality product', 'Classy product', 'Not recommended at all', 'Fabulous!', 'Best in the market!', 'Mind-blowing purchase']\n",
      "\n",
      "\n",
      "['Value for money product. This iphone 11 is really amazing. Again nice release by apple. Great camera, battery backup is excellent. I just love this phone', \"Just got this iphone 11\\nAnd it is most powerful mobile phone I have used ever\\n\\nSo,go for it if you want a phone with best specification like camera,battery backup,display, A13 bionic chip\\n\\nThat's my review about this phone but yours can be differ from me....\", 'It is just awesome mobile for this price from Apple,\\n\\nAfter 10 days review\\n\\nBattery enough for 1 day even 24*7 Internet will be on and mostly internet usage\\n\\nCamera is just awesome cool , android 64 MP is equal to this just 12 MP\\n\\nA13 Bionic chip will give more high performance without hanging\\n\\nAudio stereo speakers will give Dolby atoms sound with crystal clear\\n\\nVideo recording is like cinematic shots of every sec can be a 4K 60fps. Just awesome this phone\\niPhone 11 loved one', \"I genuinely liked it. One of the best mobile phones I have used. It's sho smooth and it's security is very astonishing. Plus it has a very good camera quality. so overall it's a win win.\", 'Awesome camera, smooth and fast UI, display is great (though not LED) but the black area at the top could have been reduced. Battery remains a day even if used heavily. Charger in the box is ok, but 12 or 18W could have been nothing like anything. Overall an excellent product and comfortable to use. I have got it almost a month back and so far so good.', \"I write this review after using a week this iPhone 11.\\nI'm 6 Years Old Android User and this is my first iPhone. Basically I searched for a phone with a Great Camera and Video Quality for Making YouTube Videos My Budget was around 40-50k then I search a lot on the Internet. Then I finally decide to buy this phone. I've been using this phone for about a week and I purchased this phone at 45K and I'm really happy with that. Its Software Integration with Processor is Just Awesome! This phone can...\\nREAD MORE\", 'They are selling cheep quality items. There is a black line on the edge of the display. Waiting for the replacement..\\n\\nUpdate:today I got the replacement from flipkart.. The second one is nice and the display and camera quality is much better than the previous one.. Thanks for the support', 'Everything is perfect pictures come out so clearly and at first I wasn’t sure when I got it then when I started to use it and get the hang of it it was amazing!! I can’t wait to see what the next future phones will be like. The screen display on this bad boy are unbelievable they are so clear and never fail me. The performance is super cool there is a lot of cool features as well I like this phone because I feel that it is easy to use and one of my favorite things about this phone is the Face...\\nREAD MORE', \"The best all rounder iphone. Flipkart is doing a great job. They're delivery services are blazing fast. I got delivery on the same day. Genuine Apple Product. Working great. Talking about review There's no need of review for iphones. They're simply the best.\", \"i was confused between 11 and 11 pro. i was going towards 11 pro, but the screen size was not enough for me.\\nAnd i saw 11 in the showroom. i didn't find much difference in screen quality.And cameras seems to be ok with me. And i saw offer's in flipkart and made the purchase.\\nthe device is fabulous. The hardware and software quality is excellent. The new iOS is something you need to experience yourself. The drawback i found was absence of fast charger, but the pricing can compensate that. Am...\\nREAD MORE\"]\n"
     ]
    }
   ],
   "source": [
    "rating=driver.find_elements_by_xpath(\"//div[@class='_3LWZlK _1BLPMq']\")\n",
    "rating\n",
    "\n",
    "phone_rating9=[]    # print phone_rating from 9th page.\n",
    "for i in rating:\n",
    "    phone_rating9.append(i.text)\n",
    "phone_rating9\n",
    "\n",
    "rating=driver.find_elements_by_xpath(\"//div[@class='_3LWZlK _1rdVr6 _1BLPMq']\")\n",
    "rating\n",
    "\n",
    "phone_rating_9a=[] # print phone_rating from 9th page.\n",
    "for i in rating:\n",
    "    phone_rating_9a.append(i.text)\n",
    "phone_rating_9a\n",
    "\n",
    "ph_rating9=phone_rating9+phone_rating_9a\n",
    "print(ph_rating9)\n",
    "\n",
    "print(\"\\n\")\n",
    "\n",
    "\n",
    "review=driver.find_elements_by_xpath(\"//p[@class='_2-N8zT']\")\n",
    "review\n",
    "\n",
    "review_summery9=[] # print review_summery from 9th page.\n",
    "for i in review:\n",
    "    review_summery9.append(i.text)\n",
    "print(review_summery9)\n",
    "\n",
    "print(\"\\n\")\n",
    "\n",
    "full=driver.find_elements_by_xpath(\"//div[@class='t-ZTKy']\")\n",
    "full\n",
    "\n",
    "full_review9=[]  # print full_review from 9th page.\n",
    "for i in full:\n",
    "    full_review9.append(i.text)\n",
    "print(full_review9)\n"
   ]
  },
  {
   "cell_type": "code",
   "execution_count": 26,
   "metadata": {},
   "outputs": [],
   "source": [
    "# go on 10th page:-\n",
    "\n",
    "tenth_page=driver.find_element_by_xpath(\"/html/body/div[1]/div/div[3]/div/div/div[2]/div[13]/div/div/nav/a[7]\")\n",
    "tenth_page.click()\n"
   ]
  },
  {
   "cell_type": "code",
   "execution_count": 27,
   "metadata": {},
   "outputs": [
    {
     "name": "stdout",
     "output_type": "stream",
     "text": [
      "['5', '5', '5', '5', '5', '5', '3', '5', '5', '5']\n",
      "\n",
      "\n",
      "['Super!', 'Terrific', 'Brilliant', 'Most Price worthy Iphone', 'Terrific', 'Terrific purchase', 'Does the job', 'Excellent', 'Wonderful', 'Fabulous!']\n",
      "\n",
      "\n",
      "['This is my first ever iPhone.\\nAnd I truly don’t regret switching to IOS from my Android.\\n\\nIt is easily an alternative to a DSLR camera.\\nIf you’re obsessed with photos and videos, just don’t think twice or don’t compare to other androids(Samsung S10 lite or OnePlus 8/8T), as it’s far better from them in every field.\\nComparing will only make you confused.\\n\\nI am getting an average Screen on Time of around 10 hours with 30 percent left. I haven’t let my device discharged below 30 % as it aff...\\nREAD MORE', 'Awesome phone in budget... If you are going for an Android phone for say above 40 k then add more 5 to 7k and go for IPHONE 11 you will get awesome phone with CLASS.\\n\\nMy first IPhone and it is great to have iPhone 11\\n\\nThanks to Flipkart for one day delivery, got the phone delivered in 24hrs.....\\n\\nBattery 10\\nLooks 10\\nPerformance 10\\nCamera 10\\nBattery 9', 'Wow wow and wow, in 48k you will not get anything better than this, processor is awsome, camera is a beast, display is superb, this is my first iphone, and I am already in love with these', 'Reviewing within 1st Month\\n\\n\\n1st Month Review\\nThis is my first Iphone. So been new to the Ios Environment i faced some basic issues. Whatever issues i am facing is because of change in environment.\\nVideo Output is amazing.\\nBattery - Typical One Day Battery. 20 W fast charger is amazing which charges the iphone within 40-60 Mins ( purchased separately)\\nCamera - Good and Natural Colours. ( I have Samsung S21+ and not at par with its camera) but the output is same all the time which is good.\\n...\\nREAD MORE', \"I upgraded (downgraded?) from my iPhone X since the phone fell down and I didn't want to repair the screen. The box that the phone came in was super slim and I was worried that there'd be no 5W charger with it and my fears were confirmed. However, thankfully I had the 18W USB-C PD charger from Apple which I bought for my iPhone X and it worked perfectly. The charging time is as lethargic as ever though and it takes about 1:30 mins or even 2 hours depending on charge remaining. I'll list some ...\\nREAD MORE\", 'Well , as we all know if its not an Iphone , its not an iphone . The iphones are always beast . The camera game has been level up . The A13 Bionic is just fabulous . The update this year are certainly the camera which is damn good with d addition of wide angle lens as well as ultra wide . If anyones purchasing an iphone for the first time , do opt for the black color . Its just feels more than premium . Battery life is damn good with lasting fully a day . Overall a nice package . Well managed...\\nREAD MORE', \"phone is good but in display is 720p lcd in this price range we can get full hd OLED displays with higher refresh rate processor is very good camera is nice but looks kind of oldish in front of todays phone also there's no charging in box had to buy it seperately\", 'A perfect phone and a good battery super camera and the sound is dynamic overall the phone is perfect for upgrading from lower iPhone model to iPhone 11', 'Nice value for money good and best price I phone mind blowing camera processor very fast other android mobile I am happy India top selling phone 2020', \"Just an awesome phone...upgraded from 6s to 11 and trust me guys it's super cool with amazing features..loved it ♥️ and a big thank you to Flipkart for delivering it in just 2 days ?\"]\n"
     ]
    }
   ],
   "source": [
    "rating=driver.find_elements_by_xpath(\"//div[@class='_3LWZlK _1BLPMq']\")\n",
    "rating\n",
    "\n",
    "phone_rating10=[]    # print phone_rating from 10th page.\n",
    "for i in rating:\n",
    "    phone_rating10.append(i.text)\n",
    "print(phone_rating10)\n",
    "\n",
    "print(\"\\n\")\n",
    "\n",
    "review=driver.find_elements_by_xpath(\"//p[@class='_2-N8zT']\")\n",
    "review\n",
    "\n",
    "review_summery10=[]   # print review_summery from 10th page.\n",
    "for i in review:\n",
    "    review_summery10.append(i.text)\n",
    "print(review_summery10)\n",
    "\n",
    "print(\"\\n\")\n",
    "\n",
    "full=driver.find_elements_by_xpath(\"//div[@class='t-ZTKy']\")\n",
    "full\n",
    "\n",
    "full_review10=[]  # print full_review from 10th page.\n",
    "for i in full:\n",
    "    full_review10.append(i.text)\n",
    "print(full_review10)\n"
   ]
  },
  {
   "cell_type": "code",
   "execution_count": 30,
   "metadata": {},
   "outputs": [
    {
     "name": "stdout",
     "output_type": "stream",
     "text": [
      "['5', '5', '5', '5', '4', '5', '5', '5', '5', '5', '5', '5', '5', '4', '5', '5', '5', '5', '5', '5', '5', '5', '5', '5', '5', '4', '5', '5', '5', '1', '5', '5', '5', '5', '5', '4', '4', '5', '5', '5', '5', '5', '5', '5', '5', '5', '5', '5', '5', '5', '5', '5', '5', '5', '5', '5', '5', '4', '5', '5', '5', '5', '5', '5', '5', '5', '5', '4', '5', '5', '4', '5', '5', '3', '5', '5', '5', '5', '5', '5', '5', '4', '5', '4', '4', '5', '5', '5', '5', '1', '5', '5', '5', '5', '5', '5', '3', '5', '5', '5']\n",
      "\n",
      "\n",
      "['Brilliant', 'Perfect product!', 'Great product', 'Worth every penny', 'Good choice', 'Highly recommended', 'Perfect product!', 'Perfect product!', 'Fabulous!', 'Worth every penny', 'Perfect product!', 'Worth every penny', 'Terrific', 'Nice product', 'Simply awesome', 'Highly recommended', 'Classy product', 'Wonderful', 'Brilliant', 'Must buy!', 'Terrific purchase', 'Great product', 'Mind-blowing purchase', 'Terrific purchase', 'Simply awesome', 'Good quality product', 'Very poor', 'Best in the market!', 'Must buy!', 'Fabulous!', 'Mind-blowing purchase', 'Mind-blowing purchase', 'Wonderful', 'Worth every penny', 'Wonderful', 'Good choice', 'Very Good', 'Perfect product!', 'Classy product', 'Perfect product!', 'Just wow!', 'Awesome', 'Terrific purchase', 'Brilliant', 'Perfect product!', 'Highly recommended', 'Perfect product!', 'Excellent', 'Fabulous!', 'Excellent', 'Must buy!', 'Simply awesome', 'Brilliant', 'Terrific purchase', 'Simply awesome', 'Perfect product!', 'Worth every penny', 'Value-for-money', 'Just wow!', 'Super!', 'Perfect product!', 'Must buy!', 'Great product', 'Perfect product!', 'Awesome', 'Mind-blowing purchase', 'Fabulous!', 'Good quality product', 'Excellent', 'Mind-blowing purchase', 'Good quality product', 'Terrific purchase', 'Awesome', 'Decent product', 'Must buy!', 'Just wow!', 'Excellent', 'Awesome', 'Classy product', 'Super!', 'Excellent', 'Value-for-money', 'Perfect product!', 'Wonderful', 'Good quality product', 'Classy product', 'Not recommended at all', 'Fabulous!', 'Best in the market!', 'Mind-blowing purchase', 'Super!', 'Terrific', 'Brilliant', 'Most Price worthy Iphone', 'Terrific', 'Terrific purchase', 'Does the job', 'Excellent', 'Wonderful', 'Fabulous!']\n",
      "\n",
      "\n",
      "['The Best Phone for the Money\\n\\nThe iPhone 11 offers superb cameras, a more durable design and excellent battery life for an affordable price.\\n\\nCompelling ultra-wide camera\\nNew Night mode is excellent\\nLong battery life', 'Amazing phone with great cameras and better battery which gives you the best performance. I just love the camera .', 'Amazing Powerful and Durable Gadget.\\n\\nI’m am very happy with the camera picture quality, Amazing face id unlocked in dark room, Strong battery with perfect screen size as you can carry easily in pocket. This is my third iPhone.\\n\\nI shifted from android Samsung Note series to iPhone because of the strong build quality and peace of mind for next 3-4 years.\\n\\nDon’t think to much just go for it and I suggest you to go for minimum 128gb variant or more 256gb.\\n\\nI’ve attached my puppy pics and no fi...\\nREAD MORE', 'Previously I was using one plus 3t it was a great phone\\nAnd then I decided to upgrade I am stuck between Samsung s10 plus or iPhone 11\\nI have seen the specs and everything were good except the display it’s somewhere between 720-1080 and it’s not even an amoled it’s an LCD display\\nBut I decided to go with iPhone because I have never used an IOS device I have Been an android user from the past 9 years I ordered IPhone 11 (128gb) product red\\nMy experience after using 3 weeks\\n1. The delivery ...\\nREAD MORE', 'So far it’s been an AMAZING experience coming back to iOS after nearly a decade but it’s not as versatile as android though phone is sturdy dropped it accidentally a couple of times and nothing happened fortunately camera is awesome', 'iphone 11 is a very good phone to buy only if you can compromise for the display. The display on this is device is pretty good but you can get other options with better displays in this price segment.\\nIf you can survive with an HD+ LCD panel with thicker bezels and a notch up top then this is a very good phone for you.\\nCameras are awesome, battery backup excellent, great performance and a decent premium look. Good job Apple !', 'It’s a must buy who is looking for an upgrade from previous generation of iPhones. If you are using XR then still you can hold on for sometime and upgrade to 2020 model else this phone is a must buy . Camera quality is amazing and wide angle is something to count upon. Performance wise it’s amazing and feels premium while holding in hand. So a big YES for this device. Go for 128 GB variant as the 4K videos will occupy lots of space and the storage can get over very quickly. Try to buy it with...\\nREAD MORE', 'Value for money❤️❤️\\nIts awesome mobile phone in the world ...\\nDisplay was very good and bright ..\\nTrust me freinds you r never regret after Buying..\\nJust go for it....\\nI love this phone and i switch to iphone x to 11', 'This is my first iOS phone. I am very happy with this product. Very much satisfied with this. I love this phone.', 'Best budget Iphone till date ❤️ go for it guys without second thought. Let me explain you guys about Camera, Display, battery, and performance.\\n\\nCamera: at this price range there is no comparison of camera, you’ll love the picture quality as well as video quality. I am a Vlogger I wanted an iPhone with 4k video by front camera and I got this phone and I am more than happy 😃\\n\\nBattery: I use this phone roughly as I am active social media person and I have a youtube channel. so the battery ba...\\nREAD MORE', \"Iphone is just awesome.. battery backup is very very nice.. continuously for 10 hours we can use it.camera is just awesome.. display is just fab.i love it alot..i had to wait 15 days for it as i pre ordered it..overalll it's worth the price..these all images are clicked by my iPhone..and i love it.\", 'It’s been almost a month since I have been using this phone. I upgraded from an iPhone 8. The main issue with my 8 was battery and this phone is just awesome when it comes to battery. It lasts a day and a half for me with my regular use , internet connected always with 4g\\nCan’t move forward without saying this. Battery of this phone is a life saver when I am traveling or at work when I don’t get the option to charge\\nCamera is superb. Front cam selfies and back cam photos are just awesome.\\n...\\nREAD MORE', 'Really worth of money. i just love it. It is the best phone ever.', 'Awesome Phone. Slightly high price but worth. Better than iPhone XR.\\nCamera is superb and wide angle camera is very clear.\\n12MP selfie camera is also very good.\\nA13 Chip gives a very good and smooth performance.', 'Excellent camera, good performance, no lag. The lcd display is also good.. but difference come when we watch movie in prime and Netflix, the colours are not vibrant.. as we see in amoled display.. and the charger in box is of 5 watts.. takes more than 3 hours to charge from 0 to 100.. so guys be prepare to buy 18 watts charger . Finally I am an android user, it was my first Iapple phone, I promise u guys the iOS is so smooth.. overall the phone is damn good.... close eyes to buy it.. thanks t...\\nREAD MORE', \"It's my first time to use iOS phone and I am loving my upgradation 😍😍 I love the color, I love the assebility of the phone....I need to learn more about its functionality, but as far as I have seen, it's quite easy and it has a lot of functions to work on, specially if you are a content writer or a blogger you get a lot of content creation platforms and they are really amazing.\\n\\nThis phone not only for good quality photography but a lot of other task too.😍💯\", 'Superb Product !!!\\nA big and worthy upgrade from mi 3S to iphone 11 .\\nTotally loved it !', 'This is my first ever I phone. Before this I was using my google nexus 5. But moving from android to iOS is a great experience. It’s worth at this price. I will highly recommend it if you want to move to iOS. The best part of this phone is it’s camera and it’s battery life. This two things have won my heart. I loved it. Happy to have it in my hand. Still exploring its features. And can’t forget to mention Flipkart service. Very prompt service and fast delivery.', 'I have migrated from OP 7pro... and trust me, iPhone 11 is totally worth it.. following are the reasons:-\\n1)there is ABSOLUTELY NO ISSUE WITH THE DISPLAY... its crisp, sharp and I found it to be much much better than OP7 pro. Netflix, Prime video all run crisply... you won’t miss a thing. True Tone works flawlessly...the display brightness is perfect. OP have not calibrated their screens properly.\\n2) iPhone 11 series have really good cameras... others have spoken in depth about them.\\n3) bat...\\nREAD MORE', 'It’s an amazing product from apple and the camera is simply superb. Phone is faster.Night shot is simply superb and detailing and colour differentiation from camera is an added advantage\\n\\nThis review I have written from iPhone 11 only and I am glad to say outside.\\n\\nCons wise if we see HD+ display only, no battery percentage indicator as in older iPhone 8.\\nNo assistive touch control button in it\\nNo oleophobic coating on back panel glass and finger prints are visible but since I bought mint gr...\\nREAD MORE', 'Upgraded from iphone 6 to 11 best phone for iphone users battery is much better than other iphones camera is awesome love to use it.camera is so clear in night.', 'Well you all know the specifications . One of a kind. Best iPhone till date. Many enhancements to the camera app with many options. Love the glass body with matte finish in the lens area on the back. Lovely colours to choose from. Best battery in an iPhone till date, enough to last more than a day in normal usage. I tested my iPhone 11 battery and lasted for than 24 hours after full charge still with 30% battery charge left. Watched movies for some time. Normal usage on calls, browsing, musi...\\nREAD MORE', 'This will help you more. See if you are planning to buy iPhone 11. I will say. Yes. But there are some plans I just want to disclose before you buy. 1) If you are an existing iPhone X/XS/XS Max/ XR user, better you guys do not think it to buy. You guys have more or less better gadget. 2) If you are an android user and planning to buy premium phone. I will suggest them to please buy iPhone instead of buying an Android. I bet you will never go back to android after using IOS. Now I want to shar...\\nREAD MORE', 'The built quality is not very premium.\\nThe battery back is great .\\nThe LCD panel is not so sharp but the brightness level is very High .\\nCamera is super duper awesome.\\nThe red colour which people think is bright is actually very soothing and excellent colour to choose from .\\nThe A13 Bionic chip is really a flagship processor and can beat any phone which even has 12 gb ram .\\nCamera module is very great and looks very stylish.', 'Really good actually this is my first apple product am using its really awesome performance wise excellent. Am really happy with this iphone11', 'it is very good at performance. Camera is best like before and very smooth response even in water. Don’t buy 12 mini buy iPhone 11 , it is far better than 12 mini believe me ! Have a nice day \\uf8ff ☺️', 'Reviewing again after 5 months. At the beginning the battery and performance was good but it degraded soon. Also I was facing heating issues. The mobile will heat up like a stove sometimes. You cannot even play Pubg even in low settings properly, performance is not a problem but heating is. Also if you play that game for 10 mins the brightness will be automatically down due to over heating even when the auto brightness is set to off. This will not be solved even if u manually increase the bri...\\nREAD MORE', 'Great iPhone very snappy experience as apple kind. Upgraded from iPhone 7.\\nPros\\n-Camera top class\\n- Battery top performed\\n-Chipset no need to say as apple kind\\n-Security as you expect from apple\\n- Display super bright industry leading colour\\naccuracy and super responsive\\n-Build quality as expect from apple sturdy\\npremium durable beautiful stylish.\\n-Os most stable os in smartphone industry\\n\\nCons\\n-No 5G\\n-Display is not based on OLED technology\\n-Charger headphones and 1 apple stic...\\nREAD MORE', 'Best Apple iPhone that i have bought at a very reasonable price, camera quality is next level just awesome n of superior quality android phones not even close(RIP) to that and also battery is really good but packaging by Flipkart of iPhone was very poor of such a expensive product, firstly im bit worried about the quality of product if i purchased it through online how was the product but i think now this was mine best decision to bought it through Flipkart online because i got genuine Apple...\\nREAD MORE', \"I can say I'm damn impressed with iPhone 11. As they says iPhone 11 have the toughest glass ever in the smartphone which you'll find on the front and back and it's totally smooth. The fit and finish is full apple quality - there's no sense that any cheaping out has happened in the construction. Without saying it's camera features this review won't complete. The iPhone 11 has a dual camera system, consisting of a wide angle len's that's pretty much same as found on the iPhone XR last year, but...\\nREAD MORE\", 'Best Quality Product OF iPhone Series , Sound Quality & Camera quality is very awesome, Battery Life is very Sufficient for 24 hr Backup With Full Internet Access , I love this this Product too much , It is very fast & making me Very fast in all my daily Routine\\nHighlights;\\n1.Camera: 5 STAR\\n2.Video Recording: 5 star\\n3.Night mODE sHOOTING & Camera:4 star\\n4. Audio Quality: Awesome\\n5. Battery : 5 Star\\n6. Touch:5 Star\\n7. Processor: Very Fast\\nThe M...\\nREAD MORE', 'First thanks to Flipkart for this amazing deal and phone is outstanding. I upgraded from iPhone 7 and this is like very big upgrade. But the packaging was very basic I expected a good packaging as they only wrapped one layer of bubble wrap which I don’t think is enough to protect this expensive phone. And I recommend this phone and seller as well.\\n\\nAnd I’m posting this review after using it for 4 days.', 'Superfast delivery by Flipkart. Thanks.\\n\\n1. iPhone 11 is a pretty solid phone for the money you are paying.\\n2. All the bad reviews about the display is confusing. It’s not that bad.\\n3. I switched from a Oneplus 7t. I have no complaints about the display quality of iPhone. Yes, it’s not OLED, so, we are missing on the deep blacks. But that’s it. It is a very colour accurate display. Gets adequately bright and I could not find any pixelation.\\n4. Performance is one of the best, if not best, in ...\\nREAD MORE', 'Smooth like butter, camera like fantabulous, sound is crystal clear & its red color is damn attractive, i am just loving it. Must buy if you love photography.\\n\\nLucky to get it in sale, thank you Flipkart.', 'I just directly switch from iphone 6s to iphone 11 .The best premium smartphone I recommend to everyone. Excellent quality and colors the iphone have in 11 series.\\nCamera quality is just awesome and the major feel when we hold in our hands. The sound quality and volume is also higher then the previous models.\\nI will recommend to buy iphone 11 instead of pro models , there is nothing much difference as this model contains everything which fulfill our needs.\\n\\nOnly one thing that I dislike abo...\\nREAD MORE', 'Looking so good 👍 😍 super 👌 stylish 😎 phone\\nClean box 📦 good 👍 delivery 👌 fast delivery\\nOriginal box Original iphone 📱 👌 😍😍😍', 'impressive super phone and best in class camera ,sound and face unlock is super fast just see and phone is unlock and fast in daily apps use', 'Battery backup is extraordinary, camera is decent & performance offered by A13 bionic is awsome. The display is good in practical usage like the visibility of display is very good in direct sun light compare to pro models. Iam extremely satisfied for the money I spent.', 'Well while switching from android to iOS the first thing you need to be careful about is that you will loose all your whatsapp chat backups as both are different operating systems. Camera clarity is awesome and though being an lcd screen clarity and resolution is good. Battery backup is also good unlike previous gen iPhone. So far the experience is good will Padre after a few months of usage.\\n\\nP.S the black is more of a dark grey shade and not jet black', 'In love with this iphone great performance,camera ,battery everything. Go for it have a uncompareble battery backup, no doubts in iPhone camera here You can see the picture which is shot on my iPhone In love with this iphone great performance,camera ,battery everything. Go for it have a uncompareble battery backup, no doubts in iPhone camera here You can see the picture which is shot on my iPhone In love with this iphone great performance,camera ,battery everything. Go for it have a uncompare...\\nREAD MORE', 'Best in class. Battery backup is good especially when you play games like Pubg COD. But it is sort of heavy when you hold in hands. Portrait mode is best to click pictures. Stage light effect is awesome. Try to click photos outside in nature because photos inside home or room will not give you the quality in any phone even in DSLR.', 'Very excited to have this phone. This phone has the real power unlike the android phones having SD 855 . The battery life is very good and the camera quality is excellent as comapred to redmi and other phones except google pixel. I M enjoying every single bit of it. Would recommed only if you have the budget.', 'Its Very awesome product working and good camera quality and all about best product and also flipkart is very great deal and offer nice price', 'Excellent camera and display touching very nice and smooth very improvement against iPhone XR and new processor is very fast', 'After 1 month use I found camera quality best compared to my previous Samsung note 10+.Display not good as note 10 also charging too slow.Apple should add fast charger like 11 plus and pro.Best phone for daily use', 'What a camera .....just awesome ..you can feel this iPhone just awesome . Good for gaming also ...try pubg in hd it’s just wow', 'Awesome purchase. Amazing phone with good battery backup. It’s a top notch device. White colour looks amazing. Phone has a few extra feature than iPhone XR. Overall, this is value for money', 'Amazing camera and feel super machine I am not describe my feeling but this is amazing Phone I am so lucky I have this', 'awesome phone to have. it has got many smart features apart from mind blowing looks, camera, display, battery and sound. have fallen in love with this phone. must buy phone if you have got enough money. thanks to flipkart and apple of course..', 'Its a fabulous mobile look awesome performance unbeaten camera like dslr battery good i think this is a beast of mobile', 'Dear friends... I want to share my experience with you about this amazing I phone 11....this is my first iPhone and special things about this mobile is it has great camera, battery backup and awesome display.... I mean everything is perfect.loved it 👍👍👍', \"It's very high performances devise i am like the service of flipkart delevary very fast and packing very nice perfect phone\", 'Amazing phone and on great deal I received with super fast delivery by Flipkart...', 'finally an iPhone with very nice battery backup. update from iPhone 7 and happy to have it. camera is not up to the mark in low light but overall a recommended phone if your budget allows 😀', 'Really satisfied with the Product I received... It’s totally genuine and the packaging was also really good so if ur planning to buy just go for it.', 'Worth the money’ starting first from its performance it beats out all phones , second the smoothness of camera is awesome, contrast ratio is much than expected. Price will not matter if u r a quality person, if not other phones are available with better discount', 'i11 is worthy to buy, too much happy with the product. Thank u flipkart I received the item on time..loved it..', \"I'm Really happy with the product\\nDelivery was fast as well\\n..it was a gift for my sister and she loved it so much.\", 'Great iphone.\\nI am writing this review after 2 months of usage.\\nCamera is excellent, especially the nightmode\\nDisplay perfect\\nBattery backup awesome\\nSound quality very good\\nOverall Apple gives you a perfect iphone in this range.\\nReally in love with iPhone 11', 'Did an upgrade from 6s plus to iphone 11.\\nAo far the experience is well and good. Felt smoother than 6s plus. The camera quality is superb. Battery backup is descent. Not a heavy user, and gets power more than a day. Go for it if you need an alrounder iphone in a competitve price.', 'Value for money\\n5 star rating\\nExcellent camera\\nBattery backup full day in single charge.\\n\\nTougher and water resistant design, glossy back.\\nThe screen has excellent brightness and contrast.\\nApple A13 Bionic is the fastest smartphone chip on the planet.\\nExcellent battery life, fast charging support.\\nStereo speakers with great quality.', 'Damn this phone is a blast . Upgraded from android to ios and is a duperb experience. Battery backup is top notch and display also pretty good', \"Again back to apple iphone after a gap of 2-3 years. It's pleasure to use iOS and the quality product by Apple. Iphone 11 still works like a beast in 2021 also. It really capable of doing day to day usage as well as hard core gaming. Battery is awesome. I'm really too much satisfied with it. Apart fto the very gorgious IPS LCD (AMOLED will be better) everything is mind boggling. Iphone💕.\", 'Best and amazing product.....phone looks so premium.... battary is also good as expected .... Wide angle camera is so addictive ...if you are a IOS lover....then this phone will be the best choice for you all!!💯🔥', 'Always love the apple products, upgraded from old iPhone 6S plus to this after having my first baby. I just love to click baby’s photos with it. Overall I just love this phone. Battery back up is okay, sound quality is good. Haven’t tested yet waterproof yet. Only one thing I hate is apple could have given charger & headphones in box.', 'awesome Phone Smooth Touch Too good Sexyy looks one word Awesome', 'I purchased the iPhone 11 a month back. I must say Apple has impressed me yet again . I have been an Apple user for past 5 years . The phone is power packed with amazing features . What impressed me the most was the battery backup the phone offers . Battery can easily run upto 1.5 days in single charge with moderate to\\nHeavy usage . If you’re looking for a value for money device , I don’t see any other phone in the price range which can match the iPhone 11 .\\nOne thing I didn’t like was that ...\\nREAD MORE', \"I'm switching this phone to oppo reno 10x zoom\\nIt's really impressive\\nRarely I'm missing smooth display touch response like oppo reno but\\nI really loved it.\\nCamera really impressive\", \"Just go for it.\\nThis phone is really amazing. I ordered it for my wife and we click photos on this thing which are better than dslr. I own OnePlus 6t but it's camera sucks. iPhone is really amazing when it comes to camera. It's worth spending 50k on this. Cons- only display is lcd. While using u don't feel it but if u compare with other phone then u can see difference quite easily.\\nChanging from Android to iphone is bit difficult coz most of things u don't know but I liked it. Some of the a...\\nREAD MORE\", 'Absolutely powerful gadget. Loved it’s look! Soo glassy and classy. I would definitely recommend this model of Apple. Only disappointed with the 5W charger, one should purchase an 18W adapter for fast charging. Though battery backup is great. Bought it in September 2020, reviewing after so long so I’m gonna put the genuine review here.✅', 'I was torn between the oneplus 8 pro and the iphone 11. I had to shell out extra money for this, but I say if you can afford it, this truely is the best package.\\nMind blowing camera, battery and overall performance. Face Id works like magic even in complete darkness without firing up the screen brightness. The phones with in display fingerprint scanners do this at night time and it really burns your eyes.\\nI wanted the oneplus for its display but tbh the OLEDs on oneplus is really bad. Flick...\\nREAD MORE', 'I use a Note10+ and have been using both iOS and Android devices.\\n\\nCamera has really good features and portraits are super good, better than Samsung flagship. Overall camera setup can still be enhanced and hopeful for better upgrades on software in next release\\n\\nOperating system is quite a breeze and user experience of daily usage is very high as compared to Android. I moved to iOS very swiftly in 2 days for all my office work from Note10+\\n\\nBattery holds up quite well with 4 hrs of call and ...\\nREAD MORE', 'The phone is completely good\\nAs far as camera Apple is king of it\\nAnd its a beast in performance\\nAnd the battery is pretty good too', 'Everything u ll like it when u use this iPhone. Simple changes only not many to lower models but it’s nice to use. Little heavy compared to previous models like 7,8', 'I rate this product 5* as it has got amazing user experience with the best performing A13 bionic processor. The screen responds and graphics rendering is top notch. With casual gaming and internet browsing, the battery lasts for approx. 1 day. Camera is very good. You will fall in love with the portrait mode. You can call me a loyal Apple customer or whatever but I won’t stop praising the products and overall experience. That user experience matters and is worth every penny you pay.\\n\\nBelow ar...\\nREAD MORE', 'The ultimate performance\\nCamera is superb\\nThe battery backup also very good i never saw iphone gives this much of battery backup\\nIf any one wana buy iphone 11 definitely i will recommend this mobile\\nIt has the better battery and powerfull processer peak performance glorious camera and the display also 100% high quality lcd display if u had money for for 12 if u dont wana invest much money on that then go for iphone 11 it has maximum same specs only main difference between the 12 and 11 is...\\nREAD MORE', 'Seller - SuperComNet ( my trust in you has grown deeper. Thanks for the genuine product )\\nThe package came packed perfectly. The box was sealed which gave me a big relief.\\n\\nApple needs no introduction since its the dominant market player. I just love the way how IPhone 11 stands out so boldly. The moment I took it out from the box, I could feel the premium intensity. The body is remarkable and crafted for giving you a elite vibe.\\n\\nCamera is to die for. There is no other phone that can beat...\\nREAD MORE', 'Can’t beat the software and hardware integration of apple.\\nPerforms like a beast. Great quality camera\\n6-7 hours screen on time which is good. Nothing much to complaint about the screen. Good connectivity speeds.\\nGreat buy and Flipkart’s delivery top notch as usual', 'We are on apple ecosystem for almost eight years now with couple of iPads and iPhones, including Xr.\\n\\nBought iPhone 11 as a gift to my daughter who loves it. We chose for a purple coloured one. Believe me it is gorgeous and towards the lighter shade. Dazzling and brilliant!\\n\\nThe phone is great and does excellent RAM management like any other Apple device.\\n\\nThe screen, though a LCD and lesser ppi as compared to other flagship phones of competitor brands, is a delight to watch with perfect re...\\nREAD MORE', \"It's a great phone. From camera to display everything is best for the price.\\nBest camera , best performance. I think everyone should buy it . This phone has best battery life so far in iphone series which I had used earlier. Happy to have it. Thanks Flipkart\", 'Value for money product. This iphone 11 is really amazing. Again nice release by apple. Great camera, battery backup is excellent. I just love this phone', \"Just got this iphone 11\\nAnd it is most powerful mobile phone I have used ever\\n\\nSo,go for it if you want a phone with best specification like camera,battery backup,display, A13 bionic chip\\n\\nThat's my review about this phone but yours can be differ from me....\", 'It is just awesome mobile for this price from Apple,\\n\\nAfter 10 days review\\n\\nBattery enough for 1 day even 24*7 Internet will be on and mostly internet usage\\n\\nCamera is just awesome cool , android 64 MP is equal to this just 12 MP\\n\\nA13 Bionic chip will give more high performance without hanging\\n\\nAudio stereo speakers will give Dolby atoms sound with crystal clear\\n\\nVideo recording is like cinematic shots of every sec can be a 4K 60fps. Just awesome this phone\\niPhone 11 loved one', \"I genuinely liked it. One of the best mobile phones I have used. It's sho smooth and it's security is very astonishing. Plus it has a very good camera quality. so overall it's a win win.\", 'Awesome camera, smooth and fast UI, display is great (though not LED) but the black area at the top could have been reduced. Battery remains a day even if used heavily. Charger in the box is ok, but 12 or 18W could have been nothing like anything. Overall an excellent product and comfortable to use. I have got it almost a month back and so far so good.', \"I write this review after using a week this iPhone 11.\\nI'm 6 Years Old Android User and this is my first iPhone. Basically I searched for a phone with a Great Camera and Video Quality for Making YouTube Videos My Budget was around 40-50k then I search a lot on the Internet. Then I finally decide to buy this phone. I've been using this phone for about a week and I purchased this phone at 45K and I'm really happy with that. Its Software Integration with Processor is Just Awesome! This phone can...\\nREAD MORE\", 'They are selling cheep quality items. There is a black line on the edge of the display. Waiting for the replacement..\\n\\nUpdate:today I got the replacement from flipkart.. The second one is nice and the display and camera quality is much better than the previous one.. Thanks for the support', 'Everything is perfect pictures come out so clearly and at first I wasn’t sure when I got it then when I started to use it and get the hang of it it was amazing!! I can’t wait to see what the next future phones will be like. The screen display on this bad boy are unbelievable they are so clear and never fail me. The performance is super cool there is a lot of cool features as well I like this phone because I feel that it is easy to use and one of my favorite things about this phone is the Face...\\nREAD MORE', \"The best all rounder iphone. Flipkart is doing a great job. They're delivery services are blazing fast. I got delivery on the same day. Genuine Apple Product. Working great. Talking about review There's no need of review for iphones. They're simply the best.\", \"i was confused between 11 and 11 pro. i was going towards 11 pro, but the screen size was not enough for me.\\nAnd i saw 11 in the showroom. i didn't find much difference in screen quality.And cameras seems to be ok with me. And i saw offer's in flipkart and made the purchase.\\nthe device is fabulous. The hardware and software quality is excellent. The new iOS is something you need to experience yourself. The drawback i found was absence of fast charger, but the pricing can compensate that. Am...\\nREAD MORE\", 'This is my first ever iPhone.\\nAnd I truly don’t regret switching to IOS from my Android.\\n\\nIt is easily an alternative to a DSLR camera.\\nIf you’re obsessed with photos and videos, just don’t think twice or don’t compare to other androids(Samsung S10 lite or OnePlus 8/8T), as it’s far better from them in every field.\\nComparing will only make you confused.\\n\\nI am getting an average Screen on Time of around 10 hours with 30 percent left. I haven’t let my device discharged below 30 % as it aff...\\nREAD MORE', 'Awesome phone in budget... If you are going for an Android phone for say above 40 k then add more 5 to 7k and go for IPHONE 11 you will get awesome phone with CLASS.\\n\\nMy first IPhone and it is great to have iPhone 11\\n\\nThanks to Flipkart for one day delivery, got the phone delivered in 24hrs.....\\n\\nBattery 10\\nLooks 10\\nPerformance 10\\nCamera 10\\nBattery 9', 'Wow wow and wow, in 48k you will not get anything better than this, processor is awsome, camera is a beast, display is superb, this is my first iphone, and I am already in love with these', 'Reviewing within 1st Month\\n\\n\\n1st Month Review\\nThis is my first Iphone. So been new to the Ios Environment i faced some basic issues. Whatever issues i am facing is because of change in environment.\\nVideo Output is amazing.\\nBattery - Typical One Day Battery. 20 W fast charger is amazing which charges the iphone within 40-60 Mins ( purchased separately)\\nCamera - Good and Natural Colours. ( I have Samsung S21+ and not at par with its camera) but the output is same all the time which is good.\\n...\\nREAD MORE', \"I upgraded (downgraded?) from my iPhone X since the phone fell down and I didn't want to repair the screen. The box that the phone came in was super slim and I was worried that there'd be no 5W charger with it and my fears were confirmed. However, thankfully I had the 18W USB-C PD charger from Apple which I bought for my iPhone X and it worked perfectly. The charging time is as lethargic as ever though and it takes about 1:30 mins or even 2 hours depending on charge remaining. I'll list some ...\\nREAD MORE\", 'Well , as we all know if its not an Iphone , its not an iphone . The iphones are always beast . The camera game has been level up . The A13 Bionic is just fabulous . The update this year are certainly the camera which is damn good with d addition of wide angle lens as well as ultra wide . If anyones purchasing an iphone for the first time , do opt for the black color . Its just feels more than premium . Battery life is damn good with lasting fully a day . Overall a nice package . Well managed...\\nREAD MORE', \"phone is good but in display is 720p lcd in this price range we can get full hd OLED displays with higher refresh rate processor is very good camera is nice but looks kind of oldish in front of todays phone also there's no charging in box had to buy it seperately\", 'A perfect phone and a good battery super camera and the sound is dynamic overall the phone is perfect for upgrading from lower iPhone model to iPhone 11', 'Nice value for money good and best price I phone mind blowing camera processor very fast other android mobile I am happy India top selling phone 2020', \"Just an awesome phone...upgraded from 6s to 11 and trust me guys it's super cool with amazing features..loved it ♥️ and a big thank you to Flipkart for delivering it in just 2 days ?\"]\n"
     ]
    }
   ],
   "source": [
    "# printing all the 100 data:-\n",
    "\n",
    "# Rating\n",
    "total_rating=(phone_rating1+phone_rating2+ph_rating3+phone_rating4+phone_rating5+phone_rating6+phone_rating7+phone_rating8+ph_rating9+phone_rating10)\n",
    "print(total_rating)\n",
    "\n",
    "print(\"\\n\")\n",
    "\n",
    "# review:-\n",
    "\n",
    "total_review_summery=(review_summery1+review_summery2+review_summery3+review_summery4+review_summery5+review_summery6+review_summery7+review_summery8+review_summery9+review_summery10)\n",
    "print(total_review_summery)\n",
    "\n",
    "print(\"\\n\")\n",
    "\n",
    "# full_review:-\n",
    "\n",
    "total_full_review=(full_review1+full_review2+full_review3+full_review4+full_review5+full_review6+full_review7+full_review8+full_review9+full_review10)\n",
    "print(total_full_review)"
   ]
  },
  {
   "cell_type": "markdown",
   "metadata": {},
   "source": [
    "# Question:8"
   ]
  },
  {
   "cell_type": "markdown",
   "metadata": {},
   "source": [
    "Scrape data for first 100 sneakers you find when you visit flipkart.com and search for “sneakers” in the search field?"
   ]
  },
  {
   "cell_type": "code",
   "execution_count": 31,
   "metadata": {},
   "outputs": [],
   "source": [
    "# connected to the web driver:-\n",
    "\n",
    "driver=webdriver.Chrome(\"chromedriver.exe\")\n"
   ]
  },
  {
   "cell_type": "code",
   "execution_count": 32,
   "metadata": {},
   "outputs": [],
   "source": [
    "# enter url:-\n",
    "\n",
    "driver.get(\"https://www.flipkart.com/\")\n"
   ]
  },
  {
   "cell_type": "code",
   "execution_count": 33,
   "metadata": {},
   "outputs": [],
   "source": [
    "# finding the product search_bar:-\n",
    "\n",
    "search_product=driver.find_element_by_xpath(\"//input[@class='_3704LK']\")\n",
    "search_product.send_keys(\"sneaker\")\n"
   ]
  },
  {
   "cell_type": "code",
   "execution_count": 34,
   "metadata": {},
   "outputs": [],
   "source": [
    "# making button for click:-\n",
    "    \n",
    "search_button=driver.find_element_by_xpath(\"//button[@class='L0Z3Pu']\")\n",
    "search_button.click()\n"
   ]
  },
  {
   "cell_type": "code",
   "execution_count": 43,
   "metadata": {},
   "outputs": [
    {
     "name": "stdout",
     "output_type": "stream",
     "text": [
      "['Robbie jones', 'oxpeo', 'Robbie jones', 'Numenzo', 'Robbie jones', 'ORICUM', 'Stefano Rads', 'HOTSTYLE', 'Shoes Bank', 'Echor', 'VIPSJAZZY', '\"trend\"', 'PUMA', 'ARMADO', 'aadi', 'Birde', 'BRUTON', 'VORII', 'Robbie jones', \"LEVI'S\", 'bluemaker', 'SCATCHITE', 'restinfoot', 'STRANGER BROTHERS', '3SIX5', 'Numenzo', 'Magnolia', 'Birde', 'World Wear Footwear', 'BRUTON', 'Kraasa', 'World Wear Footwear', 'Zsyto', 'RED TAPE', 'SPARX', 'T-ROCK', 'World Wear Footwear', 'World Wear Footwear', 'HOTSTYLE', 'RED TAPE']\n",
      "\n",
      "\n",
      "['Casual Sneakers Shoes For Men Sneakers For Men', 'Colourblocked Trending Multicolor Ultralight canvas Spo...', 'Casual Sneakers Shoes For Men Sneakers For Men', 'Sneakers For Men', 'Sneakers For Men', 'Combo pack of 2 casual sneaker shoes for men Sneakers F...', 'Sneakers Sneakers For Men', \"White Sneaker For Men's/Boy's Sneakers For Men\", 'Fashionable casual sneakers shoes for men Sneakers For ...', 'Anzarun Lite Sneakers For Men', 'casual shoes For Mens Combo(AR)-1658-1619 ( Multicolor-...', 'Sneakers For Men', 'Combo Pack of 4 Casual Shoes Sneakers For Men', 'Combo Pack Of 4 Canvas Sneakers For Men', 'Latest Stylish Casual sneakers for men | Lace up lightw...', 'Casual Sneakers Black Shoes For Men Sneakers For Men', 'Basic 2.0 Sneakers For Men', 'casual for men (blue 06) Sneakers For Men', 'Sneakers Sneakers For Men', 'Casual shoes Sneakers For Men', 'Sneakers For Men', 'ORIFWSH(OR)-1077 Sneakers For Men', 'Casual Sneaker Sneakers For Men', 'White Sneakers Sneakers For Men', 'Combo Pack of 4 Casual Shoes Sneakers For Men', 'Sneakers For Men', 'Sneakers For Men', 'Series 7 Sneakers For Men', 'Combo Pack of 4 Latest Collection Stylish Casual Loafer...', 'Sneakers For Men', 'SM-482 Sneakers For Men', 'Synthetic Leather Casual Partywear Wedding Sneakers Sho...', 'Men 5014 Latest Collection Stylish Casual Sports Loafer...', '5011-Latest Collection Stylish Casual Loafer Sneakers S...', 'Sneakers Sneakers For Men']\n",
      "\n",
      "\n",
      "['₹499', '₹419', '₹379', '₹398', '₹474', '₹377', '₹242', '₹283', '₹331', '₹569', '₹419', '₹449', '₹1,975', '₹498', '₹298', '₹842', '₹499', '₹379', '₹428', '₹1,499', '₹449', '₹398', '₹379', '₹474', '₹214', '₹539', '₹305', '₹661', '₹240', '₹299', '₹416', '₹499', '₹328', '₹1,708', '₹965', '₹378', '₹240', '₹240', '₹299', '₹1,228']\n",
      "\n",
      "\n",
      "['50% off', '58% off', '62% off', '60% off', '52% off', '62% off', '65% off', '43% off', '66% off', '43% off', '58% off', '77% off', '34% off', '50% off', '70% off', '57% off', '85% off', '62% off', '57% off', '50% off', '55% off', '60% off', '62% off', '52% off', '57% off', '46% off', '69% off', '66% off', '51% off', '76% off', '58% off', '81% off', '74% off', '70% off', '28% off', '62% off', '51% off', '51% off', '40% off', '70% off']\n"
     ]
    }
   ],
   "source": [
    "brand=driver.find_elements_by_xpath(\"//div[@class='_2WkVRV']\")\n",
    "brand\n",
    "\n",
    "brand_name1=[] #printing brand.\n",
    "for i in brand:\n",
    "    brand_name1.append(i.text)\n",
    "print(brand_name1)\n",
    "\n",
    "print(\"\\n\")\n",
    "\n",
    "product=driver.find_elements_by_xpath(\"//a[@class='IRpwTa']\")\n",
    "product\n",
    "\n",
    "product_description1=[] # printing product_description.\n",
    "for i in product:\n",
    "    product_description1.append(i.text)\n",
    "print(product_description1)\n",
    "\n",
    "print(\"\\n\")\n",
    "\n",
    "price=driver.find_elements_by_xpath(\"//div[@class='_30jeq3']\")\n",
    "price\n",
    "\n",
    "price_1=[]  #printing price.\n",
    "for i in price:\n",
    "    price_1.append(i.text)\n",
    "print(price_1)\n",
    "\n",
    "print(\"\\n\")\n",
    "\n",
    "discount=driver.find_elements_by_xpath(\"//div[@class='_3Ay6Sb']\")\n",
    "discount\n",
    "\n",
    "discount_1=[]  # printing discount.\n",
    "for i in discount:\n",
    "    discount_1.append(i.text)\n",
    "print(discount_1)"
   ]
  },
  {
   "cell_type": "code",
   "execution_count": 44,
   "metadata": {},
   "outputs": [],
   "source": [
    "# go on 2nd page:-\n",
    "\n",
    "second_page=driver.find_element_by_xpath(\"/html/body/div[1]/div/div[3]/div[1]/div[2]/div[12]/div/div/nav/a[2]\")\n",
    "second_page.click()\n"
   ]
  },
  {
   "cell_type": "code",
   "execution_count": 56,
   "metadata": {},
   "outputs": [
    {
     "name": "stdout",
     "output_type": "stream",
     "text": [
      "['T-ROCK', 'Raftar', 'Airland', 'Nilatin', 'D-SNEAKERZ', 'Numenzo', 'bluemaker', 'Birde', 'Zorth', 'VORII', 'World Wear Footwear', 'SPARX', 'Baogi', 'RED TAPE', 'Robbie jones', 'Englewood', 'ESSENCE', 'BLACK BOTTOM', 'bacca bucci', 'Magnolia', 'T-ROCK', 'LEATHERKRAFT', 'BRUTON', 'BRUTON', 'Wen Hawk', 'TR', 'Deals4you', 'bluemaker', 'ESSENCE', \"LEVI'S\", 'Nilatin', 'Magnolia', 'Xtoon', \"LEVI'S\", 'PUMA', 'SPARX', 'VISTAARA', 'Numenzo', 'BRUTON', 'REEBOK CLASSICS']\n",
      "\n",
      "\n",
      "['Synthetic Leather Casual Sneakers Shoes For Men Sneaker...', 'Sneakers For Men', 'shoe Sneakers For Men', \"Casual , Partywear Sneakers Shoes For Men's And Boys Wh...\", 'Sneakers For Men', 'casual for men (black 08) Sneakers For Men', 'Combo Pack of 4 Casual Shoes Sneakers For Men', 'Latest Stylish Casual sneakers for men | Lace up lightw...', 'Latest Collection-1227 Stylish Casual Sports Sneakers F...', 'Classic Sneakers For Men', 'Casual Sneakers Shoes For Men Sneakers For Men', 'Sneakers For Men', 'Fashion Outdoor Canvas Casual Light Weight Partywear Sn...', 'Mens Ultraforce Mid-top Athletic-Inspired Retro Fashion...', 'Sneakers For Men', 'Sneakers For Men', 'Sneakers For Men', 'Combo Pack of 5 Casual Sneakers With Sneakers For Men', 'Combo Pack of 2 Casual Shoes Sneakers For Men', 'Latest Stylish Casual sneakers for men | Lace up lightw...', 'Sneakers For Men', \"White Sneaker For Men's/Boy's Sneakers For Men Sneakers...\", 'casual shoe for men Sneakers For Men', 'Sneakers For Men', 'Jordy Buck Sneakers For Men', 'Sneakers For Men', 'Casual shoes Sneakers For Men', 'Basic 2.0 Sneakers For Men', 'Icon IDP Sneakers For Men', 'SM-162 Sneakers For Men', '489 Black Sneakers For Men', 'Casual Sneaker Sneakers For Men', 'CUBIC_1 Sneakers For Men']\n",
      "\n",
      "\n",
      "['₹449', '₹368', '₹265', '₹407', '₹367', '₹429', '₹449', '₹661', '₹599', '₹379', '₹240', '₹599', '₹399', '₹1,678', '₹474', '₹499', '₹442', '₹449', '₹949', '₹424', '₹449', '₹299', '₹719', '₹425', '₹323', '₹599', '₹359', '₹449', '₹442', '₹1,499', '₹407', '₹424', '₹359', '₹1,499', '₹1,047', '₹730', '₹279', '₹599', '₹299', '₹2,399']\n",
      "\n",
      "\n",
      "['55% off', '63% off', '46% off', '68% off', '44% off', '57% off', '55% off', '66% off', '40% off', '62% off', '51% off', '14% off', '60% off', '70% off', '52% off', '66% off', '55% off', '55% off', '62% off', '71% off', '55% off', '70% off', '82% off', '82% off', '67% off', '70% off', '64% off', '55% off', '55% off', '50% off', '68% off', '57% off', '64% off', '50% off', '68% off', '23% off', '72% off', '40% off', '76% off', '40% off']\n"
     ]
    }
   ],
   "source": [
    "brand=driver.find_elements_by_xpath(\"//div[@class='_2WkVRV']\")\n",
    "brand\n",
    "\n",
    "brand_name2=[] #printing brand from 2nd page.\n",
    "for i in brand:\n",
    "    brand_name2.append(i.text)\n",
    "print(brand_name2)\n",
    "\n",
    "print(\"\\n\")\n",
    "\n",
    "product=driver.find_elements_by_xpath(\"//a[@class='IRpwTa']\")\n",
    "product\n",
    "\n",
    "product_description2=[] # printing product_description from 2nd page.\n",
    "for i in product:\n",
    "    product_description2.append(i.text)\n",
    "print(product_description2)\n",
    "\n",
    "print(\"\\n\")\n",
    "\n",
    "price=driver.find_elements_by_xpath(\"//div[@class='_30jeq3']\")\n",
    "price\n",
    "\n",
    "price_2=[] #printing price from 2nd page.\n",
    "for i in price:\n",
    "    price_2.append(i.text)\n",
    "print(price_2)\n",
    "\n",
    "print(\"\\n\")\n",
    "\n",
    "discount=driver.find_elements_by_xpath(\"//div[@class='_3Ay6Sb']\")\n",
    "discount\n",
    "\n",
    "discount_2=[] #printing discount from 2nd page.\n",
    "for i in discount:\n",
    "    discount_2.append(i.text)\n",
    "print(discount_2)"
   ]
  },
  {
   "cell_type": "code",
   "execution_count": 55,
   "metadata": {},
   "outputs": [],
   "source": [
    "# go on 3rd page:-\n",
    "\n",
    "Third_page=driver.find_element_by_xpath(\"/html/body/div[1]/div/div[3]/div[1]/div[2]/div[12]/div/div/nav/a[4]\")\n",
    "Third_page.click()\n"
   ]
  },
  {
   "cell_type": "code",
   "execution_count": 57,
   "metadata": {},
   "outputs": [
    {
     "name": "stdout",
     "output_type": "stream",
     "text": [
      "['Svpanther', 'Echor', 'Red Rose', 'Zorth', 'M K FOOTWEAR', 'Zorth', 'HOTSTYLE', 'JUBENTA', 'Numenzo', 'Robbie jones', 'bluemaker', 'World Wear Footwear', 'GUSTO', 'BRUTON', 'PUMA', 'Birde', 'oxpeo', 'HOTSTYLE', 'Arohi', 'Ktiz', 'ASTEROID', 'Imcolus', 'Jack Diamond', 'oxpeo', 'Absolute comfort', 'Axter', 'ESSENCE', 'SHOELIFE', 'PUMA', \"LEVI'S\", 'SPARX', 'World Wear Footwear', 'D-SNEAKERZ', \"LEVI'S\", 'City Soles', 'Zorth', 'Clymb', 'Camfoot', 'ESSENCE', 'STRANGER BROTHERS']\n",
      "\n",
      "\n",
      "['Casual Sneaker Sneakers For Men', 'Casual Sneakers Shoes For Men Sneakers For Men', 'casual shoe for men Sneakers For Men', 'Sneakers For Men', 'Combo Pack Of 4 Canvas Sneakers For Men', \"Men's Stylish Casual Shoes Sneakers For Men\", 'Colourblocked Trending Multicolor Ultralight canvas Spo...', 'Sneakers Sneakers For Men', 'Skate Board White Shoes Men Running Flat PU Sneakers Ma...', 'Sneakers For Men', 'Colourblocked Trending Multicolor Ultralight canvas Spo...', 'Combo Pack of 2 Casual Loafer Sneakers Shoes Sneakers F...', 'Sneakers For Men', 'Sneakers For Men', 'Icon IDP Sneakers For Men', 'Basic 2.0 Sneakers For Men', 'Combo Pack of 2 Top Rated, Best Rates Training Shoes, W...', \"Casual , Partywear Sneakers Shoes For Men's And Boys Wh...\", 'Sneakers For Men', 'Sneakers For Men', 'Combo Pack of 2 Latest Collection Stylish Casual Shoes ...', 'Smart Sneakers For Men', 'Sneakers For Men']\n",
      "\n",
      "\n",
      "['₹515', '₹569', '₹499', '₹599', '₹389', '₹599', '₹205', '₹549', '₹599', '₹379', '₹449', '₹240', '₹699', '₹499', '₹1,549', '₹283', '₹398', '₹299', '₹441', '₹471', '₹451', '₹464', '₹635', '₹419', '₹367', '₹299', '₹442', '₹449', '₹1,220', '₹1,499', '₹699', '₹399', '₹384', '₹1,499', '₹664', '₹599', '₹309', '₹328', '₹424', '₹474']\n",
      "\n",
      "\n",
      "['48% off', '43% off', '50% off', '40% off', '61% off', '40% off', '58% off', '45% off', '40% off', '62% off', '55% off', '51% off', '46% off', '85% off', '50% off', '43% off', '60% off', '40% off', '55% off', '63% off', '54% off', '53% off', '36% off', '58% off', '63% off', '78% off', '55% off', '55% off', '63% off', '50% off', '60% off', '61% off', '50% off', '33% off', '40% off', '69% off', '67% off', '57% off', '52% off']\n"
     ]
    }
   ],
   "source": [
    "brand=driver.find_elements_by_xpath(\"//div[@class='_2WkVRV']\")\n",
    "brand\n",
    "\n",
    "brand_name3=[]   # printing brand from 3rd page.\n",
    "for i in brand:\n",
    "    brand_name3.append(i.text)\n",
    "print(brand_name3)\n",
    "\n",
    "print(\"\\n\")\n",
    "\n",
    "product=driver.find_elements_by_xpath(\"//a[@class='IRpwTa']\")\n",
    "product\n",
    "\n",
    "product_description3=[]  #printing product_description from 2nd page.\n",
    "for i in product:\n",
    "    product_description3.append(i.text)\n",
    "print(product_description3)\n",
    "\n",
    "print(\"\\n\")\n",
    "\n",
    "price=driver.find_elements_by_xpath(\"//div[@class='_30jeq3']\")\n",
    "price\n",
    "\n",
    "price_3=[]     #printing price from 3rd page.\n",
    "for i in price:\n",
    "    price_3.append(i.text)\n",
    "print(price_3)\n",
    "\n",
    "print(\"\\n\")\n",
    "\n",
    "discount=driver.find_elements_by_xpath(\"//div[@class='_3Ay6Sb']\")\n",
    "discount\n",
    "\n",
    "discount_3=[]    #printing discount from 3rd page.\n",
    "for i in discount:\n",
    "    discount_3.append(i.text)\n",
    "print(discount_3)\n"
   ]
  },
  {
   "cell_type": "code",
   "execution_count": 64,
   "metadata": {},
   "outputs": [
    {
     "name": "stdout",
     "output_type": "stream",
     "text": [
      "['Robbie jones', 'oxpeo', 'Robbie jones', 'Numenzo', 'Robbie jones', 'ORICUM', 'Stefano Rads', 'HOTSTYLE', 'Shoes Bank', 'Echor', 'VIPSJAZZY', '\"trend\"', 'PUMA', 'ARMADO', 'aadi', 'Birde', 'BRUTON', 'VORII', 'Robbie jones', \"LEVI'S\", 'bluemaker', 'SCATCHITE', 'restinfoot', 'STRANGER BROTHERS', '3SIX5', 'Numenzo', 'Magnolia', 'Birde', 'World Wear Footwear', 'BRUTON', 'Kraasa', 'World Wear Footwear', 'Zsyto', 'RED TAPE', 'SPARX', 'T-ROCK', 'World Wear Footwear', 'World Wear Footwear', 'HOTSTYLE', 'RED TAPE', 'T-ROCK', 'Raftar', 'Airland', 'Nilatin', 'D-SNEAKERZ', 'Numenzo', 'bluemaker', 'Birde', 'Zorth', 'VORII', 'World Wear Footwear', 'SPARX', 'Baogi', 'RED TAPE', 'Robbie jones', 'Englewood', 'ESSENCE', 'BLACK BOTTOM', 'bacca bucci', 'Magnolia', 'T-ROCK', 'LEATHERKRAFT', 'BRUTON', 'BRUTON', 'Wen Hawk', 'TR', 'Deals4you', 'bluemaker', 'ESSENCE', \"LEVI'S\", 'Nilatin', 'Magnolia', 'Xtoon', \"LEVI'S\", 'PUMA', 'SPARX', 'VISTAARA', 'Numenzo', 'BRUTON', 'REEBOK CLASSICS', 'Svpanther', 'Echor', 'Red Rose', 'Zorth', 'M K FOOTWEAR', 'Zorth', 'HOTSTYLE', 'JUBENTA', 'Numenzo', 'Robbie jones', 'bluemaker', 'World Wear Footwear', 'GUSTO', 'BRUTON', 'PUMA', 'Birde', 'oxpeo', 'HOTSTYLE', 'Arohi', 'Ktiz']\n",
      "\n",
      "\n",
      "['Casual Sneakers Shoes For Men Sneakers For Men', 'Colourblocked Trending Multicolor Ultralight canvas Spo...', 'Casual Sneakers Shoes For Men Sneakers For Men', 'Sneakers For Men', 'Sneakers For Men', 'Combo pack of 2 casual sneaker shoes for men Sneakers F...', 'Sneakers Sneakers For Men', \"White Sneaker For Men's/Boy's Sneakers For Men\", 'Fashionable casual sneakers shoes for men Sneakers For ...', 'Anzarun Lite Sneakers For Men', 'casual shoes For Mens Combo(AR)-1658-1619 ( Multicolor-...', 'Sneakers For Men', 'Combo Pack of 4 Casual Shoes Sneakers For Men', 'Combo Pack Of 4 Canvas Sneakers For Men', 'Latest Stylish Casual sneakers for men | Lace up lightw...', 'Casual Sneakers Black Shoes For Men Sneakers For Men', 'Basic 2.0 Sneakers For Men', 'casual for men (blue 06) Sneakers For Men', 'Sneakers Sneakers For Men', 'Casual shoes Sneakers For Men', 'Sneakers For Men', 'ORIFWSH(OR)-1077 Sneakers For Men', 'Casual Sneaker Sneakers For Men', 'White Sneakers Sneakers For Men', 'Combo Pack of 4 Casual Shoes Sneakers For Men', 'Sneakers For Men', 'Sneakers For Men', 'Series 7 Sneakers For Men', 'Combo Pack of 4 Latest Collection Stylish Casual Loafer...', 'Sneakers For Men', 'SM-482 Sneakers For Men', 'Synthetic Leather Casual Partywear Wedding Sneakers Sho...', 'Men 5014 Latest Collection Stylish Casual Sports Loafer...', '5011-Latest Collection Stylish Casual Loafer Sneakers S...', 'Sneakers Sneakers For Men', 'Synthetic Leather Casual Sneakers Shoes For Men Sneaker...', 'Sneakers For Men', 'shoe Sneakers For Men', \"Casual , Partywear Sneakers Shoes For Men's And Boys Wh...\", 'Sneakers For Men', 'casual for men (black 08) Sneakers For Men', 'Combo Pack of 4 Casual Shoes Sneakers For Men', 'Latest Stylish Casual sneakers for men | Lace up lightw...', 'Latest Collection-1227 Stylish Casual Sports Sneakers F...', 'Classic Sneakers For Men', 'Casual Sneakers Shoes For Men Sneakers For Men', 'Sneakers For Men', 'Fashion Outdoor Canvas Casual Light Weight Partywear Sn...', 'Mens Ultraforce Mid-top Athletic-Inspired Retro Fashion...', 'Sneakers For Men', 'Sneakers For Men', 'Sneakers For Men', 'Combo Pack of 5 Casual Sneakers With Sneakers For Men', 'Combo Pack of 2 Casual Shoes Sneakers For Men', 'Latest Stylish Casual sneakers for men | Lace up lightw...', 'Sneakers For Men', \"White Sneaker For Men's/Boy's Sneakers For Men Sneakers...\", 'casual shoe for men Sneakers For Men', 'Sneakers For Men', 'Jordy Buck Sneakers For Men', 'Sneakers For Men', 'Casual shoes Sneakers For Men', 'Basic 2.0 Sneakers For Men', 'Icon IDP Sneakers For Men', 'SM-162 Sneakers For Men', '489 Black Sneakers For Men', 'Casual Sneaker Sneakers For Men', 'CUBIC_1 Sneakers For Men', 'Casual Sneaker Sneakers For Men', 'Casual Sneakers Shoes For Men Sneakers For Men', 'casual shoe for men Sneakers For Men', 'Sneakers For Men', 'Combo Pack Of 4 Canvas Sneakers For Men', \"Men's Stylish Casual Shoes Sneakers For Men\", 'Colourblocked Trending Multicolor Ultralight canvas Spo...', 'Sneakers Sneakers For Men', 'Skate Board White Shoes Men Running Flat PU Sneakers Ma...', 'Sneakers For Men', 'Colourblocked Trending Multicolor Ultralight canvas Spo...', 'Combo Pack of 2 Casual Loafer Sneakers Shoes Sneakers F...', 'Sneakers For Men', 'Sneakers For Men', 'Icon IDP Sneakers For Men', 'Basic 2.0 Sneakers For Men', 'Combo Pack of 2 Top Rated, Best Rates Training Shoes, W...', \"Casual , Partywear Sneakers Shoes For Men's And Boys Wh...\", 'Sneakers For Men', 'Sneakers For Men', 'Combo Pack of 2 Latest Collection Stylish Casual Shoes ...', 'Smart Sneakers For Men', 'Sneakers For Men']\n",
      "\n",
      "\n",
      "['₹769', '₹455', '₹499', '₹499', '₹474', '₹299', '₹719', '₹509', '₹446', '₹498', '₹631', '₹368', '₹265', '₹1,499', '₹367', '₹429', '₹240', '₹449', '₹449', '₹1,708', '₹599', '₹599', '₹399', '₹299', '₹474', '₹499', '₹442', '₹449', '₹449', '₹1,678', '₹299', '₹719', '₹599', '₹425', '₹359', '₹279', '₹449', '₹407', '₹1,549', '₹1,499', '₹449', '₹368', '₹265', '₹407', '₹367', '₹429', '₹449', '₹661', '₹599', '₹379', '₹240', '₹599', '₹399', '₹1,678', '₹474', '₹499', '₹442', '₹449', '₹949', '₹424', '₹449', '₹299', '₹719', '₹425', '₹323', '₹599', '₹359', '₹449', '₹442', '₹1,499', '₹407', '₹424', '₹359', '₹1,499', '₹1,047', '₹730', '₹279', '₹599', '₹299', '₹2,399', '₹515', '₹569', '₹499', '₹599', '₹389', '₹599', '₹205', '₹549', '₹599', '₹379', '₹449', '₹240', '₹699', '₹499', '₹1,549', '₹283', '₹398', '₹299', '₹441', '₹471']\n",
      "\n",
      "\n",
      "['23% off', '69% off', '50% off', '85% off', '63% off', '78% off', '71% off', '66% off', '55% off', '50% off', '15% off', '63% off', '46% off', '50% off', '44% off', '57% off', '51% off', '55% off', '55% off', '70% off', '40% off', '14% off', '60% off', '76% off', '52% off', '66% off', '55% off', '55% off', '55% off', '70% off', '70% off', '82% off', '70% off', '82% off', '64% off', '72% off', '55% off', '68% off', '50% off', '50% off', '55% off', '63% off', '46% off', '68% off', '44% off', '57% off', '55% off', '66% off', '40% off', '62% off', '51% off', '14% off', '60% off', '70% off', '52% off', '66% off', '55% off', '55% off', '62% off', '71% off', '55% off', '70% off', '82% off', '82% off', '67% off', '70% off', '64% off', '55% off', '55% off', '50% off', '68% off', '57% off', '64% off', '50% off', '68% off', '23% off', '72% off', '40% off', '76% off', '40% off', '48% off', '43% off', '50% off', '40% off', '61% off', '40% off', '58% off', '45% off', '40% off', '62% off', '55% off', '51% off', '46% off', '85% off', '50% off', '43% off', '60% off', '40% off', '55% off', '63% off']\n"
     ]
    }
   ],
   "source": [
    "# printing all scrapped data information\n",
    "\n",
    "#1.brand_name:-\n",
    "\n",
    "brand_Name=(brand_name1+brand_name2+brand_name3)\n",
    "print(brand_Name[:100])\n",
    "\n",
    "print(\"\\n\")\n",
    "\n",
    "\n",
    "# 2.product_description:-\n",
    "\n",
    "Product_Description=(product_description1+product_description2+product_description3)\n",
    "print(Product_Description[:100])\n",
    "\n",
    "print(\"\\n\")\n",
    "\n",
    "\n",
    "# 3.price:-\n",
    "\n",
    "price=(price_1+price_2+price_3)\n",
    "print(price[:100])\n",
    "\n",
    "print(\"\\n\")\n",
    "\n",
    "# Discount\n",
    "\n",
    "discount=(discount_1+discount_2+discount_3)\n",
    "print(discount[:100])\n"
   ]
  },
  {
   "cell_type": "markdown",
   "metadata": {},
   "source": [
    "# Question:9"
   ]
  },
  {
   "cell_type": "markdown",
   "metadata": {},
   "source": [
    "Q9: Go to the link - https://www.myntra.com/shoes"
   ]
  },
  {
   "cell_type": "code",
   "execution_count": 68,
   "metadata": {},
   "outputs": [],
   "source": [
    "# connected to the webdriver:-\n",
    "\n",
    "driver=webdriver.Chrome(\"chromedriver.exe\")\n"
   ]
  },
  {
   "cell_type": "code",
   "execution_count": 69,
   "metadata": {},
   "outputs": [],
   "source": [
    "# enter into url:-\n",
    "\n",
    "driver.get(\"https://www.myntra.com/shoes\")\n"
   ]
  },
  {
   "cell_type": "markdown",
   "metadata": {},
   "source": [
    "ii)Set Price filter to “Rs. 6649 to Rs. 13099”"
   ]
  },
  {
   "cell_type": "code",
   "execution_count": 70,
   "metadata": {},
   "outputs": [],
   "source": [
    "# filter price:-\n",
    "\n",
    "filter_price=driver.find_element_by_xpath(\"/html/body/div[2]/div/div/main/div[3]/div[1]/section/div/div[5]/ul/li[2]/label/div\")\n",
    "filter_price.click()"
   ]
  },
  {
   "cell_type": "markdown",
   "metadata": {},
   "source": [
    "iii)Color filter to “Black”."
   ]
  },
  {
   "cell_type": "code",
   "execution_count": 110,
   "metadata": {},
   "outputs": [],
   "source": [
    "# filter color:-\n",
    "filter_color=driver.find_element_by_xpath(\"/html/body/div[2]/div/div[1]/main/div[3]/div[1]/section/div/div[6]/ul/li[1]/label/div\")\n",
    "filter_color.click()"
   ]
  },
  {
   "cell_type": "markdown",
   "metadata": {},
   "source": [
    "iv)The data should include “Brand” of the shoes , Short Shoe description, price of the shoe?"
   ]
  },
  {
   "cell_type": "code",
   "execution_count": 126,
   "metadata": {},
   "outputs": [
    {
     "name": "stdout",
     "output_type": "stream",
     "text": [
      "['PUMA Motorsport', 'PUMA Motorsport', 'ADIDAS Originals', 'PUMA Motorsport', 'Nike', 'Cole Haan', 'Cole Haan', 'Cole Haan', 'Puma', 'Skechers', 'Puma', 'UNDER ARMOUR', 'Cole Haan', 'UNDER ARMOUR', 'Nike', 'Cole Haan', 'ALDO', 'Bugatti', 'Cole Haan', 'Puma', 'Puma', 'Puma', 'ALDO', 'ALDO', 'Puma', 'ALDO', 'ALDO', 'ADIDAS Originals', 'ALDO', 'Puma', 'Puma', 'Onitsuka Tiger', 'Birkenstock', 'ADIDAS Originals', 'ADIDAS Originals', 'Onitsuka Tiger', 'Onitsuka Tiger', 'Onitsuka Tiger', 'Onitsuka Tiger', 'ADIDAS Originals', 'ALDO', 'ALDO', 'Lacoste', 'Onitsuka Tiger', 'Onitsuka Tiger', 'ADIDAS Originals', 'Onitsuka Tiger', 'Puma', 'ADIDAS Originals', 'Onitsuka Tiger']\n",
      "\n",
      "\n",
      "['Men Ferrari Race Kart Sneakers', 'Ferrari Race 2.0 Sneakers', 'Men Nite Jogger Fluid Sneakers', 'Men Ferrari Race Sneakers', 'Men JORDAN DELTA Sneakers', 'Men GENERATION ZEROGRAND STITCHLITE', 'Men Wingtip Oxford Sneakers', 'Men Traveller Leather Penny Loafers', 'Unisex RS-X Pop Sneakers', 'Women UNO Sneakers', 'Unisex RS-FAST TECH Sneakers', 'Women Charged Breathe OIL SLK', 'Leather Sneakers', 'Charged RC Sportstyle Sneakers', 'Women AIR MAX VIVA Sneakers', 'Women Woven Design Sneakers', 'Women Black Sneakers', 'Women Black Sneakers', 'Women Leather Sneakers', 'Calibrate Restored Sneakers', 'Unisex RS-Fast Sneakers', 'Future Rider Peanuts Sneakers', 'Men Sneakers', 'Women Sneakers', 'Unisex Futurverse Sneakers', 'Women Solid Sneakers', 'Women Sneakers Casual Shoes', 'Leather Forum FSH Plus Sneaker', 'Men Sneakers', 'casual shoes', 'Unisex Jamming Sneakers', 'Unisex Fabre EX Sneakers', 'Unisex Montana Sneakers', 'Men NMD R1Sneakers', 'Men OZWEEGO Big Logo Sneakers', 'Unisex Big Logo Trainer', 'Unisex CorsairLeather Sneakers', 'Unisex Mexico 66 Sneakers', 'Unisex Delegation EX Sneakers', 'Men Stan Smith Sneakers', 'Women Sneakers', 'Men Woven Design Sneakers', 'Woven Design Casual Sneakers', 'Unisex Delegation Ex Sneakers', 'Women Textured Sneakers', 'Men NITE JOGGER Sneakers', 'Unisex TAI-CHI-REB Sneakers', 'RS-Connect Lazer Sneakers', 'Men NMD_R1 Wide Fit Sneakers', 'Unisex Suede Sneakers']\n",
      "\n",
      "\n",
      "['Rs. 9999', 'Rs. 9999', 'Rs. 8449Rs. 12999', '(35% OFF)', 'Rs. 7999', 'Rs. 10995', 'Rs. 11999', 'Rs. 12999', 'Rs. 9999Rs. 19999', '(50% OFF)', 'Rs. 8499Rs. 9999', '(15% OFF)', 'Rs. 7999', 'Rs. 9999', 'Rs. 8999', 'Rs. 10999', 'Rs. 8999', 'Rs. 12495', 'Rs. 14999', 'Rs. 8999', 'Rs. 7999', 'Rs. 10999', 'Rs. 11999', 'Rs. 9999', 'Rs. 8999', 'Rs. 9999', 'Rs. 11999', 'Rs. 9999', 'Rs. 7999', 'Rs. 8399Rs. 11999', '(30% OFF)', 'Rs. 8799Rs. 10999', '(20% OFF)', 'Rs. 9999', 'Rs. 8999', 'Rs. 7799Rs. 11999', '(35% OFF)', 'Rs. 9999', 'Rs. 10990', 'Rs. 8399Rs. 13999', '(40% OFF)', 'Rs. 8799Rs. 10999', '(20% OFF)', 'Rs. 10999', 'Rs. 9999', 'Rs. 7999', 'Rs. 10999', 'Rs. 8999', 'Rs. 9999', 'Rs. 13999', 'Rs. 10850', 'Rs. 10999', 'Rs. 7999', 'Rs. 8399Rs. 13999', '(40% OFF)', 'Rs. 8999', 'Rs. 8099Rs. 8999', '(10% OFF)', 'Rs. 7799Rs. 12999', '(40% OFF)', 'Rs. 7999']\n"
     ]
    }
   ],
   "source": [
    "brand=driver.find_elements_by_xpath(\"//h3[@class='product-brand']\")\n",
    "brand\n",
    "\n",
    "brand_1=[] # printing brand.\n",
    "for i in brand:\n",
    "    brand_1.append(i.text)\n",
    "print(brand_1)\n",
    "\n",
    "print(\"\\n\")\n",
    "\n",
    "description=driver.find_elements_by_xpath(\"//h4[@class='product-product']\")\n",
    "description\n",
    "\n",
    "description_1=[] # printing description\n",
    "for i in description:\n",
    "    description_1.append(i.text)\n",
    "print(description_1)\n",
    "\n",
    "print(\"\\n\")\n",
    "\n",
    "price=driver.find_elements_by_xpath(\"//div[@class='product-price']/span\")\n",
    "price\n",
    "\n",
    "price_1=[] # printing price.\n",
    "for i in price:\n",
    "    price_1.append(i.text)\n",
    "print(price_1)"
   ]
  },
  {
   "cell_type": "code",
   "execution_count": 127,
   "metadata": {},
   "outputs": [],
   "source": [
    "# go on 2nd page:-\n",
    "\n",
    "second_page=driver.find_element_by_xpath(\"/html/body/div[2]/div/div/main/div[3]/div[2]/div/div[2]/section/div[2]/ul/li[3]/a\")\n",
    "second_page.click()\n"
   ]
  },
  {
   "cell_type": "code",
   "execution_count": 128,
   "metadata": {},
   "outputs": [
    {
     "name": "stdout",
     "output_type": "stream",
     "text": [
      "['Onitsuka Tiger', 'ALDO', 'ALDO', 'Bugatti', 'Geox', 'Nike', 'Onitsuka Tiger', 'Onitsuka Tiger', 'Birkenstock', 'Puma', 'Clarks', 'Vans', 'Onitsuka Tiger', 'Onitsuka Tiger', 'FILA', 'PUMA Motorsport', 'ALDO', 'PUMA Motorsport', 'Polo Ralph Lauren', 'Bugatti', 'ALDO', 'ALDO', 'ADIDAS Originals', 'Puma', 'ALDO', 'Reebok Classic', 'PUMA Motorsport', 'Reebok Classic', 'Puma', 'Bugatti', 'ADIDAS Originals', 'Onitsuka Tiger', 'DIESEL', 'ADIDAS Originals', 'Onitsuka Tiger', 'Vans', 'ALDO', 'Onitsuka Tiger', 'Onitsuka Tiger', 'hummel', 'Timberland', 'PUMA Motorsport', 'Onitsuka Tiger', 'DC', 'PUMA Motorsport', 'Puma', 'PUMA Motorsport', 'PUMA Motorsport', 'PUMA Motorsport', 'Supra']\n",
      "\n",
      "\n",
      "['Unisex Suede Sneakers', 'Colourblocked Casual Sneakers', 'Women Sneakers', 'Men Sneakers', 'Women Sneakers', 'Men AF1/1 Sneakers', 'Unisex Leather Sneakers', 'Unisex Ohbori Sneakers', 'Women Arran Natural Leather Sneakers', 'Women Blaze GOLD Sneakers', 'Men Suede Finish Sneakers', 'Men Striped Sneakers', 'Unisex Leather Sneakers', 'Unisex GSM Leather GSM Sneakers', 'Women Printed Sneakers', 'Mercedes Replicat-X Sneakers', 'Women Sneakers', 'Men SF Drift Cat 8 Sneakers', 'Men Solid Sneakers', 'Men Casual Sneakers', 'Women Solid Sneakers', 'Women Woven Design Sneakers', 'Men ZX Torsion Sneakers', 'Women Sneakers', 'Slip-On Sneakers', 'Unisex Answer V Sneakers', 'Men Solid Sneakers', 'Unisex Answer V Sneakers', 'Women Colourblocked Sneakers', 'Men Solid Casual Sneakers', 'Men Solid NMD_R1 Sneakers', 'Unisex Leather Sneakers', 'Men Sneakers', 'Men HANDBALL SPEZIAL Sneakers', 'Unisex Mexico 66 SD', 'Men Solid Sneakers', 'Men Solid Sneakers', 'Unisex Leather Mexico 66 Sneakers', 'Unisex Mexico 66 Sneakers', 'Men Leather Sneakers', 'Women KENNISTON 6IN Sneakers', 'Men SF Drift Cat 7 LS Sneakers', 'Unisex Lawnship 2.0 Sneakers', 'Men Leather Sneakers', 'Men Sneakers', 'Men TSUGI Jun Sneakers', 'Men Future Leather Sneakers', 'Men MAPM X-Ray Sneakers', 'Unisex SF Evo Cat II Sneakers', 'Men Mid-Top Sneakers']\n",
      "\n",
      "\n",
      "['Rs. 7999', 'Rs. 11999', 'Rs. 11999', 'Rs. 7999', 'Rs. 7999', 'Rs. 9996Rs. 12495', '(20% OFF)', 'Rs. 7999', 'Rs. 8999', 'Rs. 11990', 'Rs. 8999', 'Rs. 7799Rs. 12999', '(40% OFF)', 'Rs. 9999', 'Rs. 8999', 'Rs. 8999', 'Rs. 7999', 'Rs. 7999Rs. 9999', '(20% OFF)', 'Rs. 11999', 'Rs. 7999', 'Rs. 8290', 'Rs. 7999', 'Rs. 9999', 'Rs. 9099Rs. 12999', '(30% OFF)', 'Rs. 8399Rs. 13999', '(40% OFF)', 'Rs. 8999', 'Rs. 8990', 'Rs. 7999Rs. 19999', '(60% OFF)', 'Rs. 9999', 'Rs. 7999Rs. 19999', '(60% OFF)', 'Rs. 8999', 'Rs. 8999', 'Rs. 7799Rs. 12999', '(40% OFF)', 'Rs. 11999', 'Rs. 7794Rs. 12990', '(40% OFF)', 'Rs. 7999', 'Rs. 10999', 'Rs. 9999', 'Rs. 9099Rs. 12999', '(30% OFF)', 'Rs. 8999', 'Rs. 8999', 'Rs. 9999', 'Rs. 8449Rs. 12999', '(35% OFF)', 'Rs. 7999', 'Rs. 7999', 'Rs. 7995', 'Rs. 7999', 'Rs. 11999', 'Rs. 7999', 'Rs. 7999', 'Rs. 8999', 'Rs. 8499']\n"
     ]
    }
   ],
   "source": [
    "brand=driver.find_elements_by_xpath(\"//h3[@class='product-brand']\")\n",
    "brand\n",
    "\n",
    "brand_2=[]  #printing brand from second page.\n",
    "for i in brand:\n",
    "    brand_2.append(i.text)\n",
    "print(brand_2)\n",
    "\n",
    "print(\"\\n\")\n",
    "\n",
    "description=driver.find_elements_by_xpath(\"//h4[@class='product-product']\")\n",
    "description\n",
    "\n",
    "description_2=[] # printing description from second page.\n",
    "for i in description:\n",
    "    description_2.append(i.text)\n",
    "print(description_2)\n",
    "\n",
    "print(\"\\n\")\n",
    "\n",
    "price=driver.find_elements_by_xpath(\"//div[@class='product-price']/span\")\n",
    "price\n",
    "\n",
    "price_2=[] # printing price from 2nd page.\n",
    "for i in price:\n",
    "    price_2.append(i.text)\n",
    "print(price_2)"
   ]
  },
  {
   "cell_type": "code",
   "execution_count": 129,
   "metadata": {},
   "outputs": [],
   "source": [
    "# go on 3rd page.\n",
    "\n",
    "Third_page=driver.find_element_by_xpath(\"/html/body/div[2]/div/div/main/div[3]/div[2]/div/div[2]/section/div[2]/ul/li[5]/a\")\n",
    "Third_page.click()\n"
   ]
  },
  {
   "cell_type": "code",
   "execution_count": 130,
   "metadata": {},
   "outputs": [
    {
     "name": "stdout",
     "output_type": "stream",
     "text": [
      "['PUMA Motorsport', 'Supra']\n",
      "\n",
      "\n",
      "['Men Suede Speed Cat Sneakers', 'Men VAIDER Mid-Top Sneakers']\n",
      "\n",
      "\n",
      "['Rs. 7999', 'Rs. 7999']\n"
     ]
    }
   ],
   "source": [
    "brand=driver.find_elements_by_xpath(\"//h3[@class='product-brand']\")\n",
    "brand\n",
    "\n",
    "brand_3=[] # printing brand from 3rd page.\n",
    "for i in brand:\n",
    "    brand_3.append(i.text)\n",
    "print(brand_3)\n",
    "\n",
    "print(\"\\n\")\n",
    "\n",
    "description=driver.find_elements_by_xpath(\"//h4[@class='product-product']\")\n",
    "description\n",
    "\n",
    "description_3=[] # printing description from 3rd page.\n",
    "for i in description:\n",
    "    description_3.append(i.text)\n",
    "print(description_3)\n",
    "\n",
    "print(\"\\n\")\n",
    "\n",
    "price=driver.find_elements_by_xpath(\"//div[@class='product-price']/span\")\n",
    "price\n",
    "\n",
    "price_3=[]  # printing price from 3rd page.\n",
    "for i in price:\n",
    "    price_3.append(i.text)\n",
    "print(price_3)"
   ]
  },
  {
   "cell_type": "markdown",
   "metadata": {},
   "source": [
    "v)scrape First 100 shoes data you get?"
   ]
  },
  {
   "cell_type": "code",
   "execution_count": 131,
   "metadata": {},
   "outputs": [
    {
     "name": "stdout",
     "output_type": "stream",
     "text": [
      "['PUMA Motorsport', 'PUMA Motorsport', 'ADIDAS Originals', 'PUMA Motorsport', 'Nike', 'Cole Haan', 'Cole Haan', 'Cole Haan', 'Puma', 'Skechers', 'Puma', 'UNDER ARMOUR', 'Cole Haan', 'UNDER ARMOUR', 'Nike', 'Cole Haan', 'ALDO', 'Bugatti', 'Cole Haan', 'Puma', 'Puma', 'Puma', 'ALDO', 'ALDO', 'Puma', 'ALDO', 'ALDO', 'ADIDAS Originals', 'ALDO', 'Puma', 'Puma', 'Onitsuka Tiger', 'Birkenstock', 'ADIDAS Originals', 'ADIDAS Originals', 'Onitsuka Tiger', 'Onitsuka Tiger', 'Onitsuka Tiger', 'Onitsuka Tiger', 'ADIDAS Originals', 'ALDO', 'ALDO', 'Lacoste', 'Onitsuka Tiger', 'Onitsuka Tiger', 'ADIDAS Originals', 'Onitsuka Tiger', 'Puma', 'ADIDAS Originals', 'Onitsuka Tiger', 'Onitsuka Tiger', 'ALDO', 'ALDO', 'Bugatti', 'Geox', 'Nike', 'Onitsuka Tiger', 'Onitsuka Tiger', 'Birkenstock', 'Puma', 'Clarks', 'Vans', 'Onitsuka Tiger', 'Onitsuka Tiger', 'FILA', 'PUMA Motorsport', 'ALDO', 'PUMA Motorsport', 'Polo Ralph Lauren', 'Bugatti', 'ALDO', 'ALDO', 'ADIDAS Originals', 'Puma', 'ALDO', 'Reebok Classic', 'PUMA Motorsport', 'Reebok Classic', 'Puma', 'Bugatti', 'ADIDAS Originals', 'Onitsuka Tiger', 'DIESEL', 'ADIDAS Originals', 'Onitsuka Tiger', 'Vans', 'ALDO', 'Onitsuka Tiger', 'Onitsuka Tiger', 'hummel', 'Timberland', 'PUMA Motorsport', 'Onitsuka Tiger', 'DC', 'PUMA Motorsport', 'Puma', 'PUMA Motorsport', 'PUMA Motorsport', 'PUMA Motorsport', 'Supra', 'PUMA Motorsport', 'Supra']\n",
      "\n",
      "\n",
      "['Men Ferrari Race Kart Sneakers', 'Ferrari Race 2.0 Sneakers', 'Men Nite Jogger Fluid Sneakers', 'Men Ferrari Race Sneakers', 'Men JORDAN DELTA Sneakers', 'Men GENERATION ZEROGRAND STITCHLITE', 'Men Wingtip Oxford Sneakers', 'Men Traveller Leather Penny Loafers', 'Unisex RS-X Pop Sneakers', 'Women UNO Sneakers', 'Unisex RS-FAST TECH Sneakers', 'Women Charged Breathe OIL SLK', 'Leather Sneakers', 'Charged RC Sportstyle Sneakers', 'Women AIR MAX VIVA Sneakers', 'Women Woven Design Sneakers', 'Women Black Sneakers', 'Women Black Sneakers', 'Women Leather Sneakers', 'Calibrate Restored Sneakers', 'Unisex RS-Fast Sneakers', 'Future Rider Peanuts Sneakers', 'Men Sneakers', 'Women Sneakers', 'Unisex Futurverse Sneakers', 'Women Solid Sneakers', 'Women Sneakers Casual Shoes', 'Leather Forum FSH Plus Sneaker', 'Men Sneakers', 'casual shoes', 'Unisex Jamming Sneakers', 'Unisex Fabre EX Sneakers', 'Unisex Montana Sneakers', 'Men NMD R1Sneakers', 'Men OZWEEGO Big Logo Sneakers', 'Unisex Big Logo Trainer', 'Unisex CorsairLeather Sneakers', 'Unisex Mexico 66 Sneakers', 'Unisex Delegation EX Sneakers', 'Men Stan Smith Sneakers', 'Women Sneakers', 'Men Woven Design Sneakers', 'Woven Design Casual Sneakers', 'Unisex Delegation Ex Sneakers', 'Women Textured Sneakers', 'Men NITE JOGGER Sneakers', 'Unisex TAI-CHI-REB Sneakers', 'RS-Connect Lazer Sneakers', 'Men NMD_R1 Wide Fit Sneakers', 'Unisex Suede Sneakers', 'Unisex Suede Sneakers', 'Colourblocked Casual Sneakers', 'Women Sneakers', 'Men Sneakers', 'Women Sneakers', 'Men AF1/1 Sneakers', 'Unisex Leather Sneakers', 'Unisex Ohbori Sneakers', 'Women Arran Natural Leather Sneakers', 'Women Blaze GOLD Sneakers', 'Men Suede Finish Sneakers', 'Men Striped Sneakers', 'Unisex Leather Sneakers', 'Unisex GSM Leather GSM Sneakers', 'Women Printed Sneakers', 'Mercedes Replicat-X Sneakers', 'Women Sneakers', 'Men SF Drift Cat 8 Sneakers', 'Men Solid Sneakers', 'Men Casual Sneakers', 'Women Solid Sneakers', 'Women Woven Design Sneakers', 'Men ZX Torsion Sneakers', 'Women Sneakers', 'Slip-On Sneakers', 'Unisex Answer V Sneakers', 'Men Solid Sneakers', 'Unisex Answer V Sneakers', 'Women Colourblocked Sneakers', 'Men Solid Casual Sneakers', 'Men Solid NMD_R1 Sneakers', 'Unisex Leather Sneakers', 'Men Sneakers', 'Men HANDBALL SPEZIAL Sneakers', 'Unisex Mexico 66 SD', 'Men Solid Sneakers', 'Men Solid Sneakers', 'Unisex Leather Mexico 66 Sneakers', 'Unisex Mexico 66 Sneakers', 'Men Leather Sneakers', 'Women KENNISTON 6IN Sneakers', 'Men SF Drift Cat 7 LS Sneakers', 'Unisex Lawnship 2.0 Sneakers', 'Men Leather Sneakers', 'Men Sneakers', 'Men TSUGI Jun Sneakers', 'Men Future Leather Sneakers', 'Men MAPM X-Ray Sneakers', 'Unisex SF Evo Cat II Sneakers', 'Men Mid-Top Sneakers', 'Men Suede Speed Cat Sneakers', 'Men VAIDER Mid-Top Sneakers']\n",
      "\n",
      "\n",
      "['Rs. 9999', 'Rs. 9999', 'Rs. 8449Rs. 12999', '(35% OFF)', 'Rs. 7999', 'Rs. 10995', 'Rs. 11999', 'Rs. 12999', 'Rs. 9999Rs. 19999', '(50% OFF)', 'Rs. 8499Rs. 9999', '(15% OFF)', 'Rs. 7999', 'Rs. 9999', 'Rs. 8999', 'Rs. 10999', 'Rs. 8999', 'Rs. 12495', 'Rs. 14999', 'Rs. 8999', 'Rs. 7999', 'Rs. 10999', 'Rs. 11999', 'Rs. 9999', 'Rs. 8999', 'Rs. 9999', 'Rs. 11999', 'Rs. 9999', 'Rs. 7999', 'Rs. 8399Rs. 11999', '(30% OFF)', 'Rs. 8799Rs. 10999', '(20% OFF)', 'Rs. 9999', 'Rs. 8999', 'Rs. 7799Rs. 11999', '(35% OFF)', 'Rs. 9999', 'Rs. 10990', 'Rs. 8399Rs. 13999', '(40% OFF)', 'Rs. 8799Rs. 10999', '(20% OFF)', 'Rs. 10999', 'Rs. 9999', 'Rs. 7999', 'Rs. 10999', 'Rs. 8999', 'Rs. 9999', 'Rs. 13999', 'Rs. 10850', 'Rs. 10999', 'Rs. 7999', 'Rs. 8399Rs. 13999', '(40% OFF)', 'Rs. 8999', 'Rs. 8099Rs. 8999', '(10% OFF)', 'Rs. 7799Rs. 12999', '(40% OFF)', 'Rs. 7999', 'Rs. 7999', 'Rs. 11999', 'Rs. 11999', 'Rs. 7999', 'Rs. 7999', 'Rs. 9996Rs. 12495', '(20% OFF)', 'Rs. 7999', 'Rs. 8999', 'Rs. 11990', 'Rs. 8999', 'Rs. 7799Rs. 12999', '(40% OFF)', 'Rs. 9999', 'Rs. 8999', 'Rs. 8999', 'Rs. 7999', 'Rs. 7999Rs. 9999', '(20% OFF)', 'Rs. 11999', 'Rs. 7999', 'Rs. 8290', 'Rs. 7999', 'Rs. 9999', 'Rs. 9099Rs. 12999', '(30% OFF)', 'Rs. 8399Rs. 13999', '(40% OFF)', 'Rs. 8999', 'Rs. 8990', 'Rs. 7999Rs. 19999', '(60% OFF)', 'Rs. 9999', 'Rs. 7999Rs. 19999', '(60% OFF)', 'Rs. 8999', 'Rs. 8999', 'Rs. 7799Rs. 12999', '(40% OFF)', 'Rs. 11999', 'Rs. 7794Rs. 12990', '(40% OFF)', 'Rs. 7999', 'Rs. 10999', 'Rs. 9999', 'Rs. 9099Rs. 12999', '(30% OFF)', 'Rs. 8999', 'Rs. 8999', 'Rs. 9999', 'Rs. 8449Rs. 12999', '(35% OFF)', 'Rs. 7999', 'Rs. 7999', 'Rs. 7995', 'Rs. 7999', 'Rs. 11999', 'Rs. 7999', 'Rs. 7999', 'Rs. 8999', 'Rs. 8499', 'Rs. 7999', 'Rs. 7999']\n"
     ]
    }
   ],
   "source": [
    "# printing all the scrapped data:-\n",
    "\n",
    "# 1.brand:-\n",
    "\n",
    "brand=brand_1+brand_2+brand_3\n",
    "print(brand)\n",
    "\n",
    "print(\"\\n\")\n",
    "\n",
    "\n",
    "# 2.description:-\n",
    "\n",
    "description=description_1+description_2+description_3\n",
    "print(description)\n",
    "\n",
    "print(\"\\n\")\n",
    "\n",
    "# 3.price:-\n",
    "\n",
    "price=price_1+price_2+price_3\n",
    "print(price)"
   ]
  },
  {
   "cell_type": "markdown",
   "metadata": {},
   "source": [
    "# Question:10"
   ]
  },
  {
   "cell_type": "markdown",
   "metadata": {},
   "source": [
    "Q10: Go to webpage https://www.amazon.in/?"
   ]
  },
  {
   "cell_type": "markdown",
   "metadata": {},
   "source": [
    "intel core i7:-"
   ]
  },
  {
   "cell_type": "code",
   "execution_count": 108,
   "metadata": {},
   "outputs": [],
   "source": [
    "# connect to server:-\n",
    "\n",
    "driver=webdriver.Chrome(\"chromedriver.exe\")\n"
   ]
  },
  {
   "cell_type": "code",
   "execution_count": 109,
   "metadata": {},
   "outputs": [],
   "source": [
    "# Enter url:-\n",
    "\n",
    "driver.get(\"https://www.amazon.in/\")\n"
   ]
  },
  {
   "cell_type": "code",
   "execution_count": 110,
   "metadata": {},
   "outputs": [],
   "source": [
    "# finding the product search bar:-\n",
    "\n",
    "search_product=driver.find_element_by_id(\"twotabsearchtextbox\")\n",
    "search_product.send_keys(\"Laptop\")\n"
   ]
  },
  {
   "cell_type": "code",
   "execution_count": 111,
   "metadata": {},
   "outputs": [],
   "source": [
    "# making search click button:-\n",
    "\n",
    "search_button=driver.find_element_by_id(\"nav-search-submit-button\")\n",
    "search_button.click()\n"
   ]
  },
  {
   "cell_type": "code",
   "execution_count": 116,
   "metadata": {},
   "outputs": [],
   "source": [
    "# filter properities:-\n",
    "\n",
    "filter_properity=driver.find_element_by_xpath(\"/html/body/div[1]/div[2]/div[1]/div/div[2]/div/div[3]/span/div[1]/span/div/div/div[5]/ul[1]/li[7]/span/a/div/label/i\")\n",
    "filter_properity.click()\n"
   ]
  },
  {
   "cell_type": "code",
   "execution_count": 117,
   "metadata": {},
   "outputs": [
    {
     "data": {
      "text/plain": [
       "['Lenovo IdeaPad Flex 5 11th Gen Intel Core i7 14-inch FHD IPS 2-in-1 Touchscreen Laptop (16GB/512GB SSD/Win 10/Office 2019/Lenovo Digital Pen Stylus/Fingerprint Reader/Graphite Grey/1.5Kg), 82HS0092IN',\n",
       " 'Lenovo Yoga Slim 7 10th Gen Intel Core i7 14 inch Full HD IPS Thin and Light Laptop (8GB/512GB SSD/Windows 10/MS Office 2019/NVIDIA MX350 2GB GDDR5 Graphics/Slate Grey/1.55Kg), 82A1009KIN',\n",
       " 'Life Digital Laptop 15.6-inch (39.62 cms) (Intel Core i7, 8GB RAM, 512GB SSD, Windows 10), ZED AIR CX7',\n",
       " 'Life Digital Laptop 15.6-inch (39.62 cms) (Intel Core i7, 4GB RAM, 256GB SSD, Windows 10), ZED AIR CX7',\n",
       " 'Lenovo Yoga Slim 7i 11th Gen Intel Core i7 14\" FHD IPS Thin and Light Laptop (16GB/1TB SSD/Win 10/Office/Intel Iris Xe Graphics/Fingerprint/HD IR Camera/Aluminium Surface/Slate Grey/1.36Kg) 82A3009QIN',\n",
       " 'HP Pavilion Gaming 10th Gen Intel Core i7 Processor 15.6-inch FHD Gaming Laptop (16GB/512GB SSD + 32GB Intel Optane/Windows 10/NVIDIA 1650Ti 4GB/Shadow Black), 15-dk1509TX',\n",
       " 'Mi Notebook Horizon Edition 14 Intel Core i5-10210U 10th Gen 14-inch (35.56 cms) Thin and Light Laptop(8GB/512GB SSD/Windows 10/Nvidia MX350 2GB Graphics/Grey/1.35Kg), XMA1904-AR+Webcam',\n",
       " '(Renewed) Dell Latitude E6420 14 Inch Laptop (Core I7 2460M/4GB/320GB/Nvidia Dedicated Graphics/Windows Professional/MS Office), Dark Grey',\n",
       " 'Dell Inspiron 5406 14\" FHD Touch Display 2in1 Laptop (11th Gen i7-1165G7 / 8Gb / 512Gb SSD / Integrated Graphics / Win 10 + MSO / Titan Grey Color / FPR/ Active Pen) D560414WIN9S',\n",
       " '(Renewed) Lenovo T430 14-inch Laptop (Core i7/ 16GB RAM /1TB HDD/Windows 10 Pro/MS Office 2019, Intel Integrated Graphics, PAN INDIA WARRANTY) Black']"
      ]
     },
     "execution_count": 117,
     "metadata": {},
     "output_type": "execute_result"
    }
   ],
   "source": [
    "# tilte:-\n",
    "\n",
    "title=driver.find_elements_by_xpath(\"//h2[@class='a-size-mini a-spacing-none a-color-base s-line-clamp-2']\")\n",
    "title\n",
    "\n",
    "title_1=[]\n",
    "for i in title:\n",
    "    title_1.append(i.text)\n",
    "title_1[:10]"
   ]
  },
  {
   "cell_type": "code",
   "execution_count": 118,
   "metadata": {},
   "outputs": [
    {
     "data": {
      "text/plain": [
       "['83,990',\n",
       " '83,990',\n",
       " '47,050',\n",
       " '42,409',\n",
       " '97,990',\n",
       " '86,926',\n",
       " '49,999',\n",
       " '34,000',\n",
       " '85,990',\n",
       " '37,999']"
      ]
     },
     "execution_count": 118,
     "metadata": {},
     "output_type": "execute_result"
    }
   ],
   "source": [
    "# price:-\n",
    "\n",
    "price=driver.find_elements_by_xpath(\"//span[@class='a-price-whole']\")\n",
    "price\n",
    "\n",
    "price_1=[]\n",
    "for i in price:\n",
    "    price_1.append(i.text)\n",
    "price_1[:10]"
   ]
  },
  {
   "cell_type": "markdown",
   "metadata": {},
   "source": [
    "intel core i9:-"
   ]
  },
  {
   "cell_type": "code",
   "execution_count": 120,
   "metadata": {},
   "outputs": [],
   "source": [
    "# connect to server:-\n",
    "\n",
    "driver=webdriver.Chrome(\"chromedriver.exe\")\n"
   ]
  },
  {
   "cell_type": "code",
   "execution_count": 121,
   "metadata": {},
   "outputs": [],
   "source": [
    "# Enter url:-\n",
    "\n",
    "driver.get(\"https://www.amazon.in/\")\n"
   ]
  },
  {
   "cell_type": "code",
   "execution_count": 122,
   "metadata": {},
   "outputs": [],
   "source": [
    "# finding the product search bar:-\n",
    "\n",
    "search_product=driver.find_element_by_id(\"twotabsearchtextbox\")\n",
    "search_product.send_keys(\"Laptop\")\n"
   ]
  },
  {
   "cell_type": "code",
   "execution_count": 123,
   "metadata": {},
   "outputs": [],
   "source": [
    "# making search click button:-\n",
    "\n",
    "search_button=driver.find_element_by_id(\"nav-search-submit-button\")\n",
    "search_button.click()\n"
   ]
  },
  {
   "cell_type": "code",
   "execution_count": 125,
   "metadata": {},
   "outputs": [],
   "source": [
    "# filter properities:-\n",
    "\n",
    "filter_properity=driver.find_element_by_xpath(\"/html/body/div[1]/div[2]/div[1]/div/div[2]/div/div[3]/span/div[1]/span/div/div/div[5]/ul[1]/li[8]/span/a/div/label/i\")\n",
    "filter_properity.click()\n"
   ]
  },
  {
   "cell_type": "code",
   "execution_count": 126,
   "metadata": {},
   "outputs": [
    {
     "data": {
      "text/plain": [
       "['ASUS ROG Zephyrus Duo 15, 15.6\" FHD 300Hz/3ms, Intel Core i9-10980HK 10th Gen, RTX 2080 SUPER Max-Q 8GB Graphic, Gaming Laptop (32GB/2TB RAID 0 SSD/Office 2019/Windows 10/Gray/2.4 Kg) GX550LXS-HF168TS',\n",
       " 'ASUS ZenBook Pro Duo Intel Core i9-10980HK 10th Gen 15.6\" 4K UHD OLED Touchscreen Laptop (32GB RAM/1TB NVMe SSD/Windows 10/6GB NVIDIA GeForce RTX 2060 Graphics/Celestial Blue/2.5 Kg), UX581LV-H2035T',\n",
       " 'Dell XPS 9570 15.6\" (39.62cms) UHD Laptop (8th Gen i9-8950HK/32GB/1TB SSD/Win 10 + MS Office/Integrated Graphics), Silver',\n",
       " 'Lenovo Legion 7 10th Gen Intel Core i9 15.6 inch Full HD Gaming Laptop (16GB/1TB SSD/Windows 10/MS Office 2019/144 Hz/NVIDIA RTX 2080 8GB GDDR6 Graphics/Slate Grey/2.25Kg), 81YU006HIN',\n",
       " 'ASUS ROG Strix Scar 15 (2020), 15.6\" FHD 300Hz/3ms, Intel Core i9-10980HK 10th Gen, RTX 2070 Super 8GB Graphics, Gaming Laptop (32GB RAM/1TB NVMe SSD/Windows 10/Black/2.35 Kg), G532LWS-HF079T',\n",
       " 'ASUS ROG Strix Scar 17 (2020), 17.3\" FHD 300Hz/3ms, Intel Core i9-10980HK 10th Gen, RTX 2080 Super GDDR6 8GB Graphics, Gaming Laptop (32GB/2TB RAID 0 SSD/Windows 10/Black/2.99 Kg), G732LXS-HG059T',\n",
       " '(Renewed) Dell XPS 9570 Laptop|i9-8950HK|32GB DDR4|1TB SSD|15.6\" 4K Touch|NVIDIA GTX 1050Ti 4GB|Win 10 HSL|Backlit',\n",
       " 'Apple MacBook Pro (16-inch, 16GB RAM, 1TB Storage, 2.3GHz 9th Gen Intel Core i9) - Space Grey',\n",
       " 'HP Z4 Workstation, Intel Core i9-7900X, RAM 32GB (4x8GB), 2TB Hard Disk, GFX NVIDIA Quadro P2000 5GB (4) DP, Windows 10 Pro, DVDRW, 3 Yrs Onsite Warranty by HP']"
      ]
     },
     "execution_count": 126,
     "metadata": {},
     "output_type": "execute_result"
    }
   ],
   "source": [
    "# tilte:-\n",
    "\n",
    "title=driver.find_elements_by_xpath(\"//h2[@class='a-size-mini a-spacing-none a-color-base s-line-clamp-2']\")\n",
    "title\n",
    "\n",
    "title_1=[]\n",
    "for i in title:\n",
    "    title_1.append(i.text)\n",
    "title_1[:10]\n"
   ]
  },
  {
   "cell_type": "code",
   "execution_count": 127,
   "metadata": {},
   "outputs": [
    {
     "data": {
      "text/plain": [
       "['2,66,990',\n",
       " '2,99,325',\n",
       " '2,48,790',\n",
       " '2,62,990',\n",
       " '2,15,990',\n",
       " '2,77,490',\n",
       " '2,15,990',\n",
       " '2,69,900']"
      ]
     },
     "execution_count": 127,
     "metadata": {},
     "output_type": "execute_result"
    }
   ],
   "source": [
    "# price:-\n",
    "\n",
    "price=driver.find_elements_by_xpath(\"//span[@class='a-price-whole']\")\n",
    "price\n",
    "\n",
    "price_1=[]\n",
    "for i in price:\n",
    "    price_1.append(i.text)\n",
    "price_1[:10]\n"
   ]
  },
  {
   "cell_type": "code",
   "execution_count": null,
   "metadata": {},
   "outputs": [],
   "source": []
  }
 ],
 "metadata": {
  "kernelspec": {
   "display_name": "Python 3",
   "language": "python",
   "name": "python3"
  },
  "language_info": {
   "codemirror_mode": {
    "name": "ipython",
    "version": 3
   },
   "file_extension": ".py",
   "mimetype": "text/x-python",
   "name": "python",
   "nbconvert_exporter": "python",
   "pygments_lexer": "ipython3",
   "version": "3.8.3"
  }
 },
 "nbformat": 4,
 "nbformat_minor": 4
}
